{
 "cells": [
  {
   "cell_type": "code",
   "execution_count": 2,
   "id": "6c2e83b6",
   "metadata": {},
   "outputs": [],
   "source": [
    "#Importing libraries\n",
    "import pandas as pd\n",
    "import numpy as np \n",
    "import re\n",
    "import matplotlib.pyplot as plt\n",
    "import seaborn as sns\n",
    "from sklearn import linear_model\n",
    "from scipy import stats\n"
   ]
  },
  {
   "cell_type": "code",
   "execution_count": 3,
   "id": "e38c306a",
   "metadata": {},
   "outputs": [
    {
     "data": {
      "text/html": [
       "<div>\n",
       "<style scoped>\n",
       "    .dataframe tbody tr th:only-of-type {\n",
       "        vertical-align: middle;\n",
       "    }\n",
       "\n",
       "    .dataframe tbody tr th {\n",
       "        vertical-align: top;\n",
       "    }\n",
       "\n",
       "    .dataframe thead th {\n",
       "        text-align: right;\n",
       "    }\n",
       "</style>\n",
       "<table border=\"1\" class=\"dataframe\">\n",
       "  <thead>\n",
       "    <tr style=\"text-align: right;\">\n",
       "      <th></th>\n",
       "      <th>Timestamp</th>\n",
       "      <th>1.Gender</th>\n",
       "      <th>2.Age</th>\n",
       "      <th>3.Occupation:</th>\n",
       "      <th>4.Educational Level:</th>\n",
       "      <th>5.Ethnicity</th>\n",
       "      <th>6.How frequently do you use money remittance services?</th>\n",
       "      <th>7.How many money remittance service(s) do you currently use?</th>\n",
       "      <th>8.Which money remittance service(s) do you  use</th>\n",
       "      <th>9.How did you become aware of the money remittance service(s) you use?</th>\n",
       "      <th>10.How often are you exposed to these advertisements?</th>\n",
       "      <th>11.How would you rate the effectiveness of these advertisements you are exposed to</th>\n",
       "      <th>12.Do you think the content of the advertisements align with your expectations</th>\n",
       "      <th>13.How satisfied are you with the money remittance service you currently use?</th>\n",
       "      <th>Additional Comments</th>\n",
       "    </tr>\n",
       "  </thead>\n",
       "  <tbody>\n",
       "    <tr>\n",
       "      <th>0</th>\n",
       "      <td>2024-01-11 15:30:32.910</td>\n",
       "      <td>Female</td>\n",
       "      <td>45-54</td>\n",
       "      <td>Self-employed</td>\n",
       "      <td>High School</td>\n",
       "      <td>Black or African American</td>\n",
       "      <td>Weekly</td>\n",
       "      <td>1.0</td>\n",
       "      <td>TapTap Send</td>\n",
       "      <td>Word of mouth</td>\n",
       "      <td>Once in a while</td>\n",
       "      <td>5.0</td>\n",
       "      <td>Strongly agree</td>\n",
       "      <td>4.0</td>\n",
       "      <td>NaN</td>\n",
       "    </tr>\n",
       "    <tr>\n",
       "      <th>1</th>\n",
       "      <td>2024-01-11 18:53:30.154</td>\n",
       "      <td>Male</td>\n",
       "      <td>25-34</td>\n",
       "      <td>Employed</td>\n",
       "      <td>College</td>\n",
       "      <td>Black or African American</td>\n",
       "      <td>Occasionally</td>\n",
       "      <td>1.0</td>\n",
       "      <td>World Remit</td>\n",
       "      <td>Social media</td>\n",
       "      <td>Daily</td>\n",
       "      <td>4.0</td>\n",
       "      <td>Strongly agree</td>\n",
       "      <td>4.0</td>\n",
       "      <td>NaN</td>\n",
       "    </tr>\n",
       "    <tr>\n",
       "      <th>2</th>\n",
       "      <td>2024-01-11 18:56:49.446</td>\n",
       "      <td>Female</td>\n",
       "      <td>25-34</td>\n",
       "      <td>Employed</td>\n",
       "      <td>Master's Degree</td>\n",
       "      <td>Black or African American</td>\n",
       "      <td>Weekly</td>\n",
       "      <td>4.0</td>\n",
       "      <td>RIA, World Remit, TapTap Send</td>\n",
       "      <td>Social media</td>\n",
       "      <td>Daily</td>\n",
       "      <td>4.0</td>\n",
       "      <td>Strongly agree</td>\n",
       "      <td>4.0</td>\n",
       "      <td>NaN</td>\n",
       "    </tr>\n",
       "  </tbody>\n",
       "</table>\n",
       "</div>"
      ],
      "text/plain": [
       "                Timestamp 1.Gender  2.Age  3.Occupation: 4.Educational Level:  \\\n",
       "0 2024-01-11 15:30:32.910   Female  45-54  Self-employed          High School   \n",
       "1 2024-01-11 18:53:30.154     Male  25-34       Employed              College   \n",
       "2 2024-01-11 18:56:49.446   Female  25-34       Employed      Master's Degree   \n",
       "\n",
       "                 5.Ethnicity  \\\n",
       "0  Black or African American   \n",
       "1  Black or African American   \n",
       "2  Black or African American   \n",
       "\n",
       "  6.How frequently do you use money remittance services?  \\\n",
       "0                                             Weekly       \n",
       "1                                       Occasionally       \n",
       "2                                             Weekly       \n",
       "\n",
       "   7.How many money remittance service(s) do you currently use?  \\\n",
       "0                                                1.0              \n",
       "1                                                1.0              \n",
       "2                                                4.0              \n",
       "\n",
       "  8.Which money remittance service(s) do you  use  \\\n",
       "0                                     TapTap Send   \n",
       "1                                     World Remit   \n",
       "2                   RIA, World Remit, TapTap Send   \n",
       "\n",
       "  9.How did you become aware of the money remittance service(s) you use?  \\\n",
       "0                                      Word of mouth                       \n",
       "1                                       Social media                       \n",
       "2                                       Social media                       \n",
       "\n",
       "  10.How often are you exposed to these advertisements?  \\\n",
       "0                                    Once in a while      \n",
       "1                                              Daily      \n",
       "2                                              Daily      \n",
       "\n",
       "   11.How would you rate the effectiveness of these advertisements you are exposed to  \\\n",
       "0                                                5.0                                    \n",
       "1                                                4.0                                    \n",
       "2                                                4.0                                    \n",
       "\n",
       "  12.Do you think the content of the advertisements align with your expectations   \\\n",
       "0                                     Strongly agree                                \n",
       "1                                     Strongly agree                                \n",
       "2                                     Strongly agree                                \n",
       "\n",
       "   13.How satisfied are you with the money remittance service you currently use?  \\\n",
       "0                                                4.0                               \n",
       "1                                                4.0                               \n",
       "2                                                4.0                               \n",
       "\n",
       "  Additional Comments  \n",
       "0                 NaN  \n",
       "1                 NaN  \n",
       "2                 NaN  "
      ]
     },
     "execution_count": 3,
     "metadata": {},
     "output_type": "execute_result"
    }
   ],
   "source": [
    "data=pd.read_excel('response.xlsx')\n",
    "data.head(3)"
   ]
  },
  {
   "cell_type": "code",
   "execution_count": 4,
   "id": "23feee40",
   "metadata": {},
   "outputs": [
    {
     "data": {
      "text/plain": [
       "(47, 15)"
      ]
     },
     "execution_count": 4,
     "metadata": {},
     "output_type": "execute_result"
    }
   ],
   "source": [
    "#nbr rows vs columns\n",
    "data.shape"
   ]
  },
  {
   "cell_type": "markdown",
   "id": "d7bcd631",
   "metadata": {},
   "source": [
    "# Data Cleaning"
   ]
  },
  {
   "cell_type": "code",
   "execution_count": 5,
   "id": "1270db94",
   "metadata": {},
   "outputs": [
    {
     "data": {
      "text/html": [
       "<div>\n",
       "<style scoped>\n",
       "    .dataframe tbody tr th:only-of-type {\n",
       "        vertical-align: middle;\n",
       "    }\n",
       "\n",
       "    .dataframe tbody tr th {\n",
       "        vertical-align: top;\n",
       "    }\n",
       "\n",
       "    .dataframe thead th {\n",
       "        text-align: right;\n",
       "    }\n",
       "</style>\n",
       "<table border=\"1\" class=\"dataframe\">\n",
       "  <thead>\n",
       "    <tr style=\"text-align: right;\">\n",
       "      <th></th>\n",
       "      <th>1.Gender</th>\n",
       "      <th>2.Age</th>\n",
       "      <th>3.Occupation:</th>\n",
       "      <th>4.Educational Level:</th>\n",
       "      <th>5.Ethnicity</th>\n",
       "      <th>6.How frequently do you use money remittance services?</th>\n",
       "      <th>7.How many money remittance service(s) do you currently use?</th>\n",
       "      <th>8.Which money remittance service(s) do you  use</th>\n",
       "      <th>9.How did you become aware of the money remittance service(s) you use?</th>\n",
       "      <th>10.How often are you exposed to these advertisements?</th>\n",
       "      <th>11.How would you rate the effectiveness of these advertisements you are exposed to</th>\n",
       "      <th>12.Do you think the content of the advertisements align with your expectations</th>\n",
       "      <th>13.How satisfied are you with the money remittance service you currently use?</th>\n",
       "    </tr>\n",
       "  </thead>\n",
       "  <tbody>\n",
       "    <tr>\n",
       "      <th>0</th>\n",
       "      <td>Female</td>\n",
       "      <td>45-54</td>\n",
       "      <td>Self-employed</td>\n",
       "      <td>High School</td>\n",
       "      <td>Black or African American</td>\n",
       "      <td>Weekly</td>\n",
       "      <td>1.0</td>\n",
       "      <td>TapTap Send</td>\n",
       "      <td>Word of mouth</td>\n",
       "      <td>Once in a while</td>\n",
       "      <td>5.0</td>\n",
       "      <td>Strongly agree</td>\n",
       "      <td>4.0</td>\n",
       "    </tr>\n",
       "    <tr>\n",
       "      <th>1</th>\n",
       "      <td>Male</td>\n",
       "      <td>25-34</td>\n",
       "      <td>Employed</td>\n",
       "      <td>College</td>\n",
       "      <td>Black or African American</td>\n",
       "      <td>Occasionally</td>\n",
       "      <td>1.0</td>\n",
       "      <td>World Remit</td>\n",
       "      <td>Social media</td>\n",
       "      <td>Daily</td>\n",
       "      <td>4.0</td>\n",
       "      <td>Strongly agree</td>\n",
       "      <td>4.0</td>\n",
       "    </tr>\n",
       "    <tr>\n",
       "      <th>2</th>\n",
       "      <td>Female</td>\n",
       "      <td>25-34</td>\n",
       "      <td>Employed</td>\n",
       "      <td>Master's Degree</td>\n",
       "      <td>Black or African American</td>\n",
       "      <td>Weekly</td>\n",
       "      <td>4.0</td>\n",
       "      <td>RIA, World Remit, TapTap Send</td>\n",
       "      <td>Social media</td>\n",
       "      <td>Daily</td>\n",
       "      <td>4.0</td>\n",
       "      <td>Strongly agree</td>\n",
       "      <td>4.0</td>\n",
       "    </tr>\n",
       "  </tbody>\n",
       "</table>\n",
       "</div>"
      ],
      "text/plain": [
       "  1.Gender  2.Age  3.Occupation: 4.Educational Level:  \\\n",
       "0   Female  45-54  Self-employed          High School   \n",
       "1     Male  25-34       Employed              College   \n",
       "2   Female  25-34       Employed      Master's Degree   \n",
       "\n",
       "                 5.Ethnicity  \\\n",
       "0  Black or African American   \n",
       "1  Black or African American   \n",
       "2  Black or African American   \n",
       "\n",
       "  6.How frequently do you use money remittance services?  \\\n",
       "0                                             Weekly       \n",
       "1                                       Occasionally       \n",
       "2                                             Weekly       \n",
       "\n",
       "   7.How many money remittance service(s) do you currently use?  \\\n",
       "0                                                1.0              \n",
       "1                                                1.0              \n",
       "2                                                4.0              \n",
       "\n",
       "  8.Which money remittance service(s) do you  use  \\\n",
       "0                                     TapTap Send   \n",
       "1                                     World Remit   \n",
       "2                   RIA, World Remit, TapTap Send   \n",
       "\n",
       "  9.How did you become aware of the money remittance service(s) you use?  \\\n",
       "0                                      Word of mouth                       \n",
       "1                                       Social media                       \n",
       "2                                       Social media                       \n",
       "\n",
       "  10.How often are you exposed to these advertisements?  \\\n",
       "0                                    Once in a while      \n",
       "1                                              Daily      \n",
       "2                                              Daily      \n",
       "\n",
       "   11.How would you rate the effectiveness of these advertisements you are exposed to  \\\n",
       "0                                                5.0                                    \n",
       "1                                                4.0                                    \n",
       "2                                                4.0                                    \n",
       "\n",
       "  12.Do you think the content of the advertisements align with your expectations   \\\n",
       "0                                     Strongly agree                                \n",
       "1                                     Strongly agree                                \n",
       "2                                     Strongly agree                                \n",
       "\n",
       "   13.How satisfied are you with the money remittance service you currently use?  \n",
       "0                                                4.0                              \n",
       "1                                                4.0                              \n",
       "2                                                4.0                              "
      ]
     },
     "execution_count": 5,
     "metadata": {},
     "output_type": "execute_result"
    }
   ],
   "source": [
    "#Dropping irrelevant columns\n",
    "#Dropping 'Additional Comments' due to lack of data\n",
    "data.drop(['Timestamp','Additional Comments'], inplace=True, axis=1)\n",
    "data.head(3)"
   ]
  },
  {
   "cell_type": "code",
   "execution_count": 6,
   "id": "d34e8bfc",
   "metadata": {},
   "outputs": [],
   "source": [
    "#Remove trailing spaces at the end of columns\n",
    "data.columns = data.columns.str.strip()"
   ]
  },
  {
   "cell_type": "code",
   "execution_count": 7,
   "id": "79188e7e",
   "metadata": {},
   "outputs": [
    {
     "data": {
      "text/html": [
       "<div>\n",
       "<style scoped>\n",
       "    .dataframe tbody tr th:only-of-type {\n",
       "        vertical-align: middle;\n",
       "    }\n",
       "\n",
       "    .dataframe tbody tr th {\n",
       "        vertical-align: top;\n",
       "    }\n",
       "\n",
       "    .dataframe thead th {\n",
       "        text-align: right;\n",
       "    }\n",
       "</style>\n",
       "<table border=\"1\" class=\"dataframe\">\n",
       "  <thead>\n",
       "    <tr style=\"text-align: right;\">\n",
       "      <th></th>\n",
       "      <th>Gender</th>\n",
       "      <th>Age</th>\n",
       "      <th>Occupation</th>\n",
       "      <th>Educational level</th>\n",
       "      <th>Ethnicity</th>\n",
       "      <th>Remittance Frequency</th>\n",
       "      <th>Remittance Service Count</th>\n",
       "      <th>Remittance Service</th>\n",
       "      <th>Ad Channel</th>\n",
       "      <th>Ad Exposure</th>\n",
       "      <th>Ad_Effectiveness rating</th>\n",
       "      <th>Ad_Content_rating</th>\n",
       "      <th>User_Satisfaction</th>\n",
       "    </tr>\n",
       "  </thead>\n",
       "  <tbody>\n",
       "    <tr>\n",
       "      <th>0</th>\n",
       "      <td>Female</td>\n",
       "      <td>45-54</td>\n",
       "      <td>Self-employed</td>\n",
       "      <td>High School</td>\n",
       "      <td>Black or African American</td>\n",
       "      <td>Weekly</td>\n",
       "      <td>1.0</td>\n",
       "      <td>TapTap Send</td>\n",
       "      <td>Word of mouth</td>\n",
       "      <td>Once in a while</td>\n",
       "      <td>5.0</td>\n",
       "      <td>Strongly agree</td>\n",
       "      <td>4.0</td>\n",
       "    </tr>\n",
       "    <tr>\n",
       "      <th>1</th>\n",
       "      <td>Male</td>\n",
       "      <td>25-34</td>\n",
       "      <td>Employed</td>\n",
       "      <td>College</td>\n",
       "      <td>Black or African American</td>\n",
       "      <td>Occasionally</td>\n",
       "      <td>1.0</td>\n",
       "      <td>World Remit</td>\n",
       "      <td>Social media</td>\n",
       "      <td>Daily</td>\n",
       "      <td>4.0</td>\n",
       "      <td>Strongly agree</td>\n",
       "      <td>4.0</td>\n",
       "    </tr>\n",
       "    <tr>\n",
       "      <th>2</th>\n",
       "      <td>Female</td>\n",
       "      <td>25-34</td>\n",
       "      <td>Employed</td>\n",
       "      <td>Master's Degree</td>\n",
       "      <td>Black or African American</td>\n",
       "      <td>Weekly</td>\n",
       "      <td>4.0</td>\n",
       "      <td>RIA, World Remit, TapTap Send</td>\n",
       "      <td>Social media</td>\n",
       "      <td>Daily</td>\n",
       "      <td>4.0</td>\n",
       "      <td>Strongly agree</td>\n",
       "      <td>4.0</td>\n",
       "    </tr>\n",
       "  </tbody>\n",
       "</table>\n",
       "</div>"
      ],
      "text/plain": [
       "   Gender    Age     Occupation Educational level                  Ethnicity  \\\n",
       "0  Female  45-54  Self-employed       High School  Black or African American   \n",
       "1    Male  25-34       Employed           College  Black or African American   \n",
       "2  Female  25-34       Employed   Master's Degree  Black or African American   \n",
       "\n",
       "  Remittance Frequency  Remittance Service Count  \\\n",
       "0               Weekly                       1.0   \n",
       "1         Occasionally                       1.0   \n",
       "2               Weekly                       4.0   \n",
       "\n",
       "              Remittance Service     Ad Channel      Ad Exposure  \\\n",
       "0                    TapTap Send  Word of mouth  Once in a while   \n",
       "1                    World Remit   Social media            Daily   \n",
       "2  RIA, World Remit, TapTap Send   Social media            Daily   \n",
       "\n",
       "   Ad_Effectiveness rating Ad_Content_rating  User_Satisfaction  \n",
       "0                      5.0    Strongly agree                4.0  \n",
       "1                      4.0    Strongly agree                4.0  \n",
       "2                      4.0    Strongly agree                4.0  "
      ]
     },
     "execution_count": 7,
     "metadata": {},
     "output_type": "execute_result"
    }
   ],
   "source": [
    "#Renaming column names to meaningful names\n",
    "columns = [\"Gender\", \"Age\", \"Occupation\", \"Educational level\", \"Ethnicity\", \"Remittance Frequency\",\"Remittance Service Count\",\"Remittance Service\",\"Ad Channel\",\"Ad Exposure\",\"Ad_Effectiveness rating\",\"Ad_Content_rating\",\"User_Satisfaction\"]\n",
    "data.columns = columns\n",
    "data.head(3)"
   ]
  },
  {
   "cell_type": "code",
   "execution_count": 8,
   "id": "d6877d72",
   "metadata": {},
   "outputs": [
    {
     "data": {
      "text/plain": [
       "Gender                      0\n",
       "Age                         0\n",
       "Occupation                  0\n",
       "Educational level           0\n",
       "Ethnicity                   0\n",
       "Remittance Frequency        0\n",
       "Remittance Service Count    2\n",
       "Remittance Service          1\n",
       "Ad Channel                  1\n",
       "Ad Exposure                 0\n",
       "Ad_Effectiveness rating     1\n",
       "Ad_Content_rating           1\n",
       "User_Satisfaction           1\n",
       "dtype: int64"
      ]
     },
     "execution_count": 8,
     "metadata": {},
     "output_type": "execute_result"
    }
   ],
   "source": [
    "#finding columns with null values\n",
    "null_cols = data.isnull().sum()\n",
    "null_cols"
   ]
  },
  {
   "cell_type": "code",
   "execution_count": 9,
   "id": "bf9cfce0",
   "metadata": {},
   "outputs": [
    {
     "data": {
      "text/html": [
       "<div>\n",
       "<style scoped>\n",
       "    .dataframe tbody tr th:only-of-type {\n",
       "        vertical-align: middle;\n",
       "    }\n",
       "\n",
       "    .dataframe tbody tr th {\n",
       "        vertical-align: top;\n",
       "    }\n",
       "\n",
       "    .dataframe thead th {\n",
       "        text-align: right;\n",
       "    }\n",
       "</style>\n",
       "<table border=\"1\" class=\"dataframe\">\n",
       "  <thead>\n",
       "    <tr style=\"text-align: right;\">\n",
       "      <th></th>\n",
       "      <th>Gender</th>\n",
       "      <th>Age</th>\n",
       "      <th>Occupation</th>\n",
       "      <th>Educational level</th>\n",
       "      <th>Ethnicity</th>\n",
       "      <th>Remittance Frequency</th>\n",
       "      <th>Remittance Service Count</th>\n",
       "      <th>Remittance Service</th>\n",
       "      <th>Ad Channel</th>\n",
       "      <th>Ad Exposure</th>\n",
       "      <th>Ad_Effectiveness rating</th>\n",
       "      <th>Ad_Content_rating</th>\n",
       "      <th>User_Satisfaction</th>\n",
       "    </tr>\n",
       "  </thead>\n",
       "  <tbody>\n",
       "    <tr>\n",
       "      <th>16</th>\n",
       "      <td>Female</td>\n",
       "      <td>25-34</td>\n",
       "      <td>Employed</td>\n",
       "      <td>Bachelor's Degree</td>\n",
       "      <td>Black or African American</td>\n",
       "      <td>Rarely</td>\n",
       "      <td>NaN</td>\n",
       "      <td>Other (please specify)</td>\n",
       "      <td>Social media</td>\n",
       "      <td>Once in a while</td>\n",
       "      <td>1.0</td>\n",
       "      <td>Neutral</td>\n",
       "      <td>3.0</td>\n",
       "    </tr>\n",
       "    <tr>\n",
       "      <th>23</th>\n",
       "      <td>Female</td>\n",
       "      <td>35-44</td>\n",
       "      <td>Unemployed</td>\n",
       "      <td>Master's Degree</td>\n",
       "      <td>Asian</td>\n",
       "      <td>Rarely</td>\n",
       "      <td>NaN</td>\n",
       "      <td>Other (please specify)</td>\n",
       "      <td>Online Search</td>\n",
       "      <td>Once in a while</td>\n",
       "      <td>1.0</td>\n",
       "      <td>Neutral</td>\n",
       "      <td>3.0</td>\n",
       "    </tr>\n",
       "  </tbody>\n",
       "</table>\n",
       "</div>"
      ],
      "text/plain": [
       "    Gender    Age  Occupation  Educational level                  Ethnicity  \\\n",
       "16  Female  25-34    Employed  Bachelor's Degree  Black or African American   \n",
       "23  Female  35-44  Unemployed    Master's Degree                      Asian   \n",
       "\n",
       "   Remittance Frequency  Remittance Service Count      Remittance Service  \\\n",
       "16               Rarely                       NaN  Other (please specify)   \n",
       "23               Rarely                       NaN  Other (please specify)   \n",
       "\n",
       "        Ad Channel      Ad Exposure  Ad_Effectiveness rating  \\\n",
       "16    Social media  Once in a while                      1.0   \n",
       "23  Online Search   Once in a while                      1.0   \n",
       "\n",
       "   Ad_Content_rating  User_Satisfaction  \n",
       "16           Neutral                3.0  \n",
       "23           Neutral                3.0  "
      ]
     },
     "execution_count": 9,
     "metadata": {},
     "output_type": "execute_result"
    }
   ],
   "source": [
    "#filtering for rows with no remittance count\n",
    "data[(data['Remittance Service Count'].isnull()==True)]"
   ]
  },
  {
   "cell_type": "code",
   "execution_count": 10,
   "id": "eb7c7a5f",
   "metadata": {},
   "outputs": [],
   "source": [
    "#fill it with zero (Imputation)\n",
    "data['Remittance Service Count'].fillna(0.0, inplace=True)\n",
    "#data.head(2)"
   ]
  },
  {
   "cell_type": "code",
   "execution_count": 11,
   "id": "4dc47466",
   "metadata": {},
   "outputs": [
    {
     "data": {
      "text/html": [
       "<div>\n",
       "<style scoped>\n",
       "    .dataframe tbody tr th:only-of-type {\n",
       "        vertical-align: middle;\n",
       "    }\n",
       "\n",
       "    .dataframe tbody tr th {\n",
       "        vertical-align: top;\n",
       "    }\n",
       "\n",
       "    .dataframe thead th {\n",
       "        text-align: right;\n",
       "    }\n",
       "</style>\n",
       "<table border=\"1\" class=\"dataframe\">\n",
       "  <thead>\n",
       "    <tr style=\"text-align: right;\">\n",
       "      <th></th>\n",
       "      <th>Gender</th>\n",
       "      <th>Age</th>\n",
       "      <th>Occupation</th>\n",
       "      <th>Educational level</th>\n",
       "      <th>Ethnicity</th>\n",
       "      <th>Remittance Frequency</th>\n",
       "      <th>Remittance Service Count</th>\n",
       "      <th>Remittance Service</th>\n",
       "      <th>Ad Channel</th>\n",
       "      <th>Ad Exposure</th>\n",
       "      <th>Ad_Effectiveness rating</th>\n",
       "      <th>Ad_Content_rating</th>\n",
       "      <th>User_Satisfaction</th>\n",
       "    </tr>\n",
       "  </thead>\n",
       "  <tbody>\n",
       "    <tr>\n",
       "      <th>26</th>\n",
       "      <td>Female</td>\n",
       "      <td>25-34</td>\n",
       "      <td>Employed</td>\n",
       "      <td>Master's Degree</td>\n",
       "      <td>Caucasian/White</td>\n",
       "      <td>Rarely</td>\n",
       "      <td>0.0</td>\n",
       "      <td>NaN</td>\n",
       "      <td>NaN</td>\n",
       "      <td>Once in a while</td>\n",
       "      <td>NaN</td>\n",
       "      <td>NaN</td>\n",
       "      <td>NaN</td>\n",
       "    </tr>\n",
       "  </tbody>\n",
       "</table>\n",
       "</div>"
      ],
      "text/plain": [
       "    Gender    Age Occupation Educational level        Ethnicity  \\\n",
       "26  Female  25-34   Employed   Master's Degree  Caucasian/White   \n",
       "\n",
       "   Remittance Frequency  Remittance Service Count Remittance Service  \\\n",
       "26               Rarely                       0.0                NaN   \n",
       "\n",
       "   Ad Channel      Ad Exposure  Ad_Effectiveness rating Ad_Content_rating  \\\n",
       "26        NaN  Once in a while                      NaN               NaN   \n",
       "\n",
       "    User_Satisfaction  \n",
       "26                NaN  "
      ]
     },
     "execution_count": 11,
     "metadata": {},
     "output_type": "execute_result"
    }
   ],
   "source": [
    "#filtering for rows with no remittance service\n",
    "data[(data['Remittance Service'].isnull()==True)]"
   ]
  },
  {
   "cell_type": "code",
   "execution_count": 12,
   "id": "7e2d9895",
   "metadata": {},
   "outputs": [],
   "source": [
    "#droping the row above due to lack of info\n",
    "\n",
    "data.dropna(subset=['Remittance Service'], inplace=True)"
   ]
  },
  {
   "cell_type": "code",
   "execution_count": 13,
   "id": "0d85edad",
   "metadata": {},
   "outputs": [
    {
     "data": {
      "text/plain": [
       "Gender                      0\n",
       "Age                         0\n",
       "Occupation                  0\n",
       "Educational level           0\n",
       "Ethnicity                   0\n",
       "Remittance Frequency        0\n",
       "Remittance Service Count    0\n",
       "Remittance Service          0\n",
       "Ad Channel                  0\n",
       "Ad Exposure                 0\n",
       "Ad_Effectiveness rating     0\n",
       "Ad_Content_rating           0\n",
       "User_Satisfaction           0\n",
       "dtype: int64"
      ]
     },
     "execution_count": 13,
     "metadata": {},
     "output_type": "execute_result"
    }
   ],
   "source": [
    "#finding columns with null values again\n",
    "null_cols = data.isnull().sum()\n",
    "null_cols"
   ]
  },
  {
   "cell_type": "code",
   "execution_count": 14,
   "id": "96496151",
   "metadata": {},
   "outputs": [
    {
     "data": {
      "text/plain": [
       "Gender                       object\n",
       "Age                          object\n",
       "Occupation                   object\n",
       "Educational level            object\n",
       "Ethnicity                    object\n",
       "Remittance Frequency         object\n",
       "Remittance Service Count    float64\n",
       "Remittance Service           object\n",
       "Ad Channel                   object\n",
       "Ad Exposure                  object\n",
       "Ad_Effectiveness rating     float64\n",
       "Ad_Content_rating            object\n",
       "User_Satisfaction           float64\n",
       "dtype: object"
      ]
     },
     "execution_count": 14,
     "metadata": {},
     "output_type": "execute_result"
    }
   ],
   "source": [
    "#Checking data types\n",
    "data.dtypes"
   ]
  },
  {
   "cell_type": "code",
   "execution_count": 15,
   "id": "52db7708",
   "metadata": {},
   "outputs": [
    {
     "data": {
      "text/html": [
       "<div>\n",
       "<style scoped>\n",
       "    .dataframe tbody tr th:only-of-type {\n",
       "        vertical-align: middle;\n",
       "    }\n",
       "\n",
       "    .dataframe tbody tr th {\n",
       "        vertical-align: top;\n",
       "    }\n",
       "\n",
       "    .dataframe thead th {\n",
       "        text-align: right;\n",
       "    }\n",
       "</style>\n",
       "<table border=\"1\" class=\"dataframe\">\n",
       "  <thead>\n",
       "    <tr style=\"text-align: right;\">\n",
       "      <th></th>\n",
       "      <th>Gender</th>\n",
       "      <th>Age</th>\n",
       "      <th>Occupation</th>\n",
       "      <th>Educational level</th>\n",
       "      <th>Ethnicity</th>\n",
       "      <th>Remittance Frequency</th>\n",
       "      <th>Remittance Service Count</th>\n",
       "      <th>Remittance Service</th>\n",
       "      <th>Ad Channel</th>\n",
       "      <th>Ad Exposure</th>\n",
       "      <th>Ad_Effectiveness rating</th>\n",
       "      <th>Ad_Content_rating</th>\n",
       "      <th>User_Satisfaction</th>\n",
       "      <th>Ad_Content_rate</th>\n",
       "    </tr>\n",
       "  </thead>\n",
       "  <tbody>\n",
       "    <tr>\n",
       "      <th>0</th>\n",
       "      <td>Female</td>\n",
       "      <td>45-54</td>\n",
       "      <td>Self-employed</td>\n",
       "      <td>High School</td>\n",
       "      <td>Black or African American</td>\n",
       "      <td>Weekly</td>\n",
       "      <td>1.0</td>\n",
       "      <td>TapTap Send</td>\n",
       "      <td>Word of mouth</td>\n",
       "      <td>Once in a while</td>\n",
       "      <td>5.0</td>\n",
       "      <td>Strongly agree</td>\n",
       "      <td>4.0</td>\n",
       "      <td>5</td>\n",
       "    </tr>\n",
       "    <tr>\n",
       "      <th>1</th>\n",
       "      <td>Male</td>\n",
       "      <td>25-34</td>\n",
       "      <td>Employed</td>\n",
       "      <td>College</td>\n",
       "      <td>Black or African American</td>\n",
       "      <td>Occasionally</td>\n",
       "      <td>1.0</td>\n",
       "      <td>World Remit</td>\n",
       "      <td>Social media</td>\n",
       "      <td>Daily</td>\n",
       "      <td>4.0</td>\n",
       "      <td>Strongly agree</td>\n",
       "      <td>4.0</td>\n",
       "      <td>5</td>\n",
       "    </tr>\n",
       "  </tbody>\n",
       "</table>\n",
       "</div>"
      ],
      "text/plain": [
       "   Gender    Age     Occupation Educational level                  Ethnicity  \\\n",
       "0  Female  45-54  Self-employed       High School  Black or African American   \n",
       "1    Male  25-34       Employed           College  Black or African American   \n",
       "\n",
       "  Remittance Frequency  Remittance Service Count Remittance Service  \\\n",
       "0               Weekly                       1.0        TapTap Send   \n",
       "1         Occasionally                       1.0        World Remit   \n",
       "\n",
       "      Ad Channel      Ad Exposure  Ad_Effectiveness rating Ad_Content_rating  \\\n",
       "0  Word of mouth  Once in a while                      5.0    Strongly agree   \n",
       "1   Social media            Daily                      4.0    Strongly agree   \n",
       "\n",
       "   User_Satisfaction  Ad_Content_rate  \n",
       "0                4.0                5  \n",
       "1                4.0                5  "
      ]
     },
     "execution_count": 15,
     "metadata": {},
     "output_type": "execute_result"
    }
   ],
   "source": [
    "#Represent Ad content rating with the linear scale\n",
    "data['Ad_Content_rate'] = data['Ad_Content_rating'].replace({'Strongly agree':5,'Agree':4,'Neutral':3,'Disagree':2,'Strongly disagree':1})\n",
    "data.head(2)"
   ]
  },
  {
   "cell_type": "code",
   "execution_count": 16,
   "id": "1fdb00ab",
   "metadata": {},
   "outputs": [
    {
     "name": "stdout",
     "output_type": "stream",
     "text": [
      "['Word of mouth' 'Social media'\n",
      " 'Social media, Word of mouth, Online adverstisement'\n",
      " 'TV commercials, Word of mouth, SMS' 'TV commercials, Word of mouth'\n",
      " 'TV commercials,Word of Mouth' 'Online Search ' \"friend's recommendation\"\n",
      " 'Word of mouth, SMS'\n",
      " 'TV commercials, Radio advertisements, Word of mouth' 'Friend advice']\n"
     ]
    }
   ],
   "source": [
    "#Checking for data consistency\n",
    "print(data['Ad Channel'].unique())"
   ]
  },
  {
   "cell_type": "code",
   "execution_count": 17,
   "id": "7139aec0",
   "metadata": {},
   "outputs": [],
   "source": [
    "#Replacing correct data\n",
    "data['Ad Channel'] = data['Ad Channel'].replace({\"friend's recommendation\": \"Word of Mouth\",\"Friend advice\":\"Word of Mouth\",\"Online Search\":\"Online media\",\"Word of mouth\":\"Word of Mouth\",\"Online adverstisement\":\"Online media\"})\n",
    "#data.head(2)"
   ]
  },
  {
   "cell_type": "code",
   "execution_count": 18,
   "id": "04e9ce0c",
   "metadata": {},
   "outputs": [
    {
     "data": {
      "text/plain": [
       "array(['Black or African American', 'Asian', 'Hispanic/Latino',\n",
       "       'Caucasian/White', 'Other (please specify)'], dtype=object)"
      ]
     },
     "execution_count": 18,
     "metadata": {},
     "output_type": "execute_result"
    }
   ],
   "source": [
    "#to explore\n",
    "data['Ethnicity'].unique()"
   ]
  },
  {
   "cell_type": "code",
   "execution_count": 21,
   "id": "fefcd729",
   "metadata": {},
   "outputs": [
    {
     "data": {
      "text/html": [
       "<div>\n",
       "<style scoped>\n",
       "    .dataframe tbody tr th:only-of-type {\n",
       "        vertical-align: middle;\n",
       "    }\n",
       "\n",
       "    .dataframe tbody tr th {\n",
       "        vertical-align: top;\n",
       "    }\n",
       "\n",
       "    .dataframe thead th {\n",
       "        text-align: right;\n",
       "    }\n",
       "</style>\n",
       "<table border=\"1\" class=\"dataframe\">\n",
       "  <thead>\n",
       "    <tr style=\"text-align: right;\">\n",
       "      <th></th>\n",
       "      <th>Gender</th>\n",
       "      <th>Age</th>\n",
       "      <th>Occupation</th>\n",
       "      <th>Educational level</th>\n",
       "      <th>Ethnicity</th>\n",
       "      <th>Remittance Frequency</th>\n",
       "      <th>Remittance Service Count</th>\n",
       "      <th>Remittance Service</th>\n",
       "      <th>Ad Channel</th>\n",
       "      <th>Ad Exposure</th>\n",
       "      <th>Ad_Effectiveness rating</th>\n",
       "      <th>Ad_Content_rating</th>\n",
       "      <th>User_Satisfaction</th>\n",
       "      <th>Ad_Content_rate</th>\n",
       "    </tr>\n",
       "  </thead>\n",
       "  <tbody>\n",
       "    <tr>\n",
       "      <th>27</th>\n",
       "      <td>Female</td>\n",
       "      <td>35-44</td>\n",
       "      <td>Employed</td>\n",
       "      <td>Master's Degree</td>\n",
       "      <td>Other (please specify)</td>\n",
       "      <td>Rarely</td>\n",
       "      <td>1.0</td>\n",
       "      <td>Other (please specify)</td>\n",
       "      <td>Word of Mouth</td>\n",
       "      <td>Daily</td>\n",
       "      <td>1.0</td>\n",
       "      <td>Strongly disagree</td>\n",
       "      <td>3.0</td>\n",
       "      <td>1</td>\n",
       "    </tr>\n",
       "  </tbody>\n",
       "</table>\n",
       "</div>"
      ],
      "text/plain": [
       "    Gender    Age Occupation Educational level               Ethnicity  \\\n",
       "27  Female  35-44   Employed   Master's Degree  Other (please specify)   \n",
       "\n",
       "   Remittance Frequency  Remittance Service Count      Remittance Service  \\\n",
       "27               Rarely                       1.0  Other (please specify)   \n",
       "\n",
       "       Ad Channel Ad Exposure  Ad_Effectiveness rating  Ad_Content_rating  \\\n",
       "27  Word of Mouth       Daily                      1.0  Strongly disagree   \n",
       "\n",
       "    User_Satisfaction  Ad_Content_rate  \n",
       "27                3.0                1  "
      ]
     },
     "execution_count": 21,
     "metadata": {},
     "output_type": "execute_result"
    }
   ],
   "source": [
    "data[data['Ethnicity'] == 'Other (please specify)']\n"
   ]
  },
  {
   "cell_type": "code",
   "execution_count": 47,
   "id": "5ed54fbc",
   "metadata": {},
   "outputs": [],
   "source": [
    "#Saving cleaned data\n",
    "data.to_excel('Cleaned_responses.xlsx', index=False)\n"
   ]
  },
  {
   "cell_type": "markdown",
   "id": "80c74433",
   "metadata": {},
   "source": [
    "# Exploratory Data Analysis"
   ]
  },
  {
   "cell_type": "code",
   "execution_count": 48,
   "id": "1d5e14fb",
   "metadata": {},
   "outputs": [
    {
     "data": {
      "text/html": [
       "<div>\n",
       "<style scoped>\n",
       "    .dataframe tbody tr th:only-of-type {\n",
       "        vertical-align: middle;\n",
       "    }\n",
       "\n",
       "    .dataframe tbody tr th {\n",
       "        vertical-align: top;\n",
       "    }\n",
       "\n",
       "    .dataframe thead th {\n",
       "        text-align: right;\n",
       "    }\n",
       "</style>\n",
       "<table border=\"1\" class=\"dataframe\">\n",
       "  <thead>\n",
       "    <tr style=\"text-align: right;\">\n",
       "      <th></th>\n",
       "      <th>Gender</th>\n",
       "      <th>Age</th>\n",
       "      <th>Occupation</th>\n",
       "      <th>Educational level</th>\n",
       "      <th>Ethnicity</th>\n",
       "      <th>Remittance Frequency</th>\n",
       "      <th>Remittance Service Count</th>\n",
       "      <th>Remittance Service</th>\n",
       "      <th>Ad Channel</th>\n",
       "      <th>Ad Exposure</th>\n",
       "      <th>Ad_Effectiveness rating</th>\n",
       "      <th>Ad_Content_rating</th>\n",
       "      <th>User_Satisfaction</th>\n",
       "      <th>Ad_Content_rate</th>\n",
       "      <th>Ad_Effect/Content</th>\n",
       "    </tr>\n",
       "  </thead>\n",
       "  <tbody>\n",
       "    <tr>\n",
       "      <th>0</th>\n",
       "      <td>Female</td>\n",
       "      <td>45-54</td>\n",
       "      <td>Self-employed</td>\n",
       "      <td>High School</td>\n",
       "      <td>Black or African American</td>\n",
       "      <td>Weekly</td>\n",
       "      <td>1.0</td>\n",
       "      <td>TapTap Send</td>\n",
       "      <td>Word of Mouth</td>\n",
       "      <td>Once in a while</td>\n",
       "      <td>5.0</td>\n",
       "      <td>Strongly agree</td>\n",
       "      <td>4.0</td>\n",
       "      <td>5</td>\n",
       "      <td>5.0</td>\n",
       "    </tr>\n",
       "    <tr>\n",
       "      <th>1</th>\n",
       "      <td>Male</td>\n",
       "      <td>25-34</td>\n",
       "      <td>Employed</td>\n",
       "      <td>College</td>\n",
       "      <td>Black or African American</td>\n",
       "      <td>Occasionally</td>\n",
       "      <td>1.0</td>\n",
       "      <td>World Remit</td>\n",
       "      <td>Social media</td>\n",
       "      <td>Daily</td>\n",
       "      <td>4.0</td>\n",
       "      <td>Strongly agree</td>\n",
       "      <td>4.0</td>\n",
       "      <td>5</td>\n",
       "      <td>4.5</td>\n",
       "    </tr>\n",
       "  </tbody>\n",
       "</table>\n",
       "</div>"
      ],
      "text/plain": [
       "   Gender    Age     Occupation Educational level                  Ethnicity  \\\n",
       "0  Female  45-54  Self-employed       High School  Black or African American   \n",
       "1    Male  25-34       Employed           College  Black or African American   \n",
       "\n",
       "  Remittance Frequency  Remittance Service Count Remittance Service  \\\n",
       "0               Weekly                       1.0        TapTap Send   \n",
       "1         Occasionally                       1.0        World Remit   \n",
       "\n",
       "      Ad Channel      Ad Exposure  Ad_Effectiveness rating Ad_Content_rating  \\\n",
       "0  Word of Mouth  Once in a while                      5.0    Strongly agree   \n",
       "1   Social media            Daily                      4.0    Strongly agree   \n",
       "\n",
       "   User_Satisfaction  Ad_Content_rate  Ad_Effect/Content  \n",
       "0                4.0                5                5.0  \n",
       "1                4.0                5                4.5  "
      ]
     },
     "execution_count": 48,
     "metadata": {},
     "output_type": "execute_result"
    }
   ],
   "source": [
    "#Create a new column which is Ad_Effect/Content Ratio \n",
    "\n",
    "data['Ad_Effect/Content'] = (data['Ad_Effectiveness rating']+ data['Ad_Content_rate'])/2\n",
    "data.head(2)"
   ]
  },
  {
   "cell_type": "code",
   "execution_count": 49,
   "id": "f61982c7",
   "metadata": {},
   "outputs": [],
   "source": [
    "#Represent Ad Channel with standard names\n",
    "#Create a function for media classification ===Delete mistake\n",
    "def ad(row):\n",
    "    if (row['Ad Channel'] == 'Word of mouth') or ((row['Ad Channel'] == 'Radio advertisements') or (row['Ad Channel'] == 'TV commercials')):\n",
    "        return 'Traditional Media'\n",
    "    elif row['Ad Channel'] == 'Social media':\n",
    "        return 'Online Media'\n",
    "    else:\n",
    "        return 'Mixed Media'\n",
    "\n",
    "data['Ad Channel type'] = data.apply(ad, axis=1)"
   ]
  },
  {
   "cell_type": "code",
   "execution_count": 50,
   "id": "f06f3456",
   "metadata": {},
   "outputs": [
    {
     "data": {
      "text/html": [
       "<div>\n",
       "<style scoped>\n",
       "    .dataframe tbody tr th:only-of-type {\n",
       "        vertical-align: middle;\n",
       "    }\n",
       "\n",
       "    .dataframe tbody tr th {\n",
       "        vertical-align: top;\n",
       "    }\n",
       "\n",
       "    .dataframe thead th {\n",
       "        text-align: right;\n",
       "    }\n",
       "</style>\n",
       "<table border=\"1\" class=\"dataframe\">\n",
       "  <thead>\n",
       "    <tr style=\"text-align: right;\">\n",
       "      <th></th>\n",
       "      <th>Gender</th>\n",
       "      <th>Age</th>\n",
       "      <th>Occupation</th>\n",
       "      <th>Educational level</th>\n",
       "      <th>Ethnicity</th>\n",
       "      <th>Remittance Frequency</th>\n",
       "      <th>Remittance Service Count</th>\n",
       "      <th>Remittance Service</th>\n",
       "      <th>Ad Channel</th>\n",
       "      <th>Ad Exposure</th>\n",
       "      <th>Ad_Effectiveness rating</th>\n",
       "      <th>Ad_Content_rating</th>\n",
       "      <th>User_Satisfaction</th>\n",
       "      <th>Ad_Content_rate</th>\n",
       "      <th>Ad_Effect/Content</th>\n",
       "      <th>Ad Channel type</th>\n",
       "    </tr>\n",
       "  </thead>\n",
       "  <tbody>\n",
       "    <tr>\n",
       "      <th>0</th>\n",
       "      <td>Female</td>\n",
       "      <td>45-54</td>\n",
       "      <td>Self-employed</td>\n",
       "      <td>High School</td>\n",
       "      <td>Black or African American</td>\n",
       "      <td>Weekly</td>\n",
       "      <td>1.0</td>\n",
       "      <td>TapTap Send</td>\n",
       "      <td>Word of Mouth</td>\n",
       "      <td>Once in a while</td>\n",
       "      <td>5.0</td>\n",
       "      <td>Strongly agree</td>\n",
       "      <td>4.0</td>\n",
       "      <td>5</td>\n",
       "      <td>5.0</td>\n",
       "      <td>Mixed Media</td>\n",
       "    </tr>\n",
       "    <tr>\n",
       "      <th>1</th>\n",
       "      <td>Male</td>\n",
       "      <td>25-34</td>\n",
       "      <td>Employed</td>\n",
       "      <td>College</td>\n",
       "      <td>Black or African American</td>\n",
       "      <td>Occasionally</td>\n",
       "      <td>1.0</td>\n",
       "      <td>World Remit</td>\n",
       "      <td>Social media</td>\n",
       "      <td>Daily</td>\n",
       "      <td>4.0</td>\n",
       "      <td>Strongly agree</td>\n",
       "      <td>4.0</td>\n",
       "      <td>5</td>\n",
       "      <td>4.5</td>\n",
       "      <td>Online Media</td>\n",
       "    </tr>\n",
       "    <tr>\n",
       "      <th>2</th>\n",
       "      <td>Female</td>\n",
       "      <td>25-34</td>\n",
       "      <td>Employed</td>\n",
       "      <td>Master's Degree</td>\n",
       "      <td>Black or African American</td>\n",
       "      <td>Weekly</td>\n",
       "      <td>4.0</td>\n",
       "      <td>RIA, World Remit, TapTap Send</td>\n",
       "      <td>Social media</td>\n",
       "      <td>Daily</td>\n",
       "      <td>4.0</td>\n",
       "      <td>Strongly agree</td>\n",
       "      <td>4.0</td>\n",
       "      <td>5</td>\n",
       "      <td>4.5</td>\n",
       "      <td>Online Media</td>\n",
       "    </tr>\n",
       "    <tr>\n",
       "      <th>3</th>\n",
       "      <td>Female</td>\n",
       "      <td>25-34</td>\n",
       "      <td>Employed</td>\n",
       "      <td>Bachelor's Degree</td>\n",
       "      <td>Black or African American</td>\n",
       "      <td>Weekly</td>\n",
       "      <td>2.0</td>\n",
       "      <td>World Remit, TapTap Send</td>\n",
       "      <td>Social media</td>\n",
       "      <td>Daily</td>\n",
       "      <td>5.0</td>\n",
       "      <td>Strongly agree</td>\n",
       "      <td>4.0</td>\n",
       "      <td>5</td>\n",
       "      <td>5.0</td>\n",
       "      <td>Online Media</td>\n",
       "    </tr>\n",
       "    <tr>\n",
       "      <th>4</th>\n",
       "      <td>Male</td>\n",
       "      <td>35-44</td>\n",
       "      <td>Employed</td>\n",
       "      <td>Master's Degree</td>\n",
       "      <td>Black or African American</td>\n",
       "      <td>Weekly</td>\n",
       "      <td>4.0</td>\n",
       "      <td>RIA, World Remit, TapTap Send</td>\n",
       "      <td>Social media, Word of mouth, Online adverstise...</td>\n",
       "      <td>Daily</td>\n",
       "      <td>4.0</td>\n",
       "      <td>Strongly agree</td>\n",
       "      <td>4.0</td>\n",
       "      <td>5</td>\n",
       "      <td>4.5</td>\n",
       "      <td>Mixed Media</td>\n",
       "    </tr>\n",
       "  </tbody>\n",
       "</table>\n",
       "</div>"
      ],
      "text/plain": [
       "   Gender    Age     Occupation  Educational level                  Ethnicity  \\\n",
       "0  Female  45-54  Self-employed        High School  Black or African American   \n",
       "1    Male  25-34       Employed            College  Black or African American   \n",
       "2  Female  25-34       Employed    Master's Degree  Black or African American   \n",
       "3  Female  25-34       Employed  Bachelor's Degree  Black or African American   \n",
       "4    Male  35-44       Employed    Master's Degree  Black or African American   \n",
       "\n",
       "  Remittance Frequency  Remittance Service Count  \\\n",
       "0               Weekly                       1.0   \n",
       "1         Occasionally                       1.0   \n",
       "2               Weekly                       4.0   \n",
       "3               Weekly                       2.0   \n",
       "4               Weekly                       4.0   \n",
       "\n",
       "              Remittance Service  \\\n",
       "0                    TapTap Send   \n",
       "1                    World Remit   \n",
       "2  RIA, World Remit, TapTap Send   \n",
       "3       World Remit, TapTap Send   \n",
       "4  RIA, World Remit, TapTap Send   \n",
       "\n",
       "                                          Ad Channel      Ad Exposure  \\\n",
       "0                                      Word of Mouth  Once in a while   \n",
       "1                                       Social media            Daily   \n",
       "2                                       Social media            Daily   \n",
       "3                                       Social media            Daily   \n",
       "4  Social media, Word of mouth, Online adverstise...            Daily   \n",
       "\n",
       "   Ad_Effectiveness rating Ad_Content_rating  User_Satisfaction  \\\n",
       "0                      5.0    Strongly agree                4.0   \n",
       "1                      4.0    Strongly agree                4.0   \n",
       "2                      4.0    Strongly agree                4.0   \n",
       "3                      5.0    Strongly agree                4.0   \n",
       "4                      4.0    Strongly agree                4.0   \n",
       "\n",
       "   Ad_Content_rate  Ad_Effect/Content Ad Channel type  \n",
       "0                5                5.0     Mixed Media  \n",
       "1                5                4.5    Online Media  \n",
       "2                5                4.5    Online Media  \n",
       "3                5                5.0    Online Media  \n",
       "4                5                4.5     Mixed Media  "
      ]
     },
     "execution_count": 50,
     "metadata": {},
     "output_type": "execute_result"
    }
   ],
   "source": [
    "data.head()"
   ]
  },
  {
   "cell_type": "code",
   "execution_count": 51,
   "id": "8b15c13e",
   "metadata": {},
   "outputs": [
    {
     "data": {
      "text/plain": [
       "Ad Channel type\n",
       "Mixed Media     26\n",
       "Online Media    20\n",
       "Name: count, dtype: int64"
      ]
     },
     "execution_count": 51,
     "metadata": {},
     "output_type": "execute_result"
    }
   ],
   "source": [
    "data['Ad Channel type'].value_counts()"
   ]
  },
  {
   "cell_type": "code",
   "execution_count": 23,
   "id": "c0c352cc",
   "metadata": {},
   "outputs": [
    {
     "data": {
      "text/html": [
       "<div>\n",
       "<style scoped>\n",
       "    .dataframe tbody tr th:only-of-type {\n",
       "        vertical-align: middle;\n",
       "    }\n",
       "\n",
       "    .dataframe tbody tr th {\n",
       "        vertical-align: top;\n",
       "    }\n",
       "\n",
       "    .dataframe thead th {\n",
       "        text-align: right;\n",
       "    }\n",
       "</style>\n",
       "<table border=\"1\" class=\"dataframe\">\n",
       "  <thead>\n",
       "    <tr style=\"text-align: right;\">\n",
       "      <th></th>\n",
       "      <th>Gender</th>\n",
       "      <th>Age</th>\n",
       "      <th>Occupation</th>\n",
       "      <th>Educational level</th>\n",
       "      <th>Ethnicity</th>\n",
       "      <th>Remittance Frequency</th>\n",
       "      <th>Remittance Service Count</th>\n",
       "      <th>Ad Exposure</th>\n",
       "      <th>Ad_Effectiveness rating</th>\n",
       "      <th>User_Satisfaction</th>\n",
       "      <th>Ad_Content_rate</th>\n",
       "      <th>Ad Channel type</th>\n",
       "      <th>Ad_Effect/Content</th>\n",
       "    </tr>\n",
       "  </thead>\n",
       "  <tbody>\n",
       "    <tr>\n",
       "      <th>0</th>\n",
       "      <td>Female</td>\n",
       "      <td>45-54</td>\n",
       "      <td>Self-employed</td>\n",
       "      <td>High School</td>\n",
       "      <td>Black or African American</td>\n",
       "      <td>Weekly</td>\n",
       "      <td>1.0</td>\n",
       "      <td>Once in a while</td>\n",
       "      <td>5.0</td>\n",
       "      <td>4.0</td>\n",
       "      <td>5</td>\n",
       "      <td>Traditional Media</td>\n",
       "      <td>5.0</td>\n",
       "    </tr>\n",
       "    <tr>\n",
       "      <th>1</th>\n",
       "      <td>Male</td>\n",
       "      <td>25-34</td>\n",
       "      <td>Employed</td>\n",
       "      <td>College</td>\n",
       "      <td>Black or African American</td>\n",
       "      <td>Occasionally</td>\n",
       "      <td>1.0</td>\n",
       "      <td>Daily</td>\n",
       "      <td>4.0</td>\n",
       "      <td>4.0</td>\n",
       "      <td>5</td>\n",
       "      <td>Online Media</td>\n",
       "      <td>4.5</td>\n",
       "    </tr>\n",
       "  </tbody>\n",
       "</table>\n",
       "</div>"
      ],
      "text/plain": [
       "   Gender    Age     Occupation Educational level                  Ethnicity  \\\n",
       "0  Female  45-54  Self-employed       High School  Black or African American   \n",
       "1    Male  25-34       Employed           College  Black or African American   \n",
       "\n",
       "  Remittance Frequency  Remittance Service Count      Ad Exposure  \\\n",
       "0               Weekly                       1.0  Once in a while   \n",
       "1         Occasionally                       1.0            Daily   \n",
       "\n",
       "   Ad_Effectiveness rating  User_Satisfaction  Ad_Content_rate  \\\n",
       "0                      5.0                4.0                5   \n",
       "1                      4.0                4.0                5   \n",
       "\n",
       "     Ad Channel type  Ad_Effect/Content  \n",
       "0  Traditional Media                5.0  \n",
       "1       Online Media                4.5  "
      ]
     },
     "execution_count": 23,
     "metadata": {},
     "output_type": "execute_result"
    }
   ],
   "source": [
    "#Create a new dataframe for easier analysis\n",
    "Data_2=data[[\"Gender\", \"Age\", \"Occupation\", \"Educational level\", \"Ethnicity\", \"Remittance Frequency\",\"Remittance Service Count\",\"Ad Exposure\",\"Ad_Effectiveness rating\",\"User_Satisfaction\",\"Ad_Content_rate\",\"Ad Channel type\",\"Ad_Effect/Content\"]]\n",
    "Data_2.head(2)"
   ]
  },
  {
   "cell_type": "code",
   "execution_count": 24,
   "id": "b36bbdf0",
   "metadata": {},
   "outputs": [
    {
     "data": {
      "text/plain": [
       "Gender  Ethnicity                \n",
       "Male    Black or African American    13\n",
       "Female  Black or African American    11\n",
       "Male    Hispanic/Latino               7\n",
       "Female  Asian                         4\n",
       "Male    Asian                         4\n",
       "Female  Caucasian/White               2\n",
       "        Hispanic/Latino               2\n",
       "Male    Caucasian/White               2\n",
       "Female  Other (please specify)        1\n",
       "Name: count, dtype: int64"
      ]
     },
     "execution_count": 24,
     "metadata": {},
     "output_type": "execute_result"
    }
   ],
   "source": [
    "#to find which gender and ethnicity remits\n",
    "Gender_count=Data_2[['Gender','Ethnicity']].value_counts()\n",
    "Gender_count"
   ]
  },
  {
   "cell_type": "code",
   "execution_count": 28,
   "id": "4c2d344f",
   "metadata": {},
   "outputs": [
    {
     "data": {
      "image/png": "[encoded data removed]",
      "text/plain": [
       "<Figure size 640x480 with 1 Axes>"
      ]
     },
     "metadata": {},
     "output_type": "display_data"
    }
   ],
   "source": [
    "#visually\n",
    "Data_2['Gender'].value_counts().plot.bar()\n",
    "plt.xlabel('Gender')\n",
    "plt.ylabel('Count')\n",
    "\n",
    "plt.title('Distribution of Gender')\n",
    "\n",
    "plt.show()"
   ]
  },
  {
   "cell_type": "code",
   "execution_count": 51,
   "id": "6b3fbdd7",
   "metadata": {},
   "outputs": [
    {
     "data": {
      "text/plain": [
       "Ethnicity\n",
       "Black or African American    24\n",
       "Hispanic/Latino               9\n",
       "Asian                         8\n",
       "Caucasian/White               4\n",
       "Other (please specify)        1\n",
       "Name: count, dtype: int64"
      ]
     },
     "execution_count": 51,
     "metadata": {},
     "output_type": "execute_result"
    }
   ],
   "source": [
    "#Ethninicity count\n",
    "Data_2[\"Ethnicity\"].value_counts()"
   ]
  },
  {
   "cell_type": "code",
   "execution_count": 30,
   "id": "a4643786",
   "metadata": {},
   "outputs": [
    {
     "data": {
      "image/png": "[encoded data removed]",
      "text/plain": [
       "<Figure size 640x480 with 1 Axes>"
      ]
     },
     "metadata": {},
     "output_type": "display_data"
    }
   ],
   "source": [
    "#visually\n",
    "sns.countplot(x='Ethnicity', data=Data_2)\n",
    "\n",
    "plt.title('Distribution of Ethnic Groups')\n",
    "plt.xticks(rotation=90)\n",
    "\n",
    "plt.show()"
   ]
  },
  {
   "cell_type": "code",
   "execution_count": 25,
   "id": "966acd93",
   "metadata": {},
   "outputs": [
    {
     "data": {
      "text/plain": [
       "Occupation     Educational level\n",
       "Employed       Master's Degree      12\n",
       "               Bachelor's Degree    11\n",
       "               College              11\n",
       "               Doctorate             2\n",
       "Self-employed  Bachelor's Degree     2\n",
       "               College               2\n",
       "               High School           2\n",
       "Employed       High School           1\n",
       "Retired        Bachelor's Degree     1\n",
       "               Master's Degree       1\n",
       "Unemployed     Master's Degree       1\n",
       "Name: count, dtype: int64"
      ]
     },
     "execution_count": 25,
     "metadata": {},
     "output_type": "execute_result"
    }
   ],
   "source": [
    "#to find occupation and educational count\n",
    "Occupation_count=Data_2[['Occupation','Educational level']].value_counts()\n",
    "Occupation_count"
   ]
  },
  {
   "cell_type": "code",
   "execution_count": 26,
   "id": "a1838fd7",
   "metadata": {},
   "outputs": [
    {
     "data": {
      "text/plain": [
       "Remittance Frequency\n",
       "Monthly         26\n",
       "Weekly           9\n",
       "Rarely           6\n",
       "Occasionally     5\n",
       "Name: count, dtype: int64"
      ]
     },
     "execution_count": 26,
     "metadata": {},
     "output_type": "execute_result"
    }
   ],
   "source": [
    "#This is to find remittance count\n",
    "Remittance_count=Data_2['Remittance Frequency'].value_counts()\n",
    "Remittance_count"
   ]
  },
  {
   "cell_type": "code",
   "execution_count": 32,
   "id": "bb7ffc1e",
   "metadata": {},
   "outputs": [
    {
     "data": {
      "image/png": "[encoded data removed]",
      "text/plain": [
       "<Figure size 640x480 with 1 Axes>"
      ]
     },
     "metadata": {},
     "output_type": "display_data"
    }
   ],
   "source": [
    "#visually\n",
    "sns.countplot(x='Remittance Frequency', data=Data_2)\n",
    "\n",
    "plt.title('Remittance Frequency')\n",
    "#plt.xticks(rotation=90)\n",
    "\n",
    "plt.show()"
   ]
  },
  {
   "cell_type": "code",
   "execution_count": 33,
   "id": "a4039230",
   "metadata": {},
   "outputs": [
    {
     "data": {
      "text/plain": [
       "Ad Channel type\n",
       "Online Media         20\n",
       "Mixed Media          17\n",
       "Traditional Media     9\n",
       "Name: count, dtype: int64"
      ]
     },
     "execution_count": 33,
     "metadata": {},
     "output_type": "execute_result"
    }
   ],
   "source": [
    "#This is to find Ad channel count\n",
    "Chanel_count=Data_2['Ad Channel type'].value_counts()\n",
    "Chanel_count"
   ]
  },
  {
   "cell_type": "code",
   "execution_count": 52,
   "id": "c3aa0b1d",
   "metadata": {},
   "outputs": [
    {
     "ename": "NameError",
     "evalue": "name 'Data_2' is not defined",
     "output_type": "error",
     "traceback": [
      "\u001b[1;31m---------------------------------------------------------------------------\u001b[0m",
      "\u001b[1;31mNameError\u001b[0m                                 Traceback (most recent call last)",
      "Cell \u001b[1;32mIn[52], line 2\u001b[0m\n\u001b[0;32m      1\u001b[0m \u001b[38;5;66;03m#visually\u001b[39;00m\n\u001b[1;32m----> 2\u001b[0m sns\u001b[38;5;241m.\u001b[39mcountplot(x\u001b[38;5;241m=\u001b[39m\u001b[38;5;124m'\u001b[39m\u001b[38;5;124mAd Channel type\u001b[39m\u001b[38;5;124m'\u001b[39m, data\u001b[38;5;241m=\u001b[39mData_2)\n\u001b[0;32m      4\u001b[0m plt\u001b[38;5;241m.\u001b[39mtitle(\u001b[38;5;124m'\u001b[39m\u001b[38;5;124mDistribution of Ad Channels\u001b[39m\u001b[38;5;124m'\u001b[39m)\n\u001b[0;32m      5\u001b[0m \u001b[38;5;66;03m#plt.xticks(rotation=90)\u001b[39;00m\n",
      "\u001b[1;31mNameError\u001b[0m: name 'Data_2' is not defined"
     ]
    }
   ],
   "source": [
    "#visually\n",
    "sns.countplot(x='Ad Channel type', data=Data_2)\n",
    "\n",
    "plt.title('Distribution of Ad Channels')\n",
    "#plt.xticks(rotation=90)\n",
    "\n",
    "plt.show()"
   ]
  },
  {
   "cell_type": "code",
   "execution_count": 35,
   "id": "9916a5d6",
   "metadata": {},
   "outputs": [
    {
     "data": {
      "image/png": "[encoded data removed]",
      "text/plain": [
       "<Figure size 640x480 with 1 Axes>"
      ]
     },
     "metadata": {},
     "output_type": "display_data"
    }
   ],
   "source": [
    "#Age Distribution\n",
    "sns.countplot(x='Age', data=Data_2)\n",
    "\n",
    "plt.title('Age Distribution')\n",
    "#plt.xticks(rotation=90)\n",
    "\n",
    "plt.show()"
   ]
  },
  {
   "cell_type": "code",
   "execution_count": 36,
   "id": "e7cf64ad",
   "metadata": {},
   "outputs": [
    {
     "data": {
      "text/plain": [
       "Educational level\n",
       "Master's Degree      14\n",
       "Bachelor's Degree    14\n",
       "College              13\n",
       "High School           3\n",
       "Doctorate             2\n",
       "Name: count, dtype: int64"
      ]
     },
     "execution_count": 36,
     "metadata": {},
     "output_type": "execute_result"
    }
   ],
   "source": [
    "#educational level\n",
    "Data_2['Educational level'].value_counts()"
   ]
  },
  {
   "cell_type": "code",
   "execution_count": 38,
   "id": "01c025b8",
   "metadata": {},
   "outputs": [
    {
     "data": {
      "image/png": "[encoded data removed]",
      "text/plain": [
       "<Figure size 640x480 with 1 Axes>"
      ]
     },
     "metadata": {},
     "output_type": "display_data"
    }
   ],
   "source": [
    "# visually Educational level\n",
    "sns.countplot(x='Educational level', data=Data_2)\n",
    "\n",
    "plt.title('Distribution of Educational Background')\n",
    "plt.xticks(rotation=90)\n",
    "\n",
    "plt.show()"
   ]
  },
  {
   "cell_type": "code",
   "execution_count": 39,
   "id": "05dd1af6",
   "metadata": {},
   "outputs": [
    {
     "data": {
      "text/html": [
       "<div>\n",
       "<style scoped>\n",
       "    .dataframe tbody tr th:only-of-type {\n",
       "        vertical-align: middle;\n",
       "    }\n",
       "\n",
       "    .dataframe tbody tr th {\n",
       "        vertical-align: top;\n",
       "    }\n",
       "\n",
       "    .dataframe thead th {\n",
       "        text-align: right;\n",
       "    }\n",
       "</style>\n",
       "<table border=\"1\" class=\"dataframe\">\n",
       "  <thead>\n",
       "    <tr style=\"text-align: right;\">\n",
       "      <th></th>\n",
       "      <th>Gender</th>\n",
       "      <th>Ethnicity</th>\n",
       "      <th>Remittance Service Count</th>\n",
       "    </tr>\n",
       "  </thead>\n",
       "  <tbody>\n",
       "    <tr>\n",
       "      <th>0</th>\n",
       "      <td>Female</td>\n",
       "      <td>Asian</td>\n",
       "      <td>1.000000</td>\n",
       "    </tr>\n",
       "    <tr>\n",
       "      <th>1</th>\n",
       "      <td>Female</td>\n",
       "      <td>Black or African American</td>\n",
       "      <td>1.636364</td>\n",
       "    </tr>\n",
       "    <tr>\n",
       "      <th>2</th>\n",
       "      <td>Female</td>\n",
       "      <td>Caucasian/White</td>\n",
       "      <td>1.000000</td>\n",
       "    </tr>\n",
       "    <tr>\n",
       "      <th>3</th>\n",
       "      <td>Female</td>\n",
       "      <td>Hispanic/Latino</td>\n",
       "      <td>2.500000</td>\n",
       "    </tr>\n",
       "    <tr>\n",
       "      <th>4</th>\n",
       "      <td>Female</td>\n",
       "      <td>Other (please specify)</td>\n",
       "      <td>1.000000</td>\n",
       "    </tr>\n",
       "    <tr>\n",
       "      <th>5</th>\n",
       "      <td>Male</td>\n",
       "      <td>Asian</td>\n",
       "      <td>1.000000</td>\n",
       "    </tr>\n",
       "    <tr>\n",
       "      <th>6</th>\n",
       "      <td>Male</td>\n",
       "      <td>Black or African American</td>\n",
       "      <td>1.769231</td>\n",
       "    </tr>\n",
       "    <tr>\n",
       "      <th>7</th>\n",
       "      <td>Male</td>\n",
       "      <td>Caucasian/White</td>\n",
       "      <td>1.000000</td>\n",
       "    </tr>\n",
       "    <tr>\n",
       "      <th>8</th>\n",
       "      <td>Male</td>\n",
       "      <td>Hispanic/Latino</td>\n",
       "      <td>1.142857</td>\n",
       "    </tr>\n",
       "  </tbody>\n",
       "</table>\n",
       "</div>"
      ],
      "text/plain": [
       "   Gender                  Ethnicity  Remittance Service Count\n",
       "0  Female                      Asian                  1.000000\n",
       "1  Female  Black or African American                  1.636364\n",
       "2  Female            Caucasian/White                  1.000000\n",
       "3  Female            Hispanic/Latino                  2.500000\n",
       "4  Female     Other (please specify)                  1.000000\n",
       "5    Male                      Asian                  1.000000\n",
       "6    Male  Black or African American                  1.769231\n",
       "7    Male            Caucasian/White                  1.000000\n",
       "8    Male            Hispanic/Latino                  1.142857"
      ]
     },
     "execution_count": 39,
     "metadata": {},
     "output_type": "execute_result"
    }
   ],
   "source": [
    "#This is to find to find average remittance apps used amongst Gender and ethnicity\n",
    "Data_2.groupby(['Gender','Ethnicity']).agg({'Remittance Service Count':\"mean\"}).reset_index()\n"
   ]
  },
  {
   "cell_type": "code",
   "execution_count": 40,
   "id": "a3c1d2e9",
   "metadata": {},
   "outputs": [
    {
     "data": {
      "text/html": [
       "<div>\n",
       "<style scoped>\n",
       "    .dataframe tbody tr th:only-of-type {\n",
       "        vertical-align: middle;\n",
       "    }\n",
       "\n",
       "    .dataframe tbody tr th {\n",
       "        vertical-align: top;\n",
       "    }\n",
       "\n",
       "    .dataframe thead th {\n",
       "        text-align: right;\n",
       "    }\n",
       "</style>\n",
       "<table border=\"1\" class=\"dataframe\">\n",
       "  <thead>\n",
       "    <tr style=\"text-align: right;\">\n",
       "      <th></th>\n",
       "      <th></th>\n",
       "      <th>Ad_Effect/Content</th>\n",
       "      <th>User_Satisfaction</th>\n",
       "    </tr>\n",
       "    <tr>\n",
       "      <th>Gender</th>\n",
       "      <th>Ethnicity</th>\n",
       "      <th></th>\n",
       "      <th></th>\n",
       "    </tr>\n",
       "  </thead>\n",
       "  <tbody>\n",
       "    <tr>\n",
       "      <th rowspan=\"5\" valign=\"top\">Female</th>\n",
       "      <th>Asian</th>\n",
       "      <td>2.000000</td>\n",
       "      <td>4.000000</td>\n",
       "    </tr>\n",
       "    <tr>\n",
       "      <th>Black or African American</th>\n",
       "      <td>4.136364</td>\n",
       "      <td>4.181818</td>\n",
       "    </tr>\n",
       "    <tr>\n",
       "      <th>Caucasian/White</th>\n",
       "      <td>3.250000</td>\n",
       "      <td>4.500000</td>\n",
       "    </tr>\n",
       "    <tr>\n",
       "      <th>Hispanic/Latino</th>\n",
       "      <td>4.500000</td>\n",
       "      <td>4.000000</td>\n",
       "    </tr>\n",
       "    <tr>\n",
       "      <th>Other (please specify)</th>\n",
       "      <td>1.000000</td>\n",
       "      <td>3.000000</td>\n",
       "    </tr>\n",
       "    <tr>\n",
       "      <th rowspan=\"4\" valign=\"top\">Male</th>\n",
       "      <th>Asian</th>\n",
       "      <td>4.625000</td>\n",
       "      <td>4.250000</td>\n",
       "    </tr>\n",
       "    <tr>\n",
       "      <th>Black or African American</th>\n",
       "      <td>4.461538</td>\n",
       "      <td>4.461538</td>\n",
       "    </tr>\n",
       "    <tr>\n",
       "      <th>Caucasian/White</th>\n",
       "      <td>3.500000</td>\n",
       "      <td>4.000000</td>\n",
       "    </tr>\n",
       "    <tr>\n",
       "      <th>Hispanic/Latino</th>\n",
       "      <td>4.071429</td>\n",
       "      <td>4.714286</td>\n",
       "    </tr>\n",
       "  </tbody>\n",
       "</table>\n",
       "</div>"
      ],
      "text/plain": [
       "                                  Ad_Effect/Content  User_Satisfaction\n",
       "Gender Ethnicity                                                      \n",
       "Female Asian                               2.000000           4.000000\n",
       "       Black or African American           4.136364           4.181818\n",
       "       Caucasian/White                     3.250000           4.500000\n",
       "       Hispanic/Latino                     4.500000           4.000000\n",
       "       Other (please specify)              1.000000           3.000000\n",
       "Male   Asian                               4.625000           4.250000\n",
       "       Black or African American           4.461538           4.461538\n",
       "       Caucasian/White                     3.500000           4.000000\n",
       "       Hispanic/Latino                     4.071429           4.714286"
      ]
     },
     "execution_count": 40,
     "metadata": {},
     "output_type": "execute_result"
    }
   ],
   "source": [
    "# find average user satisfaction rate amongst gender and ethnicity\n",
    "Data_2.groupby(['Gender','Ethnicity']).agg({'Ad_Effect/Content':'mean','User_Satisfaction':'mean'})"
   ]
  },
  {
   "cell_type": "code",
   "execution_count": 41,
   "id": "b6d2d98a",
   "metadata": {},
   "outputs": [
    {
     "data": {
      "text/html": [
       "<div>\n",
       "<style scoped>\n",
       "    .dataframe tbody tr th:only-of-type {\n",
       "        vertical-align: middle;\n",
       "    }\n",
       "\n",
       "    .dataframe tbody tr th {\n",
       "        vertical-align: top;\n",
       "    }\n",
       "\n",
       "    .dataframe thead th {\n",
       "        text-align: right;\n",
       "    }\n",
       "</style>\n",
       "<table border=\"1\" class=\"dataframe\">\n",
       "  <thead>\n",
       "    <tr style=\"text-align: right;\">\n",
       "      <th></th>\n",
       "      <th></th>\n",
       "      <th>Ad_Effect/Content</th>\n",
       "      <th>User_Satisfaction</th>\n",
       "    </tr>\n",
       "    <tr>\n",
       "      <th>Gender</th>\n",
       "      <th>Educational level</th>\n",
       "      <th></th>\n",
       "      <th></th>\n",
       "    </tr>\n",
       "  </thead>\n",
       "  <tbody>\n",
       "    <tr>\n",
       "      <th rowspan=\"4\" valign=\"top\">Female</th>\n",
       "      <th>Bachelor's Degree</th>\n",
       "      <td>3.700000</td>\n",
       "      <td>4.000000</td>\n",
       "    </tr>\n",
       "    <tr>\n",
       "      <th>College</th>\n",
       "      <td>4.500000</td>\n",
       "      <td>4.666667</td>\n",
       "    </tr>\n",
       "    <tr>\n",
       "      <th>High School</th>\n",
       "      <td>5.000000</td>\n",
       "      <td>4.000000</td>\n",
       "    </tr>\n",
       "    <tr>\n",
       "      <th>Master's Degree</th>\n",
       "      <td>3.000000</td>\n",
       "      <td>4.000000</td>\n",
       "    </tr>\n",
       "    <tr>\n",
       "      <th rowspan=\"5\" valign=\"top\">Male</th>\n",
       "      <th>Bachelor's Degree</th>\n",
       "      <td>4.000000</td>\n",
       "      <td>4.000000</td>\n",
       "    </tr>\n",
       "    <tr>\n",
       "      <th>College</th>\n",
       "      <td>4.400000</td>\n",
       "      <td>4.800000</td>\n",
       "    </tr>\n",
       "    <tr>\n",
       "      <th>Doctorate</th>\n",
       "      <td>4.000000</td>\n",
       "      <td>5.000000</td>\n",
       "    </tr>\n",
       "    <tr>\n",
       "      <th>High School</th>\n",
       "      <td>4.750000</td>\n",
       "      <td>4.000000</td>\n",
       "    </tr>\n",
       "    <tr>\n",
       "      <th>Master's Degree</th>\n",
       "      <td>4.833333</td>\n",
       "      <td>4.666667</td>\n",
       "    </tr>\n",
       "  </tbody>\n",
       "</table>\n",
       "</div>"
      ],
      "text/plain": [
       "                          Ad_Effect/Content  User_Satisfaction\n",
       "Gender Educational level                                      \n",
       "Female Bachelor's Degree           3.700000           4.000000\n",
       "       College                     4.500000           4.666667\n",
       "       High School                 5.000000           4.000000\n",
       "       Master's Degree             3.000000           4.000000\n",
       "Male   Bachelor's Degree           4.000000           4.000000\n",
       "       College                     4.400000           4.800000\n",
       "       Doctorate                   4.000000           5.000000\n",
       "       High School                 4.750000           4.000000\n",
       "       Master's Degree             4.833333           4.666667"
      ]
     },
     "execution_count": 41,
     "metadata": {},
     "output_type": "execute_result"
    }
   ],
   "source": [
    "# finding average user satisfaction amongst gender and educational level\n",
    "Data_2.groupby(['Gender','Educational level']).agg({'Ad_Effect/Content':'mean','User_Satisfaction':'mean'})"
   ]
  },
  {
   "cell_type": "code",
   "execution_count": 42,
   "id": "4682fce4",
   "metadata": {},
   "outputs": [
    {
     "data": {
      "text/html": [
       "<div>\n",
       "<style scoped>\n",
       "    .dataframe tbody tr th:only-of-type {\n",
       "        vertical-align: middle;\n",
       "    }\n",
       "\n",
       "    .dataframe tbody tr th {\n",
       "        vertical-align: top;\n",
       "    }\n",
       "\n",
       "    .dataframe thead th {\n",
       "        text-align: right;\n",
       "    }\n",
       "</style>\n",
       "<table border=\"1\" class=\"dataframe\">\n",
       "  <thead>\n",
       "    <tr style=\"text-align: right;\">\n",
       "      <th></th>\n",
       "      <th></th>\n",
       "      <th>Ad_Effect/Content</th>\n",
       "    </tr>\n",
       "    <tr>\n",
       "      <th>Ad Exposure</th>\n",
       "      <th>Gender</th>\n",
       "      <th></th>\n",
       "    </tr>\n",
       "  </thead>\n",
       "  <tbody>\n",
       "    <tr>\n",
       "      <th rowspan=\"2\" valign=\"top\">Daily</th>\n",
       "      <th>Female</th>\n",
       "      <td>4.000000</td>\n",
       "    </tr>\n",
       "    <tr>\n",
       "      <th>Male</th>\n",
       "      <td>4.500000</td>\n",
       "    </tr>\n",
       "    <tr>\n",
       "      <th rowspan=\"2\" valign=\"top\">Once in a while</th>\n",
       "      <th>Female</th>\n",
       "      <td>3.250000</td>\n",
       "    </tr>\n",
       "    <tr>\n",
       "      <th>Male</th>\n",
       "      <td>4.166667</td>\n",
       "    </tr>\n",
       "    <tr>\n",
       "      <th rowspan=\"2\" valign=\"top\">Weekly</th>\n",
       "      <th>Female</th>\n",
       "      <td>3.166667</td>\n",
       "    </tr>\n",
       "    <tr>\n",
       "      <th>Male</th>\n",
       "      <td>4.375000</td>\n",
       "    </tr>\n",
       "  </tbody>\n",
       "</table>\n",
       "</div>"
      ],
      "text/plain": [
       "                        Ad_Effect/Content\n",
       "Ad Exposure     Gender                   \n",
       "Daily           Female           4.000000\n",
       "                Male             4.500000\n",
       "Once in a while Female           3.250000\n",
       "                Male             4.166667\n",
       "Weekly          Female           3.166667\n",
       "                Male             4.375000"
      ]
     },
     "execution_count": 42,
     "metadata": {},
     "output_type": "execute_result"
    }
   ],
   "source": [
    "#finding the average Ad exposure amongst Gender\n",
    "Data_2.groupby(['Ad Exposure','Gender']).agg({'Ad_Effect/Content':'mean'})"
   ]
  },
  {
   "cell_type": "code",
   "execution_count": 43,
   "id": "df2ff869",
   "metadata": {},
   "outputs": [
    {
     "data": {
      "text/html": [
       "<div>\n",
       "<style scoped>\n",
       "    .dataframe tbody tr th:only-of-type {\n",
       "        vertical-align: middle;\n",
       "    }\n",
       "\n",
       "    .dataframe tbody tr th {\n",
       "        vertical-align: top;\n",
       "    }\n",
       "\n",
       "    .dataframe thead th {\n",
       "        text-align: right;\n",
       "    }\n",
       "</style>\n",
       "<table border=\"1\" class=\"dataframe\">\n",
       "  <thead>\n",
       "    <tr style=\"text-align: right;\">\n",
       "      <th></th>\n",
       "      <th></th>\n",
       "      <th>Ad_Effect/Content</th>\n",
       "      <th>User_Satisfaction</th>\n",
       "    </tr>\n",
       "    <tr>\n",
       "      <th>Gender</th>\n",
       "      <th>Ad Channel type</th>\n",
       "      <th></th>\n",
       "      <th></th>\n",
       "    </tr>\n",
       "  </thead>\n",
       "  <tbody>\n",
       "    <tr>\n",
       "      <th rowspan=\"3\" valign=\"top\">Female</th>\n",
       "      <th>Mixed Media</th>\n",
       "      <td>2.833333</td>\n",
       "      <td>4.333333</td>\n",
       "    </tr>\n",
       "    <tr>\n",
       "      <th>Online Media</th>\n",
       "      <td>3.772727</td>\n",
       "      <td>4.181818</td>\n",
       "    </tr>\n",
       "    <tr>\n",
       "      <th>Traditional Media</th>\n",
       "      <td>3.333333</td>\n",
       "      <td>3.833333</td>\n",
       "    </tr>\n",
       "    <tr>\n",
       "      <th rowspan=\"3\" valign=\"top\">Male</th>\n",
       "      <th>Mixed Media</th>\n",
       "      <td>4.357143</td>\n",
       "      <td>4.571429</td>\n",
       "    </tr>\n",
       "    <tr>\n",
       "      <th>Online Media</th>\n",
       "      <td>4.277778</td>\n",
       "      <td>4.333333</td>\n",
       "    </tr>\n",
       "    <tr>\n",
       "      <th>Traditional Media</th>\n",
       "      <td>4.166667</td>\n",
       "      <td>4.333333</td>\n",
       "    </tr>\n",
       "  </tbody>\n",
       "</table>\n",
       "</div>"
      ],
      "text/plain": [
       "                          Ad_Effect/Content  User_Satisfaction\n",
       "Gender Ad Channel type                                        \n",
       "Female Mixed Media                 2.833333           4.333333\n",
       "       Online Media                3.772727           4.181818\n",
       "       Traditional Media           3.333333           3.833333\n",
       "Male   Mixed Media                 4.357143           4.571429\n",
       "       Online Media                4.277778           4.333333\n",
       "       Traditional Media           4.166667           4.333333"
      ]
     },
     "execution_count": 43,
     "metadata": {},
     "output_type": "execute_result"
    }
   ],
   "source": [
    "#find the average user satisfaction amongst Gender and Ad channel type\n",
    "Data_2.groupby(['Gender','Ad Channel type']).agg({'Ad_Effect/Content':'mean','User_Satisfaction':'mean'})"
   ]
  },
  {
   "cell_type": "code",
   "execution_count": 44,
   "id": "9c83020b",
   "metadata": {},
   "outputs": [
    {
     "data": {
      "text/plain": [
       "Gender\n",
       "Female     9\n",
       "Male      17\n",
       "dtype: int64"
      ]
     },
     "execution_count": 44,
     "metadata": {},
     "output_type": "execute_result"
    }
   ],
   "source": [
    "#To find which gender remits monthly\n",
    "monthly_counts=Data_2[Data_2['Remittance Frequency'] == 'Monthly'].groupby('Gender').size()\n",
    "monthly_counts"
   ]
  },
  {
   "cell_type": "code",
   "execution_count": 47,
   "id": "2bb05893",
   "metadata": {},
   "outputs": [
    {
     "data": {
      "image/png": "[encoded data removed]",
      "text/plain": [
       "<Figure size 640x480 with 1 Axes>"
      ]
     },
     "metadata": {},
     "output_type": "display_data"
    }
   ],
   "source": [
    "#visually\n",
    "# Filter data for monthly remittances\n",
    "monthly_data = Data_2[Data_2['Remittance Frequency'] == 'Monthly']\n",
    "\n",
    "# Count the occurrences for each gender\n",
    "monthly_counts = monthly_data['Gender'].value_counts()\n",
    "\n",
    "# Create a pie chart\n",
    "plt.pie(monthly_counts, labels=monthly_counts.index, autopct='%1.1f%%', startangle=90, colors=['lightblue', 'lightcoral'])\n",
    "\n",
    "plt.title('Number of Individuals with Monthly Remittance by Gender')\n",
    "\n",
    "plt.show()"
   ]
  },
  {
   "cell_type": "code",
   "execution_count": 48,
   "id": "df92a70b",
   "metadata": {},
   "outputs": [
    {
     "data": {
      "image/png": "[encoded data removed]",
      "text/plain": [
       "<Figure size 640x480 with 1 Axes>"
      ]
     },
     "metadata": {},
     "output_type": "display_data"
    }
   ],
   "source": [
    "# Create a bar chart==Will delete\n",
    "monthly_counts.plot(kind='bar', edgecolor='black')\n",
    "\n",
    "# Add labels and title\n",
    "plt.title('Number of Individuals with Monthly Remittance by Gender')\n",
    "plt.xlabel('Gender')\n",
    "plt.ylabel('Count')\n",
    "\n",
    "# Show the plot\n",
    "plt.show()\n"
   ]
  },
  {
   "cell_type": "code",
   "execution_count": 50,
   "id": "71f646c2",
   "metadata": {},
   "outputs": [
    {
     "data": {
      "text/plain": [
       "Ethnicity\n",
       "Asian                         5\n",
       "Black or African American    13\n",
       "Caucasian/White               2\n",
       "Hispanic/Latino               6\n",
       "dtype: int64"
      ]
     },
     "execution_count": 50,
     "metadata": {},
     "output_type": "execute_result"
    }
   ],
   "source": [
    "#to find which Ethinity remits monthly\n",
    "Data_2[Data_2['Remittance Frequency'] =='Monthly'].groupby('Ethnicity').size()"
   ]
  },
  {
   "cell_type": "code",
   "execution_count": 52,
   "id": "12e6df7f",
   "metadata": {},
   "outputs": [
    {
     "data": {
      "image/png": "[encoded data removed]",
      "text/plain": [
       "<Figure size 640x480 with 1 Axes>"
      ]
     },
     "metadata": {},
     "output_type": "display_data"
    }
   ],
   "source": [
    "#Visually\n",
    "# Filter data for monthly remittances\n",
    "monthly_data = Data_2[Data_2['Remittance Frequency'] == 'Monthly']\n",
    "\n",
    "# Group by ethnicity and count occurrences\n",
    "monthly_counts_by_ethnicity = monthly_data['Ethnicity'].value_counts()\n",
    "\n",
    "\n",
    "monthly_counts_by_ethnicity.plot(kind='bar', color='skyblue')\n",
    "\n",
    "plt.xlabel('Ethnicity')\n",
    "plt.ylabel('Count')\n",
    "plt.title('Distribution of Monthly Remittances by Ethnicity')\n",
    "\n",
    "plt.show()\n"
   ]
  },
  {
   "cell_type": "code",
   "execution_count": 53,
   "id": "8049d6e4",
   "metadata": {},
   "outputs": [
    {
     "data": {
      "text/html": [
       "<div>\n",
       "<style scoped>\n",
       "    .dataframe tbody tr th:only-of-type {\n",
       "        vertical-align: middle;\n",
       "    }\n",
       "\n",
       "    .dataframe tbody tr th {\n",
       "        vertical-align: top;\n",
       "    }\n",
       "\n",
       "    .dataframe thead th {\n",
       "        text-align: right;\n",
       "    }\n",
       "</style>\n",
       "<table border=\"1\" class=\"dataframe\">\n",
       "  <thead>\n",
       "    <tr style=\"text-align: right;\">\n",
       "      <th></th>\n",
       "      <th>Ad Channel type</th>\n",
       "      <th>Gender</th>\n",
       "      <th>Count</th>\n",
       "    </tr>\n",
       "  </thead>\n",
       "  <tbody>\n",
       "    <tr>\n",
       "      <th>0</th>\n",
       "      <td>Mixed Media</td>\n",
       "      <td>Female</td>\n",
       "      <td>2</td>\n",
       "    </tr>\n",
       "    <tr>\n",
       "      <th>1</th>\n",
       "      <td>Mixed Media</td>\n",
       "      <td>Male</td>\n",
       "      <td>9</td>\n",
       "    </tr>\n",
       "    <tr>\n",
       "      <th>2</th>\n",
       "      <td>Online Media</td>\n",
       "      <td>Female</td>\n",
       "      <td>6</td>\n",
       "    </tr>\n",
       "    <tr>\n",
       "      <th>3</th>\n",
       "      <td>Online Media</td>\n",
       "      <td>Male</td>\n",
       "      <td>7</td>\n",
       "    </tr>\n",
       "    <tr>\n",
       "      <th>4</th>\n",
       "      <td>Traditional Media</td>\n",
       "      <td>Female</td>\n",
       "      <td>1</td>\n",
       "    </tr>\n",
       "    <tr>\n",
       "      <th>5</th>\n",
       "      <td>Traditional Media</td>\n",
       "      <td>Male</td>\n",
       "      <td>1</td>\n",
       "    </tr>\n",
       "  </tbody>\n",
       "</table>\n",
       "</div>"
      ],
      "text/plain": [
       "     Ad Channel type  Gender  Count\n",
       "0        Mixed Media  Female      2\n",
       "1        Mixed Media    Male      9\n",
       "2       Online Media  Female      6\n",
       "3       Online Media    Male      7\n",
       "4  Traditional Media  Female      1\n",
       "5  Traditional Media    Male      1"
      ]
     },
     "execution_count": 53,
     "metadata": {},
     "output_type": "execute_result"
    }
   ],
   "source": [
    "#to find  gender who remit monthly and what type of Ad channel they use\n",
    "Data_2[Data_2['Remittance Frequency'] == 'Monthly'].groupby(['Ad Channel type', 'Gender']).size().reset_index(name='Count')"
   ]
  },
  {
   "cell_type": "code",
   "execution_count": 54,
   "id": "bff64cdd",
   "metadata": {},
   "outputs": [
    {
     "data": {
      "image/png": "[encoded data removed]",
      "text/plain": [
       "<Figure size 1000x600 with 1 Axes>"
      ]
     },
     "metadata": {},
     "output_type": "display_data"
    }
   ],
   "source": [
    "#Visually\n",
    "# Filter data for monthly remittances\n",
    "monthly_data = Data_2[Data_2['Remittance Frequency'] == 'Monthly']\n",
    "\n",
    "# Group by advertising channel type and gender, and count occurrences\n",
    "monthly_counts_by_channel_gender = monthly_data.groupby(['Ad Channel type', 'Gender']).size().reset_index(name='Count')\n",
    "\n",
    "# Create a grouped bar plot using Seaborn\n",
    "plt.figure(figsize=(10, 6))\n",
    "sns.barplot(x='Ad Channel type', y='Count', hue='Gender', data=monthly_counts_by_channel_gender, palette='pastel')\n",
    "\n",
    "\n",
    "plt.xlabel('Ad Channel type')\n",
    "plt.ylabel('Count')\n",
    "plt.title('Distribution of Monthly Remittances by Ad Channel type and Gender')\n",
    "\n",
    "plt.show()"
   ]
  },
  {
   "cell_type": "code",
   "execution_count": 55,
   "id": "6a4f2a17",
   "metadata": {},
   "outputs": [
    {
     "data": {
      "text/plain": [
       "Gender\n",
       "Female    5\n",
       "Male      4\n",
       "dtype: int64"
      ]
     },
     "execution_count": 55,
     "metadata": {},
     "output_type": "execute_result"
    }
   ],
   "source": [
    "#To find which gender remits weekly\n",
    "weekly_counts=Data_2[Data_2['Remittance Frequency'] == 'Weekly'].groupby('Gender').size()\n",
    "weekly_counts"
   ]
  },
  {
   "cell_type": "code",
   "execution_count": 63,
   "id": "cef030b0",
   "metadata": {},
   "outputs": [
    {
     "data": {
      "image/png": "[encoded data removed]",
      "text/plain": [
       "<Figure size 640x480 with 1 Axes>"
      ]
     },
     "metadata": {},
     "output_type": "display_data"
    }
   ],
   "source": [
    "#Visually\n",
    "# Filter data for monthly remittances\n",
    "weekly_data = Data_2[Data_2['Remittance Frequency'] == 'Weekly']\n",
    "\n",
    "# Group by ethnicity and count occurrences\n",
    "weekly_counts_by_gender = weekly_data['Gender'].value_counts()\n",
    "\n",
    "\n",
    "weekly_counts_by_gender.plot(kind='bar', color='skyblue')\n",
    "\n",
    "plt.xlabel('Gender')\n",
    "plt.ylabel('Count')\n",
    "plt.title('Distribution of weekly Remittances by Gender')\n",
    "\n",
    "plt.show()"
   ]
  },
  {
   "cell_type": "code",
   "execution_count": 64,
   "id": "2707de74",
   "metadata": {},
   "outputs": [
    {
     "data": {
      "text/plain": [
       "Ethnicity\n",
       "Black or African American    7\n",
       "Hispanic/Latino              2\n",
       "dtype: int64"
      ]
     },
     "execution_count": 64,
     "metadata": {},
     "output_type": "execute_result"
    }
   ],
   "source": [
    "Data_2[Data_2['Remittance Frequency'] =='Weekly'].groupby('Ethnicity').size()"
   ]
  },
  {
   "cell_type": "code",
   "execution_count": 65,
   "id": "3028f9fb",
   "metadata": {},
   "outputs": [
    {
     "data": {
      "image/png": "[encoded data removed]",
      "text/plain": [
       "<Figure size 640x480 with 1 Axes>"
      ]
     },
     "metadata": {},
     "output_type": "display_data"
    }
   ],
   "source": [
    "# Filter data for weekly remittances\n",
    "weekly_data = Data_2[Data_2['Remittance Frequency'] == 'Weekly']\n",
    "\n",
    "# Group by ethnicity and count occurrences\n",
    "weekly_counts_by_Ethnicity = weekly_data['Ethnicity'].value_counts()\n",
    "\n",
    "\n",
    "weekly_counts_by_Ethnicity.plot(kind='bar', color='lightcoral')\n",
    "\n",
    "plt.xlabel('Ethnicity')\n",
    "plt.ylabel('Count')\n",
    "plt.title('Distribution of weekly Remittances by Ethnicity')\n",
    "\n",
    "plt.show()"
   ]
  },
  {
   "cell_type": "code",
   "execution_count": 69,
   "id": "01618f58",
   "metadata": {},
   "outputs": [
    {
     "data": {
      "text/html": [
       "<div>\n",
       "<style scoped>\n",
       "    .dataframe tbody tr th:only-of-type {\n",
       "        vertical-align: middle;\n",
       "    }\n",
       "\n",
       "    .dataframe tbody tr th {\n",
       "        vertical-align: top;\n",
       "    }\n",
       "\n",
       "    .dataframe thead th {\n",
       "        text-align: right;\n",
       "    }\n",
       "</style>\n",
       "<table border=\"1\" class=\"dataframe\">\n",
       "  <thead>\n",
       "    <tr style=\"text-align: right;\">\n",
       "      <th></th>\n",
       "      <th>Ad Channel type</th>\n",
       "      <th>Gender</th>\n",
       "      <th>Ethnicity</th>\n",
       "      <th>Count</th>\n",
       "    </tr>\n",
       "  </thead>\n",
       "  <tbody>\n",
       "    <tr>\n",
       "      <th>0</th>\n",
       "      <td>Mixed Media</td>\n",
       "      <td>Male</td>\n",
       "      <td>Black or African American</td>\n",
       "      <td>2</td>\n",
       "    </tr>\n",
       "    <tr>\n",
       "      <th>1</th>\n",
       "      <td>Mixed Media</td>\n",
       "      <td>Male</td>\n",
       "      <td>Hispanic/Latino</td>\n",
       "      <td>1</td>\n",
       "    </tr>\n",
       "    <tr>\n",
       "      <th>2</th>\n",
       "      <td>Online Media</td>\n",
       "      <td>Female</td>\n",
       "      <td>Black or African American</td>\n",
       "      <td>2</td>\n",
       "    </tr>\n",
       "    <tr>\n",
       "      <th>3</th>\n",
       "      <td>Traditional Media</td>\n",
       "      <td>Female</td>\n",
       "      <td>Black or African American</td>\n",
       "      <td>2</td>\n",
       "    </tr>\n",
       "    <tr>\n",
       "      <th>4</th>\n",
       "      <td>Traditional Media</td>\n",
       "      <td>Female</td>\n",
       "      <td>Hispanic/Latino</td>\n",
       "      <td>1</td>\n",
       "    </tr>\n",
       "    <tr>\n",
       "      <th>5</th>\n",
       "      <td>Traditional Media</td>\n",
       "      <td>Male</td>\n",
       "      <td>Black or African American</td>\n",
       "      <td>1</td>\n",
       "    </tr>\n",
       "  </tbody>\n",
       "</table>\n",
       "</div>"
      ],
      "text/plain": [
       "     Ad Channel type  Gender                  Ethnicity  Count\n",
       "0        Mixed Media    Male  Black or African American      2\n",
       "1        Mixed Media    Male            Hispanic/Latino      1\n",
       "2       Online Media  Female  Black or African American      2\n",
       "3  Traditional Media  Female  Black or African American      2\n",
       "4  Traditional Media  Female            Hispanic/Latino      1\n",
       "5  Traditional Media    Male  Black or African American      1"
      ]
     },
     "execution_count": 69,
     "metadata": {},
     "output_type": "execute_result"
    }
   ],
   "source": [
    "#to find  gender and ethnicity who remit weekly and what type of Ad channel they use\n",
    "Data_2[Data_2['Remittance Frequency'] == 'Weekly'].groupby(['Ad Channel type', 'Gender','Ethnicity']).size().reset_index(name='Count')\n"
   ]
  },
  {
   "cell_type": "code",
   "execution_count": 71,
   "id": "4aa639fc",
   "metadata": {},
   "outputs": [
    {
     "data": {
      "image/png": "[encoded data removed]",
      "text/plain": [
       "<Figure size 1000x600 with 1 Axes>"
      ]
     },
     "metadata": {},
     "output_type": "display_data"
    }
   ],
   "source": [
    "#Visually\n",
    "# Filter data for weekly remittances\n",
    "weekly_data = Data_2[Data_2['Remittance Frequency'] == 'Weekly']\n",
    "\n",
    "# Group by advertising channel type and gender, and count occurrences\n",
    "weekly_counts_by_channel_gender = weekly_data.groupby(['Ad Channel type', 'Gender']).size().reset_index(name='Count')\n",
    "\n",
    "# Create a grouped bar plot using Seaborn\n",
    "plt.figure(figsize=(10, 6))\n",
    "sns.barplot(x='Ad Channel type', y='Count', hue='Gender', data=weekly_counts_by_channel_gender, palette='dark')\n",
    "\n",
    "\n",
    "plt.xlabel('Ad Channel type')\n",
    "plt.ylabel('Count')\n",
    "plt.title('Distribution of weekly Remittances by Ad Channel type and Gender')\n",
    "\n",
    "plt.show()"
   ]
  },
  {
   "cell_type": "code",
   "execution_count": 72,
   "id": "939d6ca9",
   "metadata": {},
   "outputs": [
    {
     "data": {
      "text/plain": [
       "Ethnicity\n",
       "Asian                        3\n",
       "Black or African American    1\n",
       "Caucasian/White              1\n",
       "Other (please specify)       1\n",
       "dtype: int64"
      ]
     },
     "execution_count": 72,
     "metadata": {},
     "output_type": "execute_result"
    }
   ],
   "source": [
    "#To find which ethnicity remits Rarely\n",
    "rare_counts=Data_2[Data_2['Remittance Frequency'] =='Rarely'].groupby('Ethnicity').size()\n",
    "rare_counts"
   ]
  },
  {
   "cell_type": "code",
   "execution_count": 73,
   "id": "a53b08ac",
   "metadata": {},
   "outputs": [
    {
     "data": {
      "text/plain": [
       "Ethnicity\n",
       "Black or African American    3\n",
       "Caucasian/White              1\n",
       "Hispanic/Latino              1\n",
       "dtype: int64"
      ]
     },
     "execution_count": 73,
     "metadata": {},
     "output_type": "execute_result"
    }
   ],
   "source": [
    "#To find which ethnicity remits occasionally\n",
    "ocassional_counts=Data_2[Data_2['Remittance Frequency'] =='Occasionally'].groupby('Ethnicity').size()\n",
    "ocassional_counts"
   ]
  },
  {
   "cell_type": "code",
   "execution_count": 74,
   "id": "10c25a2f",
   "metadata": {},
   "outputs": [
    {
     "data": {
      "text/plain": [
       "7"
      ]
     },
     "execution_count": 74,
     "metadata": {},
     "output_type": "execute_result"
    }
   ],
   "source": [
    "#Just to filter monthly remitters by Online media and Daily exposure\n",
    "filtered = Data_2[(Data_2['Remittance Frequency']=='Monthly') &\n",
    "(Data_2['Ad Channel type']== 'Online Media') &\n",
    "(Data_2['Ad Exposure']== 'Daily')]\n",
    "filtered.shape[0]"
   ]
  },
  {
   "cell_type": "code",
   "execution_count": 75,
   "id": "3b029684",
   "metadata": {},
   "outputs": [
    {
     "data": {
      "text/plain": [
       "2"
      ]
     },
     "execution_count": 75,
     "metadata": {},
     "output_type": "execute_result"
    }
   ],
   "source": [
    "#Just to filter weekly remitters by Online media and Daily exposure\n",
    "filtered_2 = Data_2[(Data_2['Remittance Frequency']=='Weekly') &\n",
    "(Data_2['Ad Channel type']== 'Online Media') &\n",
    "(Data_2['Ad Exposure']== 'Daily')]\n",
    "filtered_2.shape[0]"
   ]
  },
  {
   "cell_type": "code",
   "execution_count": 76,
   "id": "04454ebf",
   "metadata": {},
   "outputs": [
    {
     "data": {
      "text/plain": [
       "3"
      ]
     },
     "execution_count": 76,
     "metadata": {},
     "output_type": "execute_result"
    }
   ],
   "source": [
    "#Just to filter monthly remitters by Online media and less exposure\n",
    "filtered_3 = Data_2[(Data_2['Remittance Frequency']=='Monthly') &\n",
    "(Data_2['Ad Channel type']== 'Online Media') &\n",
    "(Data_2['Ad Exposure']== 'Once in a while')] \n",
    "filtered_3.shape[0]"
   ]
  },
  {
   "cell_type": "code",
   "execution_count": 77,
   "id": "e4e19601",
   "metadata": {},
   "outputs": [
    {
     "data": {
      "text/plain": [
       "0"
      ]
     },
     "execution_count": 77,
     "metadata": {},
     "output_type": "execute_result"
    }
   ],
   "source": [
    "#Just to filter occassionally & rarely remitters by Online media and exposure once in a while\n",
    "filtered_4 = Data_2[(Data_2['Remittance Frequency']=='Ocassionally') & (Data_2['Remittance Frequency']== 'Rarely') &\n",
    "(Data_2['Ad Channel type']== 'Online Media') &\n",
    "(Data_2['Ad Exposure']== 'Once in a while')]\n",
    "filtered_4.shape[0]"
   ]
  },
  {
   "cell_type": "code",
   "execution_count": 83,
   "id": "d67893ad",
   "metadata": {},
   "outputs": [
    {
     "data": {
      "text/plain": [
       "0"
      ]
     },
     "execution_count": 83,
     "metadata": {},
     "output_type": "execute_result"
    }
   ],
   "source": [
    "#to filter monthly remitters by traditional media and less exposure\n",
    "filtered_5 = Data_2[(Data_2['Remittance Frequency']=='Monthly')  &\n",
    "(Data_2['Ad Channel type']== 'Traditional media') &\n",
    "(Data_2['Ad Exposure']== 'Once in a while')]\n",
    "filtered_5.shape[0]"
   ]
  },
  {
   "cell_type": "code",
   "execution_count": 85,
   "id": "356776b6",
   "metadata": {},
   "outputs": [
    {
     "data": {
      "text/plain": [
       "13"
      ]
     },
     "execution_count": 85,
     "metadata": {},
     "output_type": "execute_result"
    }
   ],
   "source": [
    "#to filter weekly remitters by Online media and much exposure\n",
    "filtered_6 = Data_2[(Data_2['Remittance Frequency']=='Weekly')  &\n",
    "(Data_2['Ad Channel type']== 'Online Media') |\n",
    "(Data_2['Ad Exposure']== 'Daily')]\n",
    "filtered_6.shape[0]"
   ]
  },
  {
   "cell_type": "code",
   "execution_count": 86,
   "id": "a4c8af2d",
   "metadata": {},
   "outputs": [
    {
     "data": {
      "text/html": [
       "<div>\n",
       "<style scoped>\n",
       "    .dataframe tbody tr th:only-of-type {\n",
       "        vertical-align: middle;\n",
       "    }\n",
       "\n",
       "    .dataframe tbody tr th {\n",
       "        vertical-align: top;\n",
       "    }\n",
       "\n",
       "    .dataframe thead th {\n",
       "        text-align: right;\n",
       "    }\n",
       "</style>\n",
       "<table border=\"1\" class=\"dataframe\">\n",
       "  <thead>\n",
       "    <tr style=\"text-align: right;\">\n",
       "      <th></th>\n",
       "      <th>Gender</th>\n",
       "      <th>Age</th>\n",
       "      <th>Occupation</th>\n",
       "      <th>Educational level</th>\n",
       "      <th>Ethnicity</th>\n",
       "      <th>Remittance Frequency</th>\n",
       "      <th>Remittance Service Count</th>\n",
       "      <th>Ad Exposure</th>\n",
       "      <th>Ad_Effectiveness rating</th>\n",
       "      <th>User_Satisfaction</th>\n",
       "      <th>Ad_Content_rate</th>\n",
       "      <th>Ad Channel type</th>\n",
       "      <th>Ad_Effect/Content</th>\n",
       "    </tr>\n",
       "  </thead>\n",
       "  <tbody>\n",
       "    <tr>\n",
       "      <th>2</th>\n",
       "      <td>Female</td>\n",
       "      <td>25-34</td>\n",
       "      <td>Employed</td>\n",
       "      <td>Master's Degree</td>\n",
       "      <td>Black or African American</td>\n",
       "      <td>Weekly</td>\n",
       "      <td>4.0</td>\n",
       "      <td>Daily</td>\n",
       "      <td>4.0</td>\n",
       "      <td>4.0</td>\n",
       "      <td>5</td>\n",
       "      <td>Online Media</td>\n",
       "      <td>4.5</td>\n",
       "    </tr>\n",
       "    <tr>\n",
       "      <th>4</th>\n",
       "      <td>Male</td>\n",
       "      <td>35-44</td>\n",
       "      <td>Employed</td>\n",
       "      <td>Master's Degree</td>\n",
       "      <td>Black or African American</td>\n",
       "      <td>Weekly</td>\n",
       "      <td>4.0</td>\n",
       "      <td>Daily</td>\n",
       "      <td>4.0</td>\n",
       "      <td>4.0</td>\n",
       "      <td>5</td>\n",
       "      <td>Mixed Media</td>\n",
       "      <td>4.5</td>\n",
       "    </tr>\n",
       "  </tbody>\n",
       "</table>\n",
       "</div>"
      ],
      "text/plain": [
       "   Gender    Age Occupation Educational level                  Ethnicity  \\\n",
       "2  Female  25-34   Employed   Master's Degree  Black or African American   \n",
       "4    Male  35-44   Employed   Master's Degree  Black or African American   \n",
       "\n",
       "  Remittance Frequency  Remittance Service Count Ad Exposure  \\\n",
       "2               Weekly                       4.0       Daily   \n",
       "4               Weekly                       4.0       Daily   \n",
       "\n",
       "   Ad_Effectiveness rating  User_Satisfaction  Ad_Content_rate  \\\n",
       "2                      4.0                4.0                5   \n",
       "4                      4.0                4.0                5   \n",
       "\n",
       "  Ad Channel type  Ad_Effect/Content  \n",
       "2    Online Media                4.5  \n",
       "4     Mixed Media                4.5  "
      ]
     },
     "execution_count": 86,
     "metadata": {},
     "output_type": "execute_result"
    }
   ],
   "source": [
    "#filtering for highest remittance service/apps\n",
    "Data_2[Data_2['Remittance Service Count']==Data_2['Remittance Service Count'].max()]"
   ]
  },
  {
   "cell_type": "code",
   "execution_count": 87,
   "id": "e7eaecbf",
   "metadata": {},
   "outputs": [
    {
     "data": {
      "text/html": [
       "<div>\n",
       "<style scoped>\n",
       "    .dataframe tbody tr th:only-of-type {\n",
       "        vertical-align: middle;\n",
       "    }\n",
       "\n",
       "    .dataframe tbody tr th {\n",
       "        vertical-align: top;\n",
       "    }\n",
       "\n",
       "    .dataframe thead th {\n",
       "        text-align: right;\n",
       "    }\n",
       "</style>\n",
       "<table border=\"1\" class=\"dataframe\">\n",
       "  <thead>\n",
       "    <tr style=\"text-align: right;\">\n",
       "      <th></th>\n",
       "      <th>Remittance Service Count</th>\n",
       "      <th>Ad_Effectiveness rating</th>\n",
       "      <th>User_Satisfaction</th>\n",
       "      <th>Ad_Content_rate</th>\n",
       "      <th>Ad_Effect/Content</th>\n",
       "    </tr>\n",
       "  </thead>\n",
       "  <tbody>\n",
       "    <tr>\n",
       "      <th>count</th>\n",
       "      <td>46.000000</td>\n",
       "      <td>46.000000</td>\n",
       "      <td>46.000000</td>\n",
       "      <td>46.000000</td>\n",
       "      <td>46.000000</td>\n",
       "    </tr>\n",
       "    <tr>\n",
       "      <th>mean</th>\n",
       "      <td>1.456522</td>\n",
       "      <td>3.869565</td>\n",
       "      <td>4.304348</td>\n",
       "      <td>4.043478</td>\n",
       "      <td>3.956522</td>\n",
       "    </tr>\n",
       "    <tr>\n",
       "      <th>std</th>\n",
       "      <td>0.861691</td>\n",
       "      <td>1.292864</td>\n",
       "      <td>0.785127</td>\n",
       "      <td>1.210262</td>\n",
       "      <td>1.094563</td>\n",
       "    </tr>\n",
       "    <tr>\n",
       "      <th>min</th>\n",
       "      <td>0.000000</td>\n",
       "      <td>1.000000</td>\n",
       "      <td>3.000000</td>\n",
       "      <td>1.000000</td>\n",
       "      <td>1.000000</td>\n",
       "    </tr>\n",
       "    <tr>\n",
       "      <th>25%</th>\n",
       "      <td>1.000000</td>\n",
       "      <td>3.250000</td>\n",
       "      <td>4.000000</td>\n",
       "      <td>3.250000</td>\n",
       "      <td>3.125000</td>\n",
       "    </tr>\n",
       "    <tr>\n",
       "      <th>50%</th>\n",
       "      <td>1.000000</td>\n",
       "      <td>4.000000</td>\n",
       "      <td>4.500000</td>\n",
       "      <td>4.000000</td>\n",
       "      <td>4.500000</td>\n",
       "    </tr>\n",
       "    <tr>\n",
       "      <th>75%</th>\n",
       "      <td>2.000000</td>\n",
       "      <td>5.000000</td>\n",
       "      <td>5.000000</td>\n",
       "      <td>5.000000</td>\n",
       "      <td>5.000000</td>\n",
       "    </tr>\n",
       "    <tr>\n",
       "      <th>max</th>\n",
       "      <td>4.000000</td>\n",
       "      <td>5.000000</td>\n",
       "      <td>5.000000</td>\n",
       "      <td>5.000000</td>\n",
       "      <td>5.000000</td>\n",
       "    </tr>\n",
       "  </tbody>\n",
       "</table>\n",
       "</div>"
      ],
      "text/plain": [
       "       Remittance Service Count  Ad_Effectiveness rating  User_Satisfaction  \\\n",
       "count                 46.000000                46.000000          46.000000   \n",
       "mean                   1.456522                 3.869565           4.304348   \n",
       "std                    0.861691                 1.292864           0.785127   \n",
       "min                    0.000000                 1.000000           3.000000   \n",
       "25%                    1.000000                 3.250000           4.000000   \n",
       "50%                    1.000000                 4.000000           4.500000   \n",
       "75%                    2.000000                 5.000000           5.000000   \n",
       "max                    4.000000                 5.000000           5.000000   \n",
       "\n",
       "       Ad_Content_rate  Ad_Effect/Content  \n",
       "count        46.000000          46.000000  \n",
       "mean          4.043478           3.956522  \n",
       "std           1.210262           1.094563  \n",
       "min           1.000000           1.000000  \n",
       "25%           3.250000           3.125000  \n",
       "50%           4.000000           4.500000  \n",
       "75%           5.000000           5.000000  \n",
       "max           5.000000           5.000000  "
      ]
     },
     "execution_count": 87,
     "metadata": {},
     "output_type": "execute_result"
    }
   ],
   "source": [
    "#multiple descriptive statistics of data\n",
    "Data_2.describe()"
   ]
  },
  {
   "cell_type": "code",
   "execution_count": 88,
   "id": "a1a98abe",
   "metadata": {},
   "outputs": [
    {
     "data": {
      "text/plain": [
       "' The mean and the median are close ,this shows the \\ndata is symmetrically distributed around the mean.'"
      ]
     },
     "execution_count": 88,
     "metadata": {},
     "output_type": "execute_result"
    }
   ],
   "source": [
    "''' The mean and the median are close ,this shows the \n",
    "data is symmetrically distributed around the mean.'''\n"
   ]
  },
  {
   "cell_type": "code",
   "execution_count": 89,
   "id": "02c9a1ec",
   "metadata": {},
   "outputs": [
    {
     "data": {
      "image/png": "[encoded data removed]",
      "text/plain": [
       "<Figure size 1200x800 with 1 Axes>"
      ]
     },
     "metadata": {},
     "output_type": "display_data"
    }
   ],
   "source": [
    "#Checking if the data is skewed\n",
    "\n",
    "plt.figure(figsize=(12, 8)) \n",
    "sns.boxplot(data=Data_2)\n",
    "\n",
    "plt.title('Box Plot of individual columns')\n",
    "\n",
    "\n",
    "plt.show()"
   ]
  },
  {
   "cell_type": "code",
   "execution_count": 112,
   "id": "5378871f",
   "metadata": {},
   "outputs": [
    {
     "data": {
      "text/plain": [
       "' Remittance Service Count colunm is rightly skewed and has an outlier\\n Ad_Effectiveness rating is left skewed\\n User_Satisfaction is rightly skewed\\n Ad_Content_rate is symmetrically distributed '"
      ]
     },
     "execution_count": 112,
     "metadata": {},
     "output_type": "execute_result"
    }
   ],
   "source": [
    "''' Remittance Service Count colunm is rightly skewed and has an outlier\n",
    " Ad_Effectiveness rating is left skewed\n",
    " User_Satisfaction is rightly skewed\n",
    " Ad_Content_rate is symmetrically distributed '''"
   ]
  },
  {
   "cell_type": "code",
   "execution_count": 90,
   "id": "cbe00ea6",
   "metadata": {},
   "outputs": [
    {
     "data": {
      "text/plain": [
       "0.5291857850809084"
      ]
     },
     "execution_count": 90,
     "metadata": {},
     "output_type": "execute_result"
    }
   ],
   "source": [
    "#find correlation in two columns\n",
    "Data_2['Ad_Effectiveness rating'].corr(Data_2['Ad_Content_rate'])"
   ]
  },
  {
   "cell_type": "code",
   "execution_count": 91,
   "id": "cf5f9cd2",
   "metadata": {},
   "outputs": [
    {
     "data": {
      "text/plain": [
       "'A correlation coefficient of 0.529 suggests a moderate positive correlation\\nThere is a tendency for higher effectiveness ratings to be associated with higher content rate'"
      ]
     },
     "execution_count": 91,
     "metadata": {},
     "output_type": "execute_result"
    }
   ],
   "source": [
    "'''A correlation coefficient of 0.529 suggests a moderate positive correlation\n",
    "There is a tendency for higher effectiveness ratings to be associated with higher content rate'''"
   ]
  },
  {
   "cell_type": "code",
   "execution_count": 92,
   "id": "93973955",
   "metadata": {},
   "outputs": [
    {
     "data": {
      "image/png": "[encoded data removed]",
      "text/plain": [
       "<Figure size 800x600 with 1 Axes>"
      ]
     },
     "metadata": {},
     "output_type": "display_data"
    }
   ],
   "source": [
    "# visually\n",
    "plt.figure(figsize=(8, 6))\n",
    "\n",
    "sns.scatterplot(x='Ad_Effectiveness rating', y='Ad_Content_rate', data=Data_2, alpha=0.5)\n",
    "plt.title('Scatter Plot: Ad_Effectiveness rating  vs.Ad_Content_rate ')\n",
    "plt.show()\n"
   ]
  },
  {
   "cell_type": "code",
   "execution_count": 93,
   "id": "f1894d38",
   "metadata": {},
   "outputs": [
    {
     "data": {
      "text/plain": [
       "0.1513817738890237"
      ]
     },
     "execution_count": 93,
     "metadata": {},
     "output_type": "execute_result"
    }
   ],
   "source": [
    "#find correlation in this 2 columns\n",
    "Data_2['Remittance Service Count'].corr(Data_2['User_Satisfaction'])"
   ]
  },
  {
   "cell_type": "code",
   "execution_count": 95,
   "id": "657522fc",
   "metadata": {},
   "outputs": [
    {
     "data": {
      "text/plain": [
       "\"A coefficient of 0.151 suggests a weak positive correlation\\nWhen Remittance Service Count' increases, there is a slight \\ntendency for 'User_Satisfaction' to increase as well\""
      ]
     },
     "execution_count": 95,
     "metadata": {},
     "output_type": "execute_result"
    }
   ],
   "source": [
    "'''A coefficient of 0.151 suggests a weak positive correlation\n",
    "When Remittance Service Count' increases, there is a slight \n",
    "tendency for 'User_Satisfaction' to increase as well'''\n"
   ]
  },
  {
   "cell_type": "code",
   "execution_count": 96,
   "id": "e9350f89",
   "metadata": {},
   "outputs": [
    {
     "data": {
      "text/plain": [
       "0.4682672919924302"
      ]
     },
     "execution_count": 96,
     "metadata": {},
     "output_type": "execute_result"
    }
   ],
   "source": [
    "#find correlation this 2 columns\n",
    "Data_2['User_Satisfaction'].corr(Data_2['Ad_Effect/Content'])"
   ]
  },
  {
   "cell_type": "code",
   "execution_count": 98,
   "id": "a0a347e8",
   "metadata": {},
   "outputs": [
    {
     "data": {
      "text/plain": [
       "'A correlation coefficient of approximately 0.47 suggests a moderate positive correlation.'"
      ]
     },
     "execution_count": 98,
     "metadata": {},
     "output_type": "execute_result"
    }
   ],
   "source": [
    "'''A correlation coefficient of approximately 0.47 suggests a moderate positive correlation.'''"
   ]
  },
  {
   "cell_type": "code",
   "execution_count": 99,
   "id": "c6bf55b1",
   "metadata": {},
   "outputs": [],
   "source": [
    "#selecting only numeric fields in the data\n",
    "numeric = Data_2.select_dtypes(include=['int64','float64']) \n",
    "#numeric.head(3)"
   ]
  },
  {
   "cell_type": "code",
   "execution_count": 100,
   "id": "54f68e5a",
   "metadata": {},
   "outputs": [
    {
     "data": {
      "text/plain": [
       "<Axes: >"
      ]
     },
     "execution_count": 100,
     "metadata": {},
     "output_type": "execute_result"
    },
    {
     "data": {
      "image/png": "[encoded data removed]",
      "text/plain": [
       "<Figure size 640x480 with 2 Axes>"
      ]
     },
     "metadata": {},
     "output_type": "display_data"
    }
   ],
   "source": [
    "#correlation in the data\n",
    "sns.heatmap(numeric.corr(),annot=True, xticklabels = numeric.corr().columns,yticklabels = numeric.corr().columns)"
   ]
  },
  {
   "cell_type": "code",
   "execution_count": 67,
   "id": "ee598aa7",
   "metadata": {},
   "outputs": [
    {
     "data": {
      "text/plain": [
       "<Axes: xlabel='User_Satisfaction', ylabel='Ad_Effectiveness rating'>"
      ]
     },
     "execution_count": 67,
     "metadata": {},
     "output_type": "execute_result"
    },
    {
     "data": {
      "image/png": "[encoded data removed]",
      "text/plain": [
       "<Figure size 640x480 with 1 Axes>"
      ]
     },
     "metadata": {},
     "output_type": "display_data"
    }
   ],
   "source": [
    "#linear regression\n",
    "sns.regplot(x=\"User_Satisfaction\", y=\"Ad_Effectiveness rating\", data=Data_2)\n"
   ]
  },
  {
   "cell_type": "code",
   "execution_count": 68,
   "id": "8d45fc28",
   "metadata": {},
   "outputs": [
    {
     "data": {
      "text/plain": [
       "<Axes: xlabel='User_Satisfaction', ylabel='Remittance Service Count'>"
      ]
     },
     "execution_count": 68,
     "metadata": {},
     "output_type": "execute_result"
    },
    {
     "data": {
      "image/png": "[encoded data removed]",
      "text/plain": [
       "<Figure size 640x480 with 1 Axes>"
      ]
     },
     "metadata": {},
     "output_type": "display_data"
    }
   ],
   "source": [
    "sns.regplot(x=\"User_Satisfaction\", y=\"Remittance Service Count\", data=Data_2)"
   ]
  },
  {
   "cell_type": "code",
   "execution_count": 70,
   "id": "896c81c7",
   "metadata": {},
   "outputs": [
    {
     "data": {
      "text/plain": [
       "<Axes: xlabel='User_Satisfaction', ylabel='Ad_Content_rate'>"
      ]
     },
     "execution_count": 70,
     "metadata": {},
     "output_type": "execute_result"
    },
    {
     "data": {
      "image/png": "[encoded data removed]",
      "text/plain": [
       "<Figure size 640x480 with 1 Axes>"
      ]
     },
     "metadata": {},
     "output_type": "display_data"
    }
   ],
   "source": [
    "sns.regplot(x=\"User_Satisfaction\", y=\"Ad_Content_rate\", data=Data_2)"
   ]
  },
  {
   "cell_type": "code",
   "execution_count": 109,
   "id": "24ecaa59",
   "metadata": {},
   "outputs": [
    {
     "name": "stderr",
     "output_type": "stream",
     "text": [
      "C:\\ProgramData\\anaconda3\\Lib\\site-packages\\seaborn\\axisgrid.py:118: UserWarning: The figure layout has changed to tight\n",
      "  self._figure.tight_layout(*args, **kwargs)\n"
     ]
    },
    {
     "data": {
      "image/png": "[encoded data removed]",
      "text/plain": [
       "<Figure size 1250x1250 with 30 Axes>"
      ]
     },
     "metadata": {},
     "output_type": "display_data"
    }
   ],
   "source": [
    "sns.pairplot(Data_2)\n",
    "plt.show()#delete"
   ]
  },
  {
   "cell_type": "code",
   "execution_count": 110,
   "id": "f302edeb",
   "metadata": {},
   "outputs": [
    {
     "data": {
      "text/html": [
       "<div>\n",
       "<style scoped>\n",
       "    .dataframe tbody tr th:only-of-type {\n",
       "        vertical-align: middle;\n",
       "    }\n",
       "\n",
       "    .dataframe tbody tr th {\n",
       "        vertical-align: top;\n",
       "    }\n",
       "\n",
       "    .dataframe thead th {\n",
       "        text-align: right;\n",
       "    }\n",
       "</style>\n",
       "<table border=\"1\" class=\"dataframe\">\n",
       "  <thead>\n",
       "    <tr style=\"text-align: right;\">\n",
       "      <th></th>\n",
       "      <th>Gender</th>\n",
       "      <th>Age</th>\n",
       "      <th>Occupation</th>\n",
       "      <th>Educational level</th>\n",
       "      <th>Ethnicity</th>\n",
       "      <th>Remittance Frequency</th>\n",
       "      <th>Remittance Service Count</th>\n",
       "      <th>Ad Exposure</th>\n",
       "      <th>Ad_Effectiveness rating</th>\n",
       "      <th>User_Satisfaction</th>\n",
       "      <th>Ad_Content_rate</th>\n",
       "      <th>Ad Channel type</th>\n",
       "      <th>Ad_Effect/Content</th>\n",
       "    </tr>\n",
       "  </thead>\n",
       "  <tbody>\n",
       "    <tr>\n",
       "      <th>0</th>\n",
       "      <td>Female</td>\n",
       "      <td>45-54</td>\n",
       "      <td>Self-employed</td>\n",
       "      <td>High School</td>\n",
       "      <td>Black or African American</td>\n",
       "      <td>Weekly</td>\n",
       "      <td>1.0</td>\n",
       "      <td>Once in a while</td>\n",
       "      <td>5.0</td>\n",
       "      <td>4.0</td>\n",
       "      <td>5</td>\n",
       "      <td>Traditional Media</td>\n",
       "      <td>5.0</td>\n",
       "    </tr>\n",
       "    <tr>\n",
       "      <th>1</th>\n",
       "      <td>Male</td>\n",
       "      <td>25-34</td>\n",
       "      <td>Employed</td>\n",
       "      <td>College</td>\n",
       "      <td>Black or African American</td>\n",
       "      <td>Occasionally</td>\n",
       "      <td>1.0</td>\n",
       "      <td>Daily</td>\n",
       "      <td>4.0</td>\n",
       "      <td>4.0</td>\n",
       "      <td>5</td>\n",
       "      <td>Online Media</td>\n",
       "      <td>4.5</td>\n",
       "    </tr>\n",
       "    <tr>\n",
       "      <th>2</th>\n",
       "      <td>Female</td>\n",
       "      <td>25-34</td>\n",
       "      <td>Employed</td>\n",
       "      <td>Master's Degree</td>\n",
       "      <td>Black or African American</td>\n",
       "      <td>Weekly</td>\n",
       "      <td>4.0</td>\n",
       "      <td>Daily</td>\n",
       "      <td>4.0</td>\n",
       "      <td>4.0</td>\n",
       "      <td>5</td>\n",
       "      <td>Online Media</td>\n",
       "      <td>4.5</td>\n",
       "    </tr>\n",
       "    <tr>\n",
       "      <th>3</th>\n",
       "      <td>Female</td>\n",
       "      <td>25-34</td>\n",
       "      <td>Employed</td>\n",
       "      <td>Bachelor's Degree</td>\n",
       "      <td>Black or African American</td>\n",
       "      <td>Weekly</td>\n",
       "      <td>2.0</td>\n",
       "      <td>Daily</td>\n",
       "      <td>5.0</td>\n",
       "      <td>4.0</td>\n",
       "      <td>5</td>\n",
       "      <td>Online Media</td>\n",
       "      <td>5.0</td>\n",
       "    </tr>\n",
       "    <tr>\n",
       "      <th>4</th>\n",
       "      <td>Male</td>\n",
       "      <td>35-44</td>\n",
       "      <td>Employed</td>\n",
       "      <td>Master's Degree</td>\n",
       "      <td>Black or African American</td>\n",
       "      <td>Weekly</td>\n",
       "      <td>4.0</td>\n",
       "      <td>Daily</td>\n",
       "      <td>4.0</td>\n",
       "      <td>4.0</td>\n",
       "      <td>5</td>\n",
       "      <td>Mixed Media</td>\n",
       "      <td>4.5</td>\n",
       "    </tr>\n",
       "  </tbody>\n",
       "</table>\n",
       "</div>"
      ],
      "text/plain": [
       "   Gender    Age     Occupation  Educational level                  Ethnicity  \\\n",
       "0  Female  45-54  Self-employed        High School  Black or African American   \n",
       "1    Male  25-34       Employed            College  Black or African American   \n",
       "2  Female  25-34       Employed    Master's Degree  Black or African American   \n",
       "3  Female  25-34       Employed  Bachelor's Degree  Black or African American   \n",
       "4    Male  35-44       Employed    Master's Degree  Black or African American   \n",
       "\n",
       "  Remittance Frequency  Remittance Service Count      Ad Exposure  \\\n",
       "0               Weekly                       1.0  Once in a while   \n",
       "1         Occasionally                       1.0            Daily   \n",
       "2               Weekly                       4.0            Daily   \n",
       "3               Weekly                       2.0            Daily   \n",
       "4               Weekly                       4.0            Daily   \n",
       "\n",
       "   Ad_Effectiveness rating  User_Satisfaction  Ad_Content_rate  \\\n",
       "0                      5.0                4.0                5   \n",
       "1                      4.0                4.0                5   \n",
       "2                      4.0                4.0                5   \n",
       "3                      5.0                4.0                5   \n",
       "4                      4.0                4.0                5   \n",
       "\n",
       "     Ad Channel type  Ad_Effect/Content  \n",
       "0  Traditional Media                5.0  \n",
       "1       Online Media                4.5  \n",
       "2       Online Media                4.5  \n",
       "3       Online Media                5.0  \n",
       "4        Mixed Media                4.5  "
      ]
     },
     "execution_count": 110,
     "metadata": {},
     "output_type": "execute_result"
    }
   ],
   "source": [
    "Data_2.head()"
   ]
  },
  {
   "cell_type": "markdown",
   "id": "452d21ec",
   "metadata": {},
   "source": [
    "# Hypothesis Testing"
   ]
  },
  {
   "cell_type": "markdown",
   "id": "f2aa2961",
   "metadata": {},
   "source": [
    "Are there specific demographic segments more responsive to certain advertising channel?"
   ]
  },
  {
   "cell_type": "code",
   "execution_count": 111,
   "id": "875eb60f",
   "metadata": {},
   "outputs": [
    {
     "name": "stdout",
     "output_type": "stream",
     "text": [
      "T-Statistic for Female in Traditional Media: -0.3836271775053932\n",
      "P-Value for Female in Traditional Media: 0.707455419013262\n",
      "There is no statistically significant difference for Female in Traditional Media.\n",
      "\n",
      "\n",
      "T-Statistic for Male in Traditional Media: 0.5370861555295742\n",
      "P-Value for Male in Traditional Media: 0.6029524674485836\n",
      "There is no statistically significant difference for Male in Traditional Media.\n",
      "\n",
      "\n",
      "T-Statistic for Female in Online Media: -0.2115093629609258\n",
      "P-Value for Female in Online Media: 0.8339692373553595\n",
      "There is no statistically significant difference for Female in Online Media.\n",
      "\n",
      "\n",
      "T-Statistic for Male in Online Media: 0.24274726174766262\n",
      "P-Value for Male in Online Media: 0.8100358171867968\n",
      "There is no statistically significant difference for Male in Online Media.\n",
      "\n",
      "\n",
      "T-Statistic for Female in Mixed Media: -0.445239132896644\n",
      "P-Value for Female in Mixed Media: 0.6614551461172762\n",
      "There is no statistically significant difference for Female in Mixed Media.\n",
      "\n",
      "\n",
      "T-Statistic for Male in Mixed Media: 0.20167600695473395\n",
      "P-Value for Male in Mixed Media: 0.8415780418830482\n",
      "There is no statistically significant difference for Male in Mixed Media.\n",
      "\n",
      "\n"
     ]
    }
   ],
   "source": [
    "import pandas as pd\n",
    "from scipy.stats import ttest_ind\n",
    "\n",
    "\n",
    "# List of demographic segments you want to compare (e.g., 'Male' vs 'Female')\n",
    "demographic_segments = Data_2['Gender'].unique()\n",
    "\n",
    "# Perform two-sample t-tests for each demographic segment within each advertising channel\n",
    "for channel in Data_2['Ad Channel type'].unique():\n",
    "    channel_data = Data_2[Data_2['Ad Channel type'] == channel]\n",
    "\n",
    "    for segment in demographic_segments:\n",
    "        segment_data = channel_data[channel_data['Gender'] == segment]['User_Satisfaction']\n",
    "        \n",
    "        # Assuming you have enough data points for each segment\n",
    "        t_statistic, p_value = ttest_ind(segment_data, channel_data['User_Satisfaction'])\n",
    "        \n",
    "        # Display the results\n",
    "        print(f'T-Statistic for {segment} in {channel}: {t_statistic}')\n",
    "        print(f'P-Value for {segment} in {channel}: {p_value}')\n",
    "\n",
    "        # Check for statistical significance (using a significance level of 0.05)\n",
    "        if p_value < 0.05:\n",
    "            print(f'There is a statistically significant difference for {segment} in {channel}.')\n",
    "        else:\n",
    "            print(f'There is no statistically significant difference for {segment} in {channel}.')\n",
    "        print('\\n')\n"
   ]
  },
  {
   "cell_type": "code",
   "execution_count": 116,
   "id": "9b6465b6",
   "metadata": {},
   "outputs": [
    {
     "name": "stdout",
     "output_type": "stream",
     "text": [
      "T-Statistic for 45-54 in Traditional Media: 0.7761722212972922\n",
      "P-Value for 45-54 in Traditional Media: 0.45401291461497695\n",
      "There is no statistically significant difference for 45-54 in Traditional Media.\n",
      "\n",
      "\n",
      "T-Statistic for 25-34 in Traditional Media: -0.8131968331098702\n",
      "P-Value for 25-34 in Traditional Media: 0.4370884511460884\n",
      "There is no statistically significant difference for 25-34 in Traditional Media.\n",
      "\n",
      "\n",
      "T-Statistic for 35-44 in Traditional Media: -1.730680281648848\n",
      "P-Value for 35-44 in Traditional Media: 0.12175605250399164\n",
      "There is no statistically significant difference for 35-44 in Traditional Media.\n",
      "\n",
      "\n",
      "T-Statistic for 55-65 in Traditional Media: 0.8300573566392897\n",
      "P-Value for 55-65 in Traditional Media: 0.42797437382239767\n",
      "There is no statistically significant difference for 55-65 in Traditional Media.\n",
      "\n",
      "\n",
      "T-Statistic for 65 or older in Traditional Media: nan\n",
      "P-Value for 65 or older in Traditional Media: nan\n",
      "There is no statistically significant difference for 65 or older in Traditional Media.\n",
      "\n",
      "\n",
      "T-Statistic for 45-54 in Online Media: -0.29781167876506986\n",
      "P-Value for 45-54 in Online Media: 0.7689185074317282\n",
      "There is no statistically significant difference for 45-54 in Online Media.\n",
      "\n",
      "\n",
      "T-Statistic for 25-34 in Online Media: -1.0938835388564891\n",
      "P-Value for 25-34 in Online Media: 0.2833276754843773\n",
      "There is no statistically significant difference for 25-34 in Online Media.\n",
      "\n",
      "\n",
      "T-Statistic for 35-44 in Online Media: 1.6136522335597507\n",
      "P-Value for 35-44 in Online Media: 0.1186758631127933\n",
      "There is no statistically significant difference for 35-44 in Online Media.\n",
      "\n",
      "\n",
      "T-Statistic for 55-65 in Online Media: nan\n",
      "P-Value for 55-65 in Online Media: nan\n",
      "There is no statistically significant difference for 55-65 in Online Media.\n",
      "\n",
      "\n",
      "T-Statistic for 65 or older in Online Media: nan\n",
      "P-Value for 65 or older in Online Media: nan\n",
      "There is no statistically significant difference for 65 or older in Online Media.\n",
      "\n",
      "\n",
      "T-Statistic for 45-54 in Mixed Media: 0.10993716258043831\n",
      "P-Value for 45-54 in Mixed Media: 0.9134128340821992\n",
      "There is no statistically significant difference for 45-54 in Mixed Media.\n",
      "\n",
      "\n",
      "T-Statistic for 25-34 in Mixed Media: nan\n",
      "P-Value for 25-34 in Mixed Media: nan\n",
      "There is no statistically significant difference for 25-34 in Mixed Media.\n",
      "\n",
      "\n",
      "T-Statistic for 35-44 in Mixed Media: -0.7846474633815133\n",
      "P-Value for 35-44 in Mixed Media: 0.44185582081304065\n",
      "There is no statistically significant difference for 35-44 in Mixed Media.\n",
      "\n",
      "\n",
      "T-Statistic for 55-65 in Mixed Media: 0.6663112532512073\n",
      "P-Value for 55-65 in Mixed Media: 0.5141536604711965\n",
      "There is no statistically significant difference for 55-65 in Mixed Media.\n",
      "\n",
      "\n",
      "T-Statistic for 65 or older in Mixed Media: 0.6524197325413301\n",
      "P-Value for 65 or older in Mixed Media: 0.5228552966549435\n",
      "There is no statistically significant difference for 65 or older in Mixed Media.\n",
      "\n",
      "\n"
     ]
    },
    {
     "name": "stderr",
     "output_type": "stream",
     "text": [
      "C:\\ProgramData\\anaconda3\\Lib\\site-packages\\scipy\\stats\\_axis_nan_policy.py:523: RuntimeWarning: Precision loss occurred in moment calculation due to catastrophic cancellation. This occurs when the data are nearly identical. Results may be unreliable.\n",
      "  res = hypotest_fun_out(*samples, **kwds)\n"
     ]
    }
   ],
   "source": [
    "# List of demographic segments you want to compare between different age groups\n",
    "demographic_segments_2 = Data_2['Age'].unique()\n",
    "\n",
    "# Perform two-sample t-tests for each demographic segment within each advertising channel\n",
    "for channel in Data_2['Ad Channel type'].unique():\n",
    "    channel_data = Data_2[Data_2['Ad Channel type'] == channel]\n",
    "\n",
    "    for segment in demographic_segments_2:\n",
    "        segment_data_2 = channel_data[channel_data['Age'] == segment]['Ad_Effect/Content']\n",
    "        \n",
    "        # Assuming you have enough data points for each segment\n",
    "        t_statistic, p_value = ttest_ind(segment_data_2, channel_data['Ad_Effect/Content'])\n",
    "        \n",
    "        # Display the results\n",
    "        print(f'T-Statistic for {segment} in {channel}: {t_statistic}')\n",
    "        print(f'P-Value for {segment} in {channel}: {p_value}')\n",
    "\n",
    "        # Check for statistical significance (using a significance level of 0.05)\n",
    "        if p_value < 0.05:\n",
    "            print(f'There is a statistically significant difference for {segment} in {channel}.')\n",
    "        else:\n",
    "            print(f'There is no statistically significant difference for {segment} in {channel}.')\n",
    "        print('\\n')\n"
   ]
  },
  {
   "cell_type": "code",
   "execution_count": 115,
   "id": "ddc7c6d0",
   "metadata": {},
   "outputs": [
    {
     "name": "stdout",
     "output_type": "stream",
     "text": [
      "T-Statistic for Female in Traditional Media: -0.3515311429826552\n",
      "P-Value for Female in Traditional Media: 0.7308221330387636\n",
      "There is no statistically significant difference for Female in Traditional Media.\n",
      "\n",
      "\n",
      "T-Statistic for Male in Traditional Media: 0.6117609802904959\n",
      "P-Value for Male in Traditional Media: 0.5543488179434645\n",
      "There is no statistically significant difference for Male in Traditional Media.\n",
      "\n",
      "\n",
      "T-Statistic for Female in Online Media: -0.5050140822528099\n",
      "P-Value for Female in Online Media: 0.6173654313839936\n",
      "There is no statistically significant difference for Female in Online Media.\n",
      "\n",
      "\n",
      "T-Statistic for Male in Online Media: 0.650536311179483\n",
      "P-Value for Male in Online Media: 0.5208436942134123\n",
      "There is no statistically significant difference for Male in Online Media.\n",
      "\n",
      "\n",
      "T-Statistic for Female in Mixed Media: -2.2899371679777407\n",
      "P-Value for Female in Mixed Media: 0.034319519934453965\n",
      "There is a statistically significant difference for Female in Mixed Media.\n",
      "\n",
      "\n",
      "T-Statistic for Male in Mixed Media: 1.0247341139258117\n",
      "P-Value for Male in Mixed Media: 0.3139609882060448\n",
      "There is no statistically significant difference for Male in Mixed Media.\n",
      "\n",
      "\n"
     ]
    }
   ],
   "source": [
    "# List of demographic segments you want to compare (e.g., 'Male' vs 'Female')\n",
    "demographic_segments = Data_2['Gender'].unique()\n",
    "\n",
    "# Perform two-sample t-tests for each demographic segment within each advertising channel\n",
    "for channel in Data_2['Ad Channel type'].unique():\n",
    "    channel_data = Data_2[Data_2['Ad Channel type'] == channel]\n",
    "\n",
    "    for segment in demographic_segments:\n",
    "        segment_data = channel_data[channel_data['Gender'] == segment]['Ad_Effect/Content']\n",
    "        \n",
    "        # Assuming you have enough data points for each segment\n",
    "        t_statistic, p_value = ttest_ind(segment_data, channel_data['Ad_Effect/Content'])\n",
    "        \n",
    "        # Display the results\n",
    "        print(f'T-Statistic for {segment} in {channel}: {t_statistic}')\n",
    "        print(f'P-Value for {segment} in {channel}: {p_value}')\n",
    "\n",
    "        # Check for statistical significance (using a significance level of 0.05)\n",
    "        if p_value < 0.05:\n",
    "            print(f'There is a statistically significant difference for {segment} in {channel}.')\n",
    "        else:\n",
    "            print(f'There is no statistically significant difference for {segment} in {channel}.')\n",
    "        print('\\n')\n"
   ]
  },
  {
   "cell_type": "code",
   "execution_count": 114,
   "id": "64fc306f",
   "metadata": {},
   "outputs": [
    {
     "data": {
      "image/png": "[encoded data removed]",
      "text/plain": [
       "<Figure size 640x480 with 1 Axes>"
      ]
     },
     "metadata": {},
     "output_type": "display_data"
    }
   ],
   "source": [
    "#different age groups and what ad channel type they use\n",
    "\n",
    "ad_channel_preferences = Data_2.groupby('Age')['Ad Channel type'].value_counts().unstack()\n",
    "\n",
    "# Plot ad channel preferences\n",
    "ad_channel_preferences.plot(kind='bar', stacked=True)\n",
    "plt.xlabel('Age Group')\n",
    "plt.ylabel('Number of Users')\n",
    "plt.title('Ad Channel Preferences by Age Group')\n",
    "plt.legend(title='Ad Channel', bbox_to_anchor=(1, 1))\n",
    "plt.show()"
   ]
  },
  {
   "cell_type": "code",
   "execution_count": 117,
   "id": "2d4043d6",
   "metadata": {},
   "outputs": [
    {
     "name": "stdout",
     "output_type": "stream",
     "text": [
      "T-Statistic for Black or African American in Traditional Media: 1.2123818321141206\n",
      "P-Value for Black or African American in Traditional Media: 0.2532313531718262\n",
      "There is no statistically significant difference for Black or African American in Traditional Media.\n",
      "\n",
      "\n",
      "T-Statistic for Asian in Traditional Media: -0.7364596943186588\n",
      "P-Value for Asian in Traditional Media: 0.4824854669572407\n",
      "There is no statistically significant difference for Asian in Traditional Media.\n",
      "\n",
      "\n",
      "T-Statistic for Hispanic/Latino in Traditional Media: 0.6117609802904959\n",
      "P-Value for Hispanic/Latino in Traditional Media: 0.5543488179434645\n",
      "There is no statistically significant difference for Hispanic/Latino in Traditional Media.\n",
      "\n",
      "\n",
      "T-Statistic for Caucasian/White in Traditional Media: -0.7364596943186588\n",
      "P-Value for Caucasian/White in Traditional Media: 0.4824854669572407\n",
      "There is no statistically significant difference for Caucasian/White in Traditional Media.\n",
      "\n",
      "\n",
      "T-Statistic for Other (please specify) in Traditional Media: -1.730680281648848\n",
      "P-Value for Other (please specify) in Traditional Media: 0.12175605250399164\n",
      "There is no statistically significant difference for Other (please specify) in Traditional Media.\n",
      "\n",
      "\n",
      "T-Statistic for Black or African American in Online Media: 0.5500190982169272\n",
      "P-Value for Black or African American in Online Media: 0.5860100914260946\n",
      "There is no statistically significant difference for Black or African American in Online Media.\n",
      "\n",
      "\n",
      "T-Statistic for Asian in Online Media: -2.578222317935307\n",
      "P-Value for Asian in Online Media: 0.018420607771845295\n",
      "There is a statistically significant difference for Asian in Online Media.\n",
      "\n",
      "\n",
      "T-Statistic for Hispanic/Latino in Online Media: 0.6030226891555273\n",
      "P-Value for Hispanic/Latino in Online Media: 0.5532710548264325\n",
      "There is no statistically significant difference for Hispanic/Latino in Online Media.\n",
      "\n",
      "\n",
      "T-Statistic for Caucasian/White in Online Media: -0.6030226891555273\n",
      "P-Value for Caucasian/White in Online Media: 0.5532710548264325\n",
      "There is no statistically significant difference for Caucasian/White in Online Media.\n",
      "\n",
      "\n",
      "T-Statistic for Other (please specify) in Online Media: nan\n",
      "P-Value for Other (please specify) in Online Media: nan\n",
      "There is no statistically significant difference for Other (please specify) in Online Media.\n",
      "\n",
      "\n",
      "T-Statistic for Black or African American in Mixed Media: 0.9027753956415474\n",
      "P-Value for Black or African American in Mixed Media: 0.3768842187618834\n",
      "There is no statistically significant difference for Black or African American in Mixed Media.\n",
      "\n",
      "\n",
      "T-Statistic for Asian in Mixed Media: -0.5507276363029958\n",
      "P-Value for Asian in Mixed Media: 0.5876319807877444\n",
      "There is no statistically significant difference for Asian in Mixed Media.\n",
      "\n",
      "\n",
      "T-Statistic for Hispanic/Latino in Mixed Media: -0.191089126986006\n",
      "P-Value for Hispanic/Latino in Mixed Media: 0.8504829147830684\n",
      "There is no statistically significant difference for Hispanic/Latino in Mixed Media.\n",
      "\n",
      "\n",
      "T-Statistic for Caucasian/White in Mixed Media: -0.10063092108532516\n",
      "P-Value for Caucasian/White in Mixed Media: 0.9210936484053405\n",
      "There is no statistically significant difference for Caucasian/White in Mixed Media.\n",
      "\n",
      "\n",
      "T-Statistic for Other (please specify) in Mixed Media: nan\n",
      "P-Value for Other (please specify) in Mixed Media: nan\n",
      "There is no statistically significant difference for Other (please specify) in Mixed Media.\n",
      "\n",
      "\n"
     ]
    }
   ],
   "source": [
    "# List of demographic segments you want to compare (e.g., 'Male' vs 'Female')\n",
    "demographic_segments = Data_2['Ethnicity'].unique()\n",
    "\n",
    "# Perform two-sample t-tests for each demographic segment within each advertising channel\n",
    "for channel in Data_2['Ad Channel type'].unique():\n",
    "    channel_data = Data_2[Data_2['Ad Channel type'] == channel]\n",
    "\n",
    "    for segment in demographic_segments:\n",
    "        segment_data = channel_data[channel_data['Ethnicity'] == segment]['Ad_Effect/Content']\n",
    "        \n",
    "        # Assuming you have enough data points for each segment\n",
    "        t_statistic, p_value = ttest_ind(segment_data, channel_data['Ad_Effect/Content'])\n",
    "        \n",
    "        # Display the results\n",
    "        print(f'T-Statistic for {segment} in {channel}: {t_statistic}')\n",
    "        print(f'P-Value for {segment} in {channel}: {p_value}')\n",
    "\n",
    "        # Check for statistical significance (using a significance level of 0.05)\n",
    "        if p_value < 0.05:\n",
    "            print(f'There is a statistically significant difference for {segment} in {channel}.')\n",
    "        else:\n",
    "            print(f'There is no statistically significant difference for {segment} in {channel}.')\n",
    "        print('\\n')"
   ]
  },
  {
   "cell_type": "markdown",
   "id": "900d7702",
   "metadata": {},
   "source": [
    "Sampling Bias - Sampling bias occurs when some members of the intended population are less likely to be included than others in the selected sample. Say we collected the data at Wall Street at 10AM on Monday. Significant bias can be introduced due to the flaws of the data collection because people who appear at Wall Street at that specific time are most likely working professionals in the financial industry. The sample data will miss a lot of people from other industries and other NYC neighborhoods. Consequently, the selected sample is not a good representation of NYC residents."
   ]
  },
  {
   "cell_type": "code",
   "execution_count": null,
   "id": "65ebaa8b",
   "metadata": {},
   "outputs": [],
   "source": []
  }
 ],
 "metadata": {
  "kernelspec": {
   "display_name": "Python 3 (ipykernel)",
   "language": "python",
   "name": "python3"
  },
  "language_info": {
   "codemirror_mode": {
    "name": "ipython",
    "version": 3
   },
   "file_extension": ".py",
   "mimetype": "text/x-python",
   "name": "python",
   "nbconvert_exporter": "python",
   "pygments_lexer": "ipython3",
   "version": "3.11.5"
  }
 },
 "nbformat": 4,
 "nbformat_minor": 5
}
