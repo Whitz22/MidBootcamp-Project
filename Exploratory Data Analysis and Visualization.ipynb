{
 "cells": [
  {
   "cell_type": "code",
   "execution_count": 2,
   "id": "b2b89302",
   "metadata": {},
   "outputs": [],
   "source": [
    "#Importing libraries\n",
    "import pandas as pd\n",
    "import numpy as np \n",
    "from scipy import stats\n",
    "import matplotlib.pyplot as plt\n",
    "import seaborn as sns"
   ]
  },
  {
   "cell_type": "code",
   "execution_count": 3,
   "id": "3bfe06a8",
   "metadata": {},
   "outputs": [
    {
     "data": {
      "text/html": [
       "<div>\n",
       "<style scoped>\n",
       "    .dataframe tbody tr th:only-of-type {\n",
       "        vertical-align: middle;\n",
       "    }\n",
       "\n",
       "    .dataframe tbody tr th {\n",
       "        vertical-align: top;\n",
       "    }\n",
       "\n",
       "    .dataframe thead th {\n",
       "        text-align: right;\n",
       "    }\n",
       "</style>\n",
       "<table border=\"1\" class=\"dataframe\">\n",
       "  <thead>\n",
       "    <tr style=\"text-align: right;\">\n",
       "      <th></th>\n",
       "      <th>Gender</th>\n",
       "      <th>Age</th>\n",
       "      <th>Occupation</th>\n",
       "      <th>Educational level</th>\n",
       "      <th>Ethnicity</th>\n",
       "      <th>Remittance Frequency</th>\n",
       "      <th>Remittance Service Count</th>\n",
       "      <th>Remittance Service</th>\n",
       "      <th>Ad Channel</th>\n",
       "      <th>Ad Exposure</th>\n",
       "      <th>Ad_Effectiveness rating</th>\n",
       "      <th>Ad_Content_rating</th>\n",
       "      <th>User_Satisfaction</th>\n",
       "      <th>Ad_Content_rate</th>\n",
       "    </tr>\n",
       "  </thead>\n",
       "  <tbody>\n",
       "    <tr>\n",
       "      <th>0</th>\n",
       "      <td>Female</td>\n",
       "      <td>45-54</td>\n",
       "      <td>Self-employed</td>\n",
       "      <td>High School</td>\n",
       "      <td>Black or African American</td>\n",
       "      <td>Weekly</td>\n",
       "      <td>1</td>\n",
       "      <td>TapTap Send</td>\n",
       "      <td>Word of Mouth</td>\n",
       "      <td>Once in a while</td>\n",
       "      <td>5</td>\n",
       "      <td>Strongly agree</td>\n",
       "      <td>4</td>\n",
       "      <td>5</td>\n",
       "    </tr>\n",
       "    <tr>\n",
       "      <th>1</th>\n",
       "      <td>Male</td>\n",
       "      <td>25-34</td>\n",
       "      <td>Employed</td>\n",
       "      <td>College</td>\n",
       "      <td>Black or African American</td>\n",
       "      <td>Occasionally</td>\n",
       "      <td>1</td>\n",
       "      <td>World Remit</td>\n",
       "      <td>Social media</td>\n",
       "      <td>Daily</td>\n",
       "      <td>4</td>\n",
       "      <td>Strongly agree</td>\n",
       "      <td>4</td>\n",
       "      <td>5</td>\n",
       "    </tr>\n",
       "    <tr>\n",
       "      <th>2</th>\n",
       "      <td>Female</td>\n",
       "      <td>25-34</td>\n",
       "      <td>Employed</td>\n",
       "      <td>Master's Degree</td>\n",
       "      <td>Black or African American</td>\n",
       "      <td>Weekly</td>\n",
       "      <td>4</td>\n",
       "      <td>RIA, World Remit, TapTap Send</td>\n",
       "      <td>Social media</td>\n",
       "      <td>Daily</td>\n",
       "      <td>4</td>\n",
       "      <td>Strongly agree</td>\n",
       "      <td>4</td>\n",
       "      <td>5</td>\n",
       "    </tr>\n",
       "  </tbody>\n",
       "</table>\n",
       "</div>"
      ],
      "text/plain": [
       "   Gender    Age     Occupation Educational level                  Ethnicity  \\\n",
       "0  Female  45-54  Self-employed       High School  Black or African American   \n",
       "1    Male  25-34       Employed           College  Black or African American   \n",
       "2  Female  25-34       Employed   Master's Degree  Black or African American   \n",
       "\n",
       "  Remittance Frequency  Remittance Service Count  \\\n",
       "0               Weekly                         1   \n",
       "1         Occasionally                         1   \n",
       "2               Weekly                         4   \n",
       "\n",
       "              Remittance Service     Ad Channel      Ad Exposure  \\\n",
       "0                    TapTap Send  Word of Mouth  Once in a while   \n",
       "1                    World Remit   Social media            Daily   \n",
       "2  RIA, World Remit, TapTap Send   Social media            Daily   \n",
       "\n",
       "   Ad_Effectiveness rating Ad_Content_rating  User_Satisfaction  \\\n",
       "0                        5    Strongly agree                  4   \n",
       "1                        4    Strongly agree                  4   \n",
       "2                        4    Strongly agree                  4   \n",
       "\n",
       "   Ad_Content_rate  \n",
       "0                5  \n",
       "1                5  \n",
       "2                5  "
      ]
     },
     "execution_count": 3,
     "metadata": {},
     "output_type": "execute_result"
    }
   ],
   "source": [
    "data=pd.read_excel('Cleaned_responses.xlsx')\n",
    "data.head(3)"
   ]
  },
  {
   "cell_type": "code",
   "execution_count": 4,
   "id": "0744336c",
   "metadata": {},
   "outputs": [
    {
     "data": {
      "text/html": [
       "<div>\n",
       "<style scoped>\n",
       "    .dataframe tbody tr th:only-of-type {\n",
       "        vertical-align: middle;\n",
       "    }\n",
       "\n",
       "    .dataframe tbody tr th {\n",
       "        vertical-align: top;\n",
       "    }\n",
       "\n",
       "    .dataframe thead th {\n",
       "        text-align: right;\n",
       "    }\n",
       "</style>\n",
       "<table border=\"1\" class=\"dataframe\">\n",
       "  <thead>\n",
       "    <tr style=\"text-align: right;\">\n",
       "      <th></th>\n",
       "      <th>Gender</th>\n",
       "      <th>Age</th>\n",
       "      <th>Occupation</th>\n",
       "      <th>Educational level</th>\n",
       "      <th>Ethnicity</th>\n",
       "      <th>Remittance Frequency</th>\n",
       "      <th>Remittance Service Count</th>\n",
       "      <th>Remittance Service</th>\n",
       "      <th>Ad Channel</th>\n",
       "      <th>Ad Exposure</th>\n",
       "      <th>Ad_Effectiveness rating</th>\n",
       "      <th>Ad_Content_rating</th>\n",
       "      <th>User_Satisfaction</th>\n",
       "      <th>Ad_Content_rate</th>\n",
       "      <th>Ad_Effect/Content</th>\n",
       "    </tr>\n",
       "  </thead>\n",
       "  <tbody>\n",
       "    <tr>\n",
       "      <th>0</th>\n",
       "      <td>Female</td>\n",
       "      <td>45-54</td>\n",
       "      <td>Self-employed</td>\n",
       "      <td>High School</td>\n",
       "      <td>Black or African American</td>\n",
       "      <td>Weekly</td>\n",
       "      <td>1</td>\n",
       "      <td>TapTap Send</td>\n",
       "      <td>Word of Mouth</td>\n",
       "      <td>Once in a while</td>\n",
       "      <td>5</td>\n",
       "      <td>Strongly agree</td>\n",
       "      <td>4</td>\n",
       "      <td>5</td>\n",
       "      <td>5.0</td>\n",
       "    </tr>\n",
       "    <tr>\n",
       "      <th>1</th>\n",
       "      <td>Male</td>\n",
       "      <td>25-34</td>\n",
       "      <td>Employed</td>\n",
       "      <td>College</td>\n",
       "      <td>Black or African American</td>\n",
       "      <td>Occasionally</td>\n",
       "      <td>1</td>\n",
       "      <td>World Remit</td>\n",
       "      <td>Social media</td>\n",
       "      <td>Daily</td>\n",
       "      <td>4</td>\n",
       "      <td>Strongly agree</td>\n",
       "      <td>4</td>\n",
       "      <td>5</td>\n",
       "      <td>4.5</td>\n",
       "    </tr>\n",
       "  </tbody>\n",
       "</table>\n",
       "</div>"
      ],
      "text/plain": [
       "   Gender    Age     Occupation Educational level                  Ethnicity  \\\n",
       "0  Female  45-54  Self-employed       High School  Black or African American   \n",
       "1    Male  25-34       Employed           College  Black or African American   \n",
       "\n",
       "  Remittance Frequency  Remittance Service Count Remittance Service  \\\n",
       "0               Weekly                         1        TapTap Send   \n",
       "1         Occasionally                         1        World Remit   \n",
       "\n",
       "      Ad Channel      Ad Exposure  Ad_Effectiveness rating Ad_Content_rating  \\\n",
       "0  Word of Mouth  Once in a while                        5    Strongly agree   \n",
       "1   Social media            Daily                        4    Strongly agree   \n",
       "\n",
       "   User_Satisfaction  Ad_Content_rate  Ad_Effect/Content  \n",
       "0                  4                5                5.0  \n",
       "1                  4                5                4.5  "
      ]
     },
     "execution_count": 4,
     "metadata": {},
     "output_type": "execute_result"
    }
   ],
   "source": [
    "#Create a new column which is Ad_Effect/Content Ratio \n",
    "\n",
    "data['Ad_Effect/Content'] = (data['Ad_Effectiveness rating']+ data['Ad_Content_rate'])/2\n",
    "data.head(2)"
   ]
  },
  {
   "cell_type": "code",
   "execution_count": 5,
   "id": "459cecb6",
   "metadata": {},
   "outputs": [],
   "source": [
    "#Represent Ad Channel with standard names\n",
    "#Create a function for media classification\n",
    "def ad(row):\n",
    "    if row['Ad Channel'].lower() == 'word of mouth':\n",
    "        return 'Traditional Media'\n",
    "    elif row['Ad Channel'] in ['Radio advertisements', 'TV commercials']:\n",
    "        return 'Digital Media'\n",
    "    elif row['Ad Channel'].lower() == 'social media':\n",
    "        return 'Online Media'\n",
    "    else:\n",
    "        return 'Mixed Media'\n",
    "\n",
    "data['Ad Channel type'] = data.apply(ad, axis=1)\n"
   ]
  },
  {
   "cell_type": "code",
   "execution_count": 6,
   "id": "42c370bb",
   "metadata": {
    "scrolled": false
   },
   "outputs": [
    {
     "data": {
      "text/html": [
       "<div>\n",
       "<style scoped>\n",
       "    .dataframe tbody tr th:only-of-type {\n",
       "        vertical-align: middle;\n",
       "    }\n",
       "\n",
       "    .dataframe tbody tr th {\n",
       "        vertical-align: top;\n",
       "    }\n",
       "\n",
       "    .dataframe thead th {\n",
       "        text-align: right;\n",
       "    }\n",
       "</style>\n",
       "<table border=\"1\" class=\"dataframe\">\n",
       "  <thead>\n",
       "    <tr style=\"text-align: right;\">\n",
       "      <th></th>\n",
       "      <th>Gender</th>\n",
       "      <th>Age</th>\n",
       "      <th>Occupation</th>\n",
       "      <th>Educational level</th>\n",
       "      <th>Ethnicity</th>\n",
       "      <th>Remittance Frequency</th>\n",
       "      <th>Remittance Service Count</th>\n",
       "      <th>Remittance Service</th>\n",
       "      <th>Ad Channel</th>\n",
       "      <th>Ad Exposure</th>\n",
       "      <th>Ad_Effectiveness rating</th>\n",
       "      <th>Ad_Content_rating</th>\n",
       "      <th>User_Satisfaction</th>\n",
       "      <th>Ad_Content_rate</th>\n",
       "      <th>Ad_Effect/Content</th>\n",
       "      <th>Ad Channel type</th>\n",
       "    </tr>\n",
       "  </thead>\n",
       "  <tbody>\n",
       "    <tr>\n",
       "      <th>0</th>\n",
       "      <td>Female</td>\n",
       "      <td>45-54</td>\n",
       "      <td>Self-employed</td>\n",
       "      <td>High School</td>\n",
       "      <td>Black or African American</td>\n",
       "      <td>Weekly</td>\n",
       "      <td>1</td>\n",
       "      <td>TapTap Send</td>\n",
       "      <td>Word of Mouth</td>\n",
       "      <td>Once in a while</td>\n",
       "      <td>5</td>\n",
       "      <td>Strongly agree</td>\n",
       "      <td>4</td>\n",
       "      <td>5</td>\n",
       "      <td>5.0</td>\n",
       "      <td>Traditional Media</td>\n",
       "    </tr>\n",
       "    <tr>\n",
       "      <th>1</th>\n",
       "      <td>Male</td>\n",
       "      <td>25-34</td>\n",
       "      <td>Employed</td>\n",
       "      <td>College</td>\n",
       "      <td>Black or African American</td>\n",
       "      <td>Occasionally</td>\n",
       "      <td>1</td>\n",
       "      <td>World Remit</td>\n",
       "      <td>Social media</td>\n",
       "      <td>Daily</td>\n",
       "      <td>4</td>\n",
       "      <td>Strongly agree</td>\n",
       "      <td>4</td>\n",
       "      <td>5</td>\n",
       "      <td>4.5</td>\n",
       "      <td>Online Media</td>\n",
       "    </tr>\n",
       "  </tbody>\n",
       "</table>\n",
       "</div>"
      ],
      "text/plain": [
       "   Gender    Age     Occupation Educational level                  Ethnicity  \\\n",
       "0  Female  45-54  Self-employed       High School  Black or African American   \n",
       "1    Male  25-34       Employed           College  Black or African American   \n",
       "\n",
       "  Remittance Frequency  Remittance Service Count Remittance Service  \\\n",
       "0               Weekly                         1        TapTap Send   \n",
       "1         Occasionally                         1        World Remit   \n",
       "\n",
       "      Ad Channel      Ad Exposure  Ad_Effectiveness rating Ad_Content_rating  \\\n",
       "0  Word of Mouth  Once in a while                        5    Strongly agree   \n",
       "1   Social media            Daily                        4    Strongly agree   \n",
       "\n",
       "   User_Satisfaction  Ad_Content_rate  Ad_Effect/Content    Ad Channel type  \n",
       "0                  4                5                5.0  Traditional Media  \n",
       "1                  4                5                4.5       Online Media  "
      ]
     },
     "execution_count": 6,
     "metadata": {},
     "output_type": "execute_result"
    }
   ],
   "source": [
    "data.head(2)"
   ]
  },
  {
   "cell_type": "code",
   "execution_count": 7,
   "id": "5076f215",
   "metadata": {},
   "outputs": [
    {
     "data": {
      "text/html": [
       "<div>\n",
       "<style scoped>\n",
       "    .dataframe tbody tr th:only-of-type {\n",
       "        vertical-align: middle;\n",
       "    }\n",
       "\n",
       "    .dataframe tbody tr th {\n",
       "        vertical-align: top;\n",
       "    }\n",
       "\n",
       "    .dataframe thead th {\n",
       "        text-align: right;\n",
       "    }\n",
       "</style>\n",
       "<table border=\"1\" class=\"dataframe\">\n",
       "  <thead>\n",
       "    <tr style=\"text-align: right;\">\n",
       "      <th></th>\n",
       "      <th>Gender</th>\n",
       "      <th>Age</th>\n",
       "      <th>Occupation</th>\n",
       "      <th>Educational level</th>\n",
       "      <th>Ethnicity</th>\n",
       "      <th>Remittance Frequency</th>\n",
       "      <th>Remittance Service Count</th>\n",
       "      <th>Ad Exposure</th>\n",
       "      <th>Ad_Effectiveness rating</th>\n",
       "      <th>User_Satisfaction</th>\n",
       "      <th>Ad_Content_rate</th>\n",
       "      <th>Ad Channel type</th>\n",
       "      <th>Ad_Effect/Content</th>\n",
       "    </tr>\n",
       "  </thead>\n",
       "  <tbody>\n",
       "    <tr>\n",
       "      <th>0</th>\n",
       "      <td>Female</td>\n",
       "      <td>45-54</td>\n",
       "      <td>Self-employed</td>\n",
       "      <td>High School</td>\n",
       "      <td>Black or African American</td>\n",
       "      <td>Weekly</td>\n",
       "      <td>1</td>\n",
       "      <td>Once in a while</td>\n",
       "      <td>5</td>\n",
       "      <td>4</td>\n",
       "      <td>5</td>\n",
       "      <td>Traditional Media</td>\n",
       "      <td>5.0</td>\n",
       "    </tr>\n",
       "    <tr>\n",
       "      <th>1</th>\n",
       "      <td>Male</td>\n",
       "      <td>25-34</td>\n",
       "      <td>Employed</td>\n",
       "      <td>College</td>\n",
       "      <td>Black or African American</td>\n",
       "      <td>Occasionally</td>\n",
       "      <td>1</td>\n",
       "      <td>Daily</td>\n",
       "      <td>4</td>\n",
       "      <td>4</td>\n",
       "      <td>5</td>\n",
       "      <td>Online Media</td>\n",
       "      <td>4.5</td>\n",
       "    </tr>\n",
       "  </tbody>\n",
       "</table>\n",
       "</div>"
      ],
      "text/plain": [
       "   Gender    Age     Occupation Educational level                  Ethnicity  \\\n",
       "0  Female  45-54  Self-employed       High School  Black or African American   \n",
       "1    Male  25-34       Employed           College  Black or African American   \n",
       "\n",
       "  Remittance Frequency  Remittance Service Count      Ad Exposure  \\\n",
       "0               Weekly                         1  Once in a while   \n",
       "1         Occasionally                         1            Daily   \n",
       "\n",
       "   Ad_Effectiveness rating  User_Satisfaction  Ad_Content_rate  \\\n",
       "0                        5                  4                5   \n",
       "1                        4                  4                5   \n",
       "\n",
       "     Ad Channel type  Ad_Effect/Content  \n",
       "0  Traditional Media                5.0  \n",
       "1       Online Media                4.5  "
      ]
     },
     "execution_count": 7,
     "metadata": {},
     "output_type": "execute_result"
    }
   ],
   "source": [
    "#Create a new dataframe for easier analysis\n",
    "Data_2=data[[\"Gender\", \"Age\", \"Occupation\", \"Educational level\", \"Ethnicity\", \"Remittance Frequency\",\"Remittance Service Count\",\"Ad Exposure\",\"Ad_Effectiveness rating\",\"User_Satisfaction\",\"Ad_Content_rate\",\"Ad Channel type\",\"Ad_Effect/Content\"]]\n",
    "Data_2.head(2)"
   ]
  },
  {
   "cell_type": "code",
   "execution_count": 8,
   "id": "9e01565b",
   "metadata": {},
   "outputs": [
    {
     "data": {
      "text/plain": [
       "Gender  Ethnicity                \n",
       "Male    Black or African American    13\n",
       "Female  Black or African American    11\n",
       "Male    Hispanic/Latino               7\n",
       "Female  Asian                         4\n",
       "Male    Asian                         4\n",
       "Female  Caucasian/White               2\n",
       "        Hispanic/Latino               2\n",
       "Male    Caucasian/White               2\n",
       "Female  Other (please specify)        1\n",
       "Name: count, dtype: int64"
      ]
     },
     "execution_count": 8,
     "metadata": {},
     "output_type": "execute_result"
    }
   ],
   "source": [
    "#to find total Gender and Ethnicity remits\n",
    "Gender_count=Data_2[['Gender','Ethnicity']].value_counts()\n",
    "Gender_count"
   ]
  },
  {
   "cell_type": "code",
   "execution_count": 9,
   "id": "d08e7df3",
   "metadata": {},
   "outputs": [
    {
     "data": {
      "text/plain": [
       "Ethnicity                  Educational level\n",
       "Black or African American  Bachelor's Degree    8\n",
       "                           Master's Degree      7\n",
       "Hispanic/Latino            College              6\n",
       "Black or African American  College              5\n",
       "Asian                      Master's Degree      3\n",
       "                           Bachelor's Degree    2\n",
       "                           College              2\n",
       "Black or African American  Doctorate            2\n",
       "                           High School          2\n",
       "Caucasian/White            Bachelor's Degree    2\n",
       "                           Master's Degree      2\n",
       "Hispanic/Latino            Bachelor's Degree    2\n",
       "Asian                      High School          1\n",
       "Hispanic/Latino            Master's Degree      1\n",
       "Other (please specify)     Master's Degree      1\n",
       "Name: count, dtype: int64"
      ]
     },
     "execution_count": 9,
     "metadata": {},
     "output_type": "execute_result"
    }
   ],
   "source": [
    "#to find Educational levels between Ethnicity\n",
    "Data_2[['Ethnicity','Educational level']].value_counts()"
   ]
  },
  {
   "cell_type": "code",
   "execution_count": 8,
   "id": "375e1d65",
   "metadata": {},
   "outputs": [
    {
     "data": {
      "image/png": "[encoded data removed]",
      "text/plain": [
       "<Figure size 640x480 with 1 Axes>"
      ]
     },
     "metadata": {},
     "output_type": "display_data"
    }
   ],
   "source": [
    "#Showing male vs female remittance\n",
    "Data_2['Gender'].value_counts().plot.bar()\n",
    "plt.xlabel('Gender')\n",
    "plt.ylabel('Count')\n",
    "\n",
    "plt.title('Distribution of Gender')\n",
    "\n",
    "plt.show()"
   ]
  },
  {
   "cell_type": "code",
   "execution_count": 6,
   "id": "2f45203f",
   "metadata": {},
   "outputs": [
    {
     "data": {
      "text/plain": [
       "Ethnicity\n",
       "Black or African American    24\n",
       "Hispanic/Latino               9\n",
       "Asian                         8\n",
       "Caucasian/White               4\n",
       "Other (please specify)        1\n",
       "Name: count, dtype: int64"
      ]
     },
     "execution_count": 6,
     "metadata": {},
     "output_type": "execute_result"
    }
   ],
   "source": [
    "#Ethninicity count\n",
    "Data_2[\"Ethnicity\"].value_counts()"
   ]
  },
  {
   "cell_type": "code",
   "execution_count": 10,
   "id": "c4e2fed0",
   "metadata": {},
   "outputs": [
    {
     "data": {
      "image/png": "[encoded data removed]",
      "text/plain": [
       "<Figure size 640x480 with 1 Axes>"
      ]
     },
     "metadata": {},
     "output_type": "display_data"
    }
   ],
   "source": [
    "#Showing it visually\n",
    "sns.countplot(x='Ethnicity', data=Data_2)\n",
    "\n",
    "plt.title('Distribution of Ethnic Groups')\n",
    "plt.xticks(rotation=90)\n",
    "\n",
    "plt.show()"
   ]
  },
  {
   "cell_type": "code",
   "execution_count": 11,
   "id": "3127f68e",
   "metadata": {},
   "outputs": [
    {
     "data": {
      "text/plain": [
       "Occupation     Educational level\n",
       "Employed       Master's Degree      12\n",
       "               Bachelor's Degree    11\n",
       "               College              11\n",
       "               Doctorate             2\n",
       "Self-employed  Bachelor's Degree     2\n",
       "               College               2\n",
       "               High School           2\n",
       "Employed       High School           1\n",
       "Retired        Bachelor's Degree     1\n",
       "               Master's Degree       1\n",
       "Unemployed     Master's Degree       1\n",
       "Name: count, dtype: int64"
      ]
     },
     "execution_count": 11,
     "metadata": {},
     "output_type": "execute_result"
    }
   ],
   "source": [
    "#to find occupation and educational count\n",
    "Occupation_count=Data_2[['Occupation','Educational level']].value_counts()\n",
    "Occupation_count"
   ]
  },
  {
   "cell_type": "code",
   "execution_count": 12,
   "id": "3b2ba2f6",
   "metadata": {},
   "outputs": [
    {
     "data": {
      "text/plain": [
       "Remittance Frequency\n",
       "Monthly         26\n",
       "Weekly           9\n",
       "Rarely           6\n",
       "Occasionally     5\n",
       "Name: count, dtype: int64"
      ]
     },
     "execution_count": 12,
     "metadata": {},
     "output_type": "execute_result"
    }
   ],
   "source": [
    "#This is to find remittance count\n",
    "Remittance_count=Data_2['Remittance Frequency'].value_counts()\n",
    "Remittance_count"
   ]
  },
  {
   "cell_type": "code",
   "execution_count": 13,
   "id": "300c8329",
   "metadata": {},
   "outputs": [
    {
     "data": {
      "image/png": "[encoded data removed]",
      "text/plain": [
       "<Figure size 640x480 with 1 Axes>"
      ]
     },
     "metadata": {},
     "output_type": "display_data"
    }
   ],
   "source": [
    "#showing it visually\n",
    "sns.countplot(x='Remittance Frequency', data=Data_2)\n",
    "\n",
    "plt.title('Remittance Frequency')\n",
    "#plt.xticks(rotation=90)\n",
    "\n",
    "plt.show()"
   ]
  },
  {
   "cell_type": "code",
   "execution_count": 14,
   "id": "cf1cb707",
   "metadata": {},
   "outputs": [
    {
     "data": {
      "text/plain": [
       "Ad Channel type\n",
       "Online Media         20\n",
       "Mixed Media          15\n",
       "Traditional Media    11\n",
       "Name: count, dtype: int64"
      ]
     },
     "execution_count": 14,
     "metadata": {},
     "output_type": "execute_result"
    }
   ],
   "source": [
    "#This is to find Ad channel count\n",
    "Chanel_count=Data_2['Ad Channel type'].value_counts()\n",
    "Chanel_count"
   ]
  },
  {
   "cell_type": "code",
   "execution_count": 15,
   "id": "7d7f1cd9",
   "metadata": {},
   "outputs": [
    {
     "data": {
      "image/png": "[encoded data removed]",
      "text/plain": [
       "<Figure size 640x480 with 1 Axes>"
      ]
     },
     "metadata": {},
     "output_type": "display_data"
    }
   ],
   "source": [
    "#Visually\n",
    "sns.countplot(x='Ad Channel type', data=Data_2)\n",
    "\n",
    "plt.title('Distribution of Ad Channels')\n",
    "#plt.xticks(rotation=90)\n",
    "\n",
    "plt.show()"
   ]
  },
  {
   "cell_type": "code",
   "execution_count": 16,
   "id": "8d04210d",
   "metadata": {},
   "outputs": [
    {
     "data": {
      "image/png": "[encoded data removed]",
      "text/plain": [
       "<Figure size 640x480 with 1 Axes>"
      ]
     },
     "metadata": {},
     "output_type": "display_data"
    }
   ],
   "source": [
    "#Age Distribution\n",
    "sns.countplot(x='Age', data=Data_2)\n",
    "\n",
    "plt.title('Age Distribution')\n",
    "#plt.xticks(rotation=90)\n",
    "\n",
    "plt.show()"
   ]
  },
  {
   "cell_type": "code",
   "execution_count": 17,
   "id": "12e6c55a",
   "metadata": {},
   "outputs": [
    {
     "data": {
      "text/plain": [
       "Age\n",
       "45-54          14\n",
       "35-44          14\n",
       "25-34          12\n",
       "55-65           4\n",
       "65 or older     2\n",
       "Name: count, dtype: int64"
      ]
     },
     "execution_count": 17,
     "metadata": {},
     "output_type": "execute_result"
    }
   ],
   "source": [
    "#Age Distribution\n",
    "Data_2['Age'].value_counts()"
   ]
  },
  {
   "cell_type": "code",
   "execution_count": 18,
   "id": "3cc392ad",
   "metadata": {},
   "outputs": [
    {
     "data": {
      "image/png": "[encoded data removed]",
      "text/plain": [
       "<Figure size 640x480 with 1 Axes>"
      ]
     },
     "metadata": {},
     "output_type": "display_data"
    }
   ],
   "source": [
    "# visually Educational level\n",
    "sns.countplot(x='Educational level', data=Data_2)\n",
    "\n",
    "plt.title('Distribution of Educational Background')\n",
    "plt.xticks(rotation=90)\n",
    "\n",
    "plt.show()"
   ]
  },
  {
   "cell_type": "code",
   "execution_count": 19,
   "id": "b0724458",
   "metadata": {},
   "outputs": [
    {
     "data": {
      "text/html": [
       "<div>\n",
       "<style scoped>\n",
       "    .dataframe tbody tr th:only-of-type {\n",
       "        vertical-align: middle;\n",
       "    }\n",
       "\n",
       "    .dataframe tbody tr th {\n",
       "        vertical-align: top;\n",
       "    }\n",
       "\n",
       "    .dataframe thead th {\n",
       "        text-align: right;\n",
       "    }\n",
       "</style>\n",
       "<table border=\"1\" class=\"dataframe\">\n",
       "  <thead>\n",
       "    <tr style=\"text-align: right;\">\n",
       "      <th></th>\n",
       "      <th>Gender</th>\n",
       "      <th>Ethnicity</th>\n",
       "      <th>Remittance Service Count</th>\n",
       "    </tr>\n",
       "  </thead>\n",
       "  <tbody>\n",
       "    <tr>\n",
       "      <th>0</th>\n",
       "      <td>Female</td>\n",
       "      <td>Asian</td>\n",
       "      <td>1.000000</td>\n",
       "    </tr>\n",
       "    <tr>\n",
       "      <th>1</th>\n",
       "      <td>Female</td>\n",
       "      <td>Black or African American</td>\n",
       "      <td>1.636364</td>\n",
       "    </tr>\n",
       "    <tr>\n",
       "      <th>2</th>\n",
       "      <td>Female</td>\n",
       "      <td>Caucasian/White</td>\n",
       "      <td>1.000000</td>\n",
       "    </tr>\n",
       "    <tr>\n",
       "      <th>3</th>\n",
       "      <td>Female</td>\n",
       "      <td>Hispanic/Latino</td>\n",
       "      <td>2.500000</td>\n",
       "    </tr>\n",
       "    <tr>\n",
       "      <th>4</th>\n",
       "      <td>Female</td>\n",
       "      <td>Other (please specify)</td>\n",
       "      <td>1.000000</td>\n",
       "    </tr>\n",
       "    <tr>\n",
       "      <th>5</th>\n",
       "      <td>Male</td>\n",
       "      <td>Asian</td>\n",
       "      <td>1.000000</td>\n",
       "    </tr>\n",
       "    <tr>\n",
       "      <th>6</th>\n",
       "      <td>Male</td>\n",
       "      <td>Black or African American</td>\n",
       "      <td>1.769231</td>\n",
       "    </tr>\n",
       "    <tr>\n",
       "      <th>7</th>\n",
       "      <td>Male</td>\n",
       "      <td>Caucasian/White</td>\n",
       "      <td>1.000000</td>\n",
       "    </tr>\n",
       "    <tr>\n",
       "      <th>8</th>\n",
       "      <td>Male</td>\n",
       "      <td>Hispanic/Latino</td>\n",
       "      <td>1.142857</td>\n",
       "    </tr>\n",
       "  </tbody>\n",
       "</table>\n",
       "</div>"
      ],
      "text/plain": [
       "   Gender                  Ethnicity  Remittance Service Count\n",
       "0  Female                      Asian                  1.000000\n",
       "1  Female  Black or African American                  1.636364\n",
       "2  Female            Caucasian/White                  1.000000\n",
       "3  Female            Hispanic/Latino                  2.500000\n",
       "4  Female     Other (please specify)                  1.000000\n",
       "5    Male                      Asian                  1.000000\n",
       "6    Male  Black or African American                  1.769231\n",
       "7    Male            Caucasian/White                  1.000000\n",
       "8    Male            Hispanic/Latino                  1.142857"
      ]
     },
     "execution_count": 19,
     "metadata": {},
     "output_type": "execute_result"
    }
   ],
   "source": [
    "#This is to find to find average remittance apps used amongst Gender and ethnicity\n",
    "Data_2.groupby(['Gender','Ethnicity']).agg({'Remittance Service Count':\"mean\"}).reset_index()"
   ]
  },
  {
   "cell_type": "code",
   "execution_count": 20,
   "id": "d2300e8c",
   "metadata": {},
   "outputs": [
    {
     "data": {
      "text/html": [
       "<div>\n",
       "<style scoped>\n",
       "    .dataframe tbody tr th:only-of-type {\n",
       "        vertical-align: middle;\n",
       "    }\n",
       "\n",
       "    .dataframe tbody tr th {\n",
       "        vertical-align: top;\n",
       "    }\n",
       "\n",
       "    .dataframe thead th {\n",
       "        text-align: right;\n",
       "    }\n",
       "</style>\n",
       "<table border=\"1\" class=\"dataframe\">\n",
       "  <thead>\n",
       "    <tr style=\"text-align: right;\">\n",
       "      <th></th>\n",
       "      <th>Gender</th>\n",
       "      <th>Remittance Service Count</th>\n",
       "    </tr>\n",
       "  </thead>\n",
       "  <tbody>\n",
       "    <tr>\n",
       "      <th>0</th>\n",
       "      <td>Female</td>\n",
       "      <td>1.500000</td>\n",
       "    </tr>\n",
       "    <tr>\n",
       "      <th>1</th>\n",
       "      <td>Male</td>\n",
       "      <td>1.423077</td>\n",
       "    </tr>\n",
       "  </tbody>\n",
       "</table>\n",
       "</div>"
      ],
      "text/plain": [
       "   Gender  Remittance Service Count\n",
       "0  Female                  1.500000\n",
       "1    Male                  1.423077"
      ]
     },
     "execution_count": 20,
     "metadata": {},
     "output_type": "execute_result"
    }
   ],
   "source": [
    "#This is to find to find average remittance apps used amongst male and female\n",
    "Data_2.groupby(['Gender']).agg({'Remittance Service Count':\"mean\"}).reset_index()"
   ]
  },
  {
   "cell_type": "code",
   "execution_count": 21,
   "id": "47ed615f",
   "metadata": {},
   "outputs": [
    {
     "data": {
      "text/html": [
       "<div>\n",
       "<style scoped>\n",
       "    .dataframe tbody tr th:only-of-type {\n",
       "        vertical-align: middle;\n",
       "    }\n",
       "\n",
       "    .dataframe tbody tr th {\n",
       "        vertical-align: top;\n",
       "    }\n",
       "\n",
       "    .dataframe thead th {\n",
       "        text-align: right;\n",
       "    }\n",
       "</style>\n",
       "<table border=\"1\" class=\"dataframe\">\n",
       "  <thead>\n",
       "    <tr style=\"text-align: right;\">\n",
       "      <th></th>\n",
       "      <th></th>\n",
       "      <th>Ad_Effect/Content</th>\n",
       "      <th>User_Satisfaction</th>\n",
       "    </tr>\n",
       "    <tr>\n",
       "      <th>Gender</th>\n",
       "      <th>Ethnicity</th>\n",
       "      <th></th>\n",
       "      <th></th>\n",
       "    </tr>\n",
       "  </thead>\n",
       "  <tbody>\n",
       "    <tr>\n",
       "      <th rowspan=\"5\" valign=\"top\">Female</th>\n",
       "      <th>Asian</th>\n",
       "      <td>2.000000</td>\n",
       "      <td>4.000000</td>\n",
       "    </tr>\n",
       "    <tr>\n",
       "      <th>Black or African American</th>\n",
       "      <td>4.136364</td>\n",
       "      <td>4.181818</td>\n",
       "    </tr>\n",
       "    <tr>\n",
       "      <th>Caucasian/White</th>\n",
       "      <td>3.250000</td>\n",
       "      <td>4.500000</td>\n",
       "    </tr>\n",
       "    <tr>\n",
       "      <th>Hispanic/Latino</th>\n",
       "      <td>4.500000</td>\n",
       "      <td>4.000000</td>\n",
       "    </tr>\n",
       "    <tr>\n",
       "      <th>Other (please specify)</th>\n",
       "      <td>1.000000</td>\n",
       "      <td>3.000000</td>\n",
       "    </tr>\n",
       "    <tr>\n",
       "      <th rowspan=\"4\" valign=\"top\">Male</th>\n",
       "      <th>Asian</th>\n",
       "      <td>4.625000</td>\n",
       "      <td>4.250000</td>\n",
       "    </tr>\n",
       "    <tr>\n",
       "      <th>Black or African American</th>\n",
       "      <td>4.461538</td>\n",
       "      <td>4.461538</td>\n",
       "    </tr>\n",
       "    <tr>\n",
       "      <th>Caucasian/White</th>\n",
       "      <td>3.500000</td>\n",
       "      <td>4.000000</td>\n",
       "    </tr>\n",
       "    <tr>\n",
       "      <th>Hispanic/Latino</th>\n",
       "      <td>4.071429</td>\n",
       "      <td>4.714286</td>\n",
       "    </tr>\n",
       "  </tbody>\n",
       "</table>\n",
       "</div>"
      ],
      "text/plain": [
       "                                  Ad_Effect/Content  User_Satisfaction\n",
       "Gender Ethnicity                                                      \n",
       "Female Asian                               2.000000           4.000000\n",
       "       Black or African American           4.136364           4.181818\n",
       "       Caucasian/White                     3.250000           4.500000\n",
       "       Hispanic/Latino                     4.500000           4.000000\n",
       "       Other (please specify)              1.000000           3.000000\n",
       "Male   Asian                               4.625000           4.250000\n",
       "       Black or African American           4.461538           4.461538\n",
       "       Caucasian/White                     3.500000           4.000000\n",
       "       Hispanic/Latino                     4.071429           4.714286"
      ]
     },
     "execution_count": 21,
     "metadata": {},
     "output_type": "execute_result"
    }
   ],
   "source": [
    "# find average user satisfaction rate amongst gender and ethnicity\n",
    "Data_2.groupby(['Gender','Ethnicity']).agg({'Ad_Effect/Content':'mean','User_Satisfaction':'mean'})"
   ]
  },
  {
   "cell_type": "code",
   "execution_count": 22,
   "id": "23896964",
   "metadata": {},
   "outputs": [
    {
     "data": {
      "text/html": [
       "<div>\n",
       "<style scoped>\n",
       "    .dataframe tbody tr th:only-of-type {\n",
       "        vertical-align: middle;\n",
       "    }\n",
       "\n",
       "    .dataframe tbody tr th {\n",
       "        vertical-align: top;\n",
       "    }\n",
       "\n",
       "    .dataframe thead th {\n",
       "        text-align: right;\n",
       "    }\n",
       "</style>\n",
       "<table border=\"1\" class=\"dataframe\">\n",
       "  <thead>\n",
       "    <tr style=\"text-align: right;\">\n",
       "      <th></th>\n",
       "      <th>Ad_Effect/Content</th>\n",
       "      <th>User_Satisfaction</th>\n",
       "    </tr>\n",
       "    <tr>\n",
       "      <th>Gender</th>\n",
       "      <th></th>\n",
       "      <th></th>\n",
       "    </tr>\n",
       "  </thead>\n",
       "  <tbody>\n",
       "    <tr>\n",
       "      <th>Female</th>\n",
       "      <td>3.500000</td>\n",
       "      <td>4.100000</td>\n",
       "    </tr>\n",
       "    <tr>\n",
       "      <th>Male</th>\n",
       "      <td>4.307692</td>\n",
       "      <td>4.461538</td>\n",
       "    </tr>\n",
       "  </tbody>\n",
       "</table>\n",
       "</div>"
      ],
      "text/plain": [
       "        Ad_Effect/Content  User_Satisfaction\n",
       "Gender                                      \n",
       "Female           3.500000           4.100000\n",
       "Male             4.307692           4.461538"
      ]
     },
     "execution_count": 22,
     "metadata": {},
     "output_type": "execute_result"
    }
   ],
   "source": [
    "# find average user satisfaction rate amongst male and female\n",
    "Data_2.groupby(['Gender']).agg({'Ad_Effect/Content':'mean','User_Satisfaction':'mean'})"
   ]
  },
  {
   "cell_type": "code",
   "execution_count": 23,
   "id": "d1da5b99",
   "metadata": {},
   "outputs": [
    {
     "data": {
      "text/html": [
       "<div>\n",
       "<style scoped>\n",
       "    .dataframe tbody tr th:only-of-type {\n",
       "        vertical-align: middle;\n",
       "    }\n",
       "\n",
       "    .dataframe tbody tr th {\n",
       "        vertical-align: top;\n",
       "    }\n",
       "\n",
       "    .dataframe thead th {\n",
       "        text-align: right;\n",
       "    }\n",
       "</style>\n",
       "<table border=\"1\" class=\"dataframe\">\n",
       "  <thead>\n",
       "    <tr style=\"text-align: right;\">\n",
       "      <th></th>\n",
       "      <th></th>\n",
       "      <th>Ad_Effect/Content</th>\n",
       "      <th>User_Satisfaction</th>\n",
       "    </tr>\n",
       "    <tr>\n",
       "      <th>Gender</th>\n",
       "      <th>Educational level</th>\n",
       "      <th></th>\n",
       "      <th></th>\n",
       "    </tr>\n",
       "  </thead>\n",
       "  <tbody>\n",
       "    <tr>\n",
       "      <th rowspan=\"4\" valign=\"top\">Female</th>\n",
       "      <th>Bachelor's Degree</th>\n",
       "      <td>3.700000</td>\n",
       "      <td>4.000000</td>\n",
       "    </tr>\n",
       "    <tr>\n",
       "      <th>College</th>\n",
       "      <td>4.500000</td>\n",
       "      <td>4.666667</td>\n",
       "    </tr>\n",
       "    <tr>\n",
       "      <th>High School</th>\n",
       "      <td>5.000000</td>\n",
       "      <td>4.000000</td>\n",
       "    </tr>\n",
       "    <tr>\n",
       "      <th>Master's Degree</th>\n",
       "      <td>3.000000</td>\n",
       "      <td>4.000000</td>\n",
       "    </tr>\n",
       "    <tr>\n",
       "      <th rowspan=\"5\" valign=\"top\">Male</th>\n",
       "      <th>Bachelor's Degree</th>\n",
       "      <td>4.000000</td>\n",
       "      <td>4.000000</td>\n",
       "    </tr>\n",
       "    <tr>\n",
       "      <th>College</th>\n",
       "      <td>4.400000</td>\n",
       "      <td>4.800000</td>\n",
       "    </tr>\n",
       "    <tr>\n",
       "      <th>Doctorate</th>\n",
       "      <td>4.000000</td>\n",
       "      <td>5.000000</td>\n",
       "    </tr>\n",
       "    <tr>\n",
       "      <th>High School</th>\n",
       "      <td>4.750000</td>\n",
       "      <td>4.000000</td>\n",
       "    </tr>\n",
       "    <tr>\n",
       "      <th>Master's Degree</th>\n",
       "      <td>4.833333</td>\n",
       "      <td>4.666667</td>\n",
       "    </tr>\n",
       "  </tbody>\n",
       "</table>\n",
       "</div>"
      ],
      "text/plain": [
       "                          Ad_Effect/Content  User_Satisfaction\n",
       "Gender Educational level                                      \n",
       "Female Bachelor's Degree           3.700000           4.000000\n",
       "       College                     4.500000           4.666667\n",
       "       High School                 5.000000           4.000000\n",
       "       Master's Degree             3.000000           4.000000\n",
       "Male   Bachelor's Degree           4.000000           4.000000\n",
       "       College                     4.400000           4.800000\n",
       "       Doctorate                   4.000000           5.000000\n",
       "       High School                 4.750000           4.000000\n",
       "       Master's Degree             4.833333           4.666667"
      ]
     },
     "execution_count": 23,
     "metadata": {},
     "output_type": "execute_result"
    }
   ],
   "source": [
    "# finding average user satisfaction amongst gender and educational level\n",
    "Data_2.groupby(['Gender','Educational level']).agg({'Ad_Effect/Content':'mean','User_Satisfaction':'mean'})"
   ]
  },
  {
   "cell_type": "code",
   "execution_count": 24,
   "id": "25a70273",
   "metadata": {},
   "outputs": [
    {
     "data": {
      "text/html": [
       "<div>\n",
       "<style scoped>\n",
       "    .dataframe tbody tr th:only-of-type {\n",
       "        vertical-align: middle;\n",
       "    }\n",
       "\n",
       "    .dataframe tbody tr th {\n",
       "        vertical-align: top;\n",
       "    }\n",
       "\n",
       "    .dataframe thead th {\n",
       "        text-align: right;\n",
       "    }\n",
       "</style>\n",
       "<table border=\"1\" class=\"dataframe\">\n",
       "  <thead>\n",
       "    <tr style=\"text-align: right;\">\n",
       "      <th></th>\n",
       "      <th></th>\n",
       "      <th>Ad_Effect/Content</th>\n",
       "    </tr>\n",
       "    <tr>\n",
       "      <th>Ad Exposure</th>\n",
       "      <th>Gender</th>\n",
       "      <th></th>\n",
       "    </tr>\n",
       "  </thead>\n",
       "  <tbody>\n",
       "    <tr>\n",
       "      <th rowspan=\"2\" valign=\"top\">Daily</th>\n",
       "      <th>Female</th>\n",
       "      <td>4.000000</td>\n",
       "    </tr>\n",
       "    <tr>\n",
       "      <th>Male</th>\n",
       "      <td>4.500000</td>\n",
       "    </tr>\n",
       "    <tr>\n",
       "      <th rowspan=\"2\" valign=\"top\">Once in a while</th>\n",
       "      <th>Female</th>\n",
       "      <td>3.250000</td>\n",
       "    </tr>\n",
       "    <tr>\n",
       "      <th>Male</th>\n",
       "      <td>4.166667</td>\n",
       "    </tr>\n",
       "    <tr>\n",
       "      <th rowspan=\"2\" valign=\"top\">Weekly</th>\n",
       "      <th>Female</th>\n",
       "      <td>3.166667</td>\n",
       "    </tr>\n",
       "    <tr>\n",
       "      <th>Male</th>\n",
       "      <td>4.375000</td>\n",
       "    </tr>\n",
       "  </tbody>\n",
       "</table>\n",
       "</div>"
      ],
      "text/plain": [
       "                        Ad_Effect/Content\n",
       "Ad Exposure     Gender                   \n",
       "Daily           Female           4.000000\n",
       "                Male             4.500000\n",
       "Once in a while Female           3.250000\n",
       "                Male             4.166667\n",
       "Weekly          Female           3.166667\n",
       "                Male             4.375000"
      ]
     },
     "execution_count": 24,
     "metadata": {},
     "output_type": "execute_result"
    }
   ],
   "source": [
    "#finding the average Ad exposure amongst Gender\n",
    "Data_2.groupby(['Ad Exposure','Gender']).agg({'Ad_Effect/Content':'mean'})"
   ]
  },
  {
   "cell_type": "code",
   "execution_count": 25,
   "id": "56102cf8",
   "metadata": {},
   "outputs": [
    {
     "data": {
      "text/html": [
       "<div>\n",
       "<style scoped>\n",
       "    .dataframe tbody tr th:only-of-type {\n",
       "        vertical-align: middle;\n",
       "    }\n",
       "\n",
       "    .dataframe tbody tr th {\n",
       "        vertical-align: top;\n",
       "    }\n",
       "\n",
       "    .dataframe thead th {\n",
       "        text-align: right;\n",
       "    }\n",
       "</style>\n",
       "<table border=\"1\" class=\"dataframe\">\n",
       "  <thead>\n",
       "    <tr style=\"text-align: right;\">\n",
       "      <th></th>\n",
       "      <th></th>\n",
       "      <th>Ad_Effect/Content</th>\n",
       "      <th>User_Satisfaction</th>\n",
       "    </tr>\n",
       "    <tr>\n",
       "      <th>Gender</th>\n",
       "      <th>Ad Channel type</th>\n",
       "      <th></th>\n",
       "      <th></th>\n",
       "    </tr>\n",
       "  </thead>\n",
       "  <tbody>\n",
       "    <tr>\n",
       "      <th rowspan=\"3\" valign=\"top\">Female</th>\n",
       "      <th>Mixed Media</th>\n",
       "      <td>3.000000</td>\n",
       "      <td>4.000000</td>\n",
       "    </tr>\n",
       "    <tr>\n",
       "      <th>Online Media</th>\n",
       "      <td>3.772727</td>\n",
       "      <td>4.181818</td>\n",
       "    </tr>\n",
       "    <tr>\n",
       "      <th>Traditional Media</th>\n",
       "      <td>3.214286</td>\n",
       "      <td>4.000000</td>\n",
       "    </tr>\n",
       "    <tr>\n",
       "      <th rowspan=\"3\" valign=\"top\">Male</th>\n",
       "      <th>Mixed Media</th>\n",
       "      <td>4.384615</td>\n",
       "      <td>4.538462</td>\n",
       "    </tr>\n",
       "    <tr>\n",
       "      <th>Online Media</th>\n",
       "      <td>4.277778</td>\n",
       "      <td>4.333333</td>\n",
       "    </tr>\n",
       "    <tr>\n",
       "      <th>Traditional Media</th>\n",
       "      <td>4.125000</td>\n",
       "      <td>4.500000</td>\n",
       "    </tr>\n",
       "  </tbody>\n",
       "</table>\n",
       "</div>"
      ],
      "text/plain": [
       "                          Ad_Effect/Content  User_Satisfaction\n",
       "Gender Ad Channel type                                        \n",
       "Female Mixed Media                 3.000000           4.000000\n",
       "       Online Media                3.772727           4.181818\n",
       "       Traditional Media           3.214286           4.000000\n",
       "Male   Mixed Media                 4.384615           4.538462\n",
       "       Online Media                4.277778           4.333333\n",
       "       Traditional Media           4.125000           4.500000"
      ]
     },
     "execution_count": 25,
     "metadata": {},
     "output_type": "execute_result"
    }
   ],
   "source": [
    "#find the average user satisfaction amongst Gender and Ad channel type\n",
    "Data_2.groupby(['Gender','Ad Channel type']).agg({'Ad_Effect/Content':'mean','User_Satisfaction':'mean'})"
   ]
  },
  {
   "cell_type": "code",
   "execution_count": 16,
   "id": "392a168e",
   "metadata": {},
   "outputs": [
    {
     "data": {
      "text/html": [
       "<div>\n",
       "<style scoped>\n",
       "    .dataframe tbody tr th:only-of-type {\n",
       "        vertical-align: middle;\n",
       "    }\n",
       "\n",
       "    .dataframe tbody tr th {\n",
       "        vertical-align: top;\n",
       "    }\n",
       "\n",
       "    .dataframe thead th {\n",
       "        text-align: right;\n",
       "    }\n",
       "</style>\n",
       "<table border=\"1\" class=\"dataframe\">\n",
       "  <thead>\n",
       "    <tr style=\"text-align: right;\">\n",
       "      <th></th>\n",
       "      <th>Ad Channel type</th>\n",
       "      <th>Gender</th>\n",
       "      <th>Count</th>\n",
       "    </tr>\n",
       "  </thead>\n",
       "  <tbody>\n",
       "    <tr>\n",
       "      <th>0</th>\n",
       "      <td>Mixed Media</td>\n",
       "      <td>Female</td>\n",
       "      <td>2</td>\n",
       "    </tr>\n",
       "    <tr>\n",
       "      <th>1</th>\n",
       "      <td>Mixed Media</td>\n",
       "      <td>Male</td>\n",
       "      <td>13</td>\n",
       "    </tr>\n",
       "    <tr>\n",
       "      <th>2</th>\n",
       "      <td>Online Media</td>\n",
       "      <td>Female</td>\n",
       "      <td>11</td>\n",
       "    </tr>\n",
       "    <tr>\n",
       "      <th>3</th>\n",
       "      <td>Online Media</td>\n",
       "      <td>Male</td>\n",
       "      <td>9</td>\n",
       "    </tr>\n",
       "    <tr>\n",
       "      <th>4</th>\n",
       "      <td>Traditional Media</td>\n",
       "      <td>Female</td>\n",
       "      <td>7</td>\n",
       "    </tr>\n",
       "    <tr>\n",
       "      <th>5</th>\n",
       "      <td>Traditional Media</td>\n",
       "      <td>Male</td>\n",
       "      <td>4</td>\n",
       "    </tr>\n",
       "  </tbody>\n",
       "</table>\n",
       "</div>"
      ],
      "text/plain": [
       "     Ad Channel type  Gender  Count\n",
       "0        Mixed Media  Female      2\n",
       "1        Mixed Media    Male     13\n",
       "2       Online Media  Female     11\n",
       "3       Online Media    Male      9\n",
       "4  Traditional Media  Female      7\n",
       "5  Traditional Media    Male      4"
      ]
     },
     "execution_count": 16,
     "metadata": {},
     "output_type": "execute_result"
    }
   ],
   "source": [
    "#find ad channel type amongst Gender\n",
    "Data_2.groupby(['Ad Channel type', 'Gender']).size().reset_index(name='Count')\n"
   ]
  },
  {
   "cell_type": "code",
   "execution_count": 19,
   "id": "91dfd6cd",
   "metadata": {},
   "outputs": [
    {
     "data": {
      "text/html": [
       "<div>\n",
       "<style scoped>\n",
       "    .dataframe tbody tr th:only-of-type {\n",
       "        vertical-align: middle;\n",
       "    }\n",
       "\n",
       "    .dataframe tbody tr th {\n",
       "        vertical-align: top;\n",
       "    }\n",
       "\n",
       "    .dataframe thead th {\n",
       "        text-align: right;\n",
       "    }\n",
       "</style>\n",
       "<table border=\"1\" class=\"dataframe\">\n",
       "  <thead>\n",
       "    <tr style=\"text-align: right;\">\n",
       "      <th></th>\n",
       "      <th>Ad Channel type</th>\n",
       "      <th>Age</th>\n",
       "      <th>Count</th>\n",
       "    </tr>\n",
       "  </thead>\n",
       "  <tbody>\n",
       "    <tr>\n",
       "      <th>0</th>\n",
       "      <td>Mixed Media</td>\n",
       "      <td>35-44</td>\n",
       "      <td>4</td>\n",
       "    </tr>\n",
       "    <tr>\n",
       "      <th>1</th>\n",
       "      <td>Mixed Media</td>\n",
       "      <td>45-54</td>\n",
       "      <td>7</td>\n",
       "    </tr>\n",
       "    <tr>\n",
       "      <th>2</th>\n",
       "      <td>Mixed Media</td>\n",
       "      <td>55-65</td>\n",
       "      <td>2</td>\n",
       "    </tr>\n",
       "    <tr>\n",
       "      <th>3</th>\n",
       "      <td>Mixed Media</td>\n",
       "      <td>65 or older</td>\n",
       "      <td>2</td>\n",
       "    </tr>\n",
       "    <tr>\n",
       "      <th>4</th>\n",
       "      <td>Online Media</td>\n",
       "      <td>25-34</td>\n",
       "      <td>10</td>\n",
       "    </tr>\n",
       "    <tr>\n",
       "      <th>5</th>\n",
       "      <td>Online Media</td>\n",
       "      <td>35-44</td>\n",
       "      <td>8</td>\n",
       "    </tr>\n",
       "    <tr>\n",
       "      <th>6</th>\n",
       "      <td>Online Media</td>\n",
       "      <td>45-54</td>\n",
       "      <td>2</td>\n",
       "    </tr>\n",
       "    <tr>\n",
       "      <th>7</th>\n",
       "      <td>Traditional Media</td>\n",
       "      <td>25-34</td>\n",
       "      <td>2</td>\n",
       "    </tr>\n",
       "    <tr>\n",
       "      <th>8</th>\n",
       "      <td>Traditional Media</td>\n",
       "      <td>35-44</td>\n",
       "      <td>2</td>\n",
       "    </tr>\n",
       "    <tr>\n",
       "      <th>9</th>\n",
       "      <td>Traditional Media</td>\n",
       "      <td>45-54</td>\n",
       "      <td>5</td>\n",
       "    </tr>\n",
       "    <tr>\n",
       "      <th>10</th>\n",
       "      <td>Traditional Media</td>\n",
       "      <td>55-65</td>\n",
       "      <td>2</td>\n",
       "    </tr>\n",
       "  </tbody>\n",
       "</table>\n",
       "</div>"
      ],
      "text/plain": [
       "      Ad Channel type          Age  Count\n",
       "0         Mixed Media        35-44      4\n",
       "1         Mixed Media        45-54      7\n",
       "2         Mixed Media        55-65      2\n",
       "3         Mixed Media  65 or older      2\n",
       "4        Online Media        25-34     10\n",
       "5        Online Media        35-44      8\n",
       "6        Online Media        45-54      2\n",
       "7   Traditional Media        25-34      2\n",
       "8   Traditional Media        35-44      2\n",
       "9   Traditional Media        45-54      5\n",
       "10  Traditional Media        55-65      2"
      ]
     },
     "execution_count": 19,
     "metadata": {},
     "output_type": "execute_result"
    }
   ],
   "source": [
    "#find ad channel type amongst age groups\n",
    "Data_2.groupby(['Ad Channel type', 'Age']).size().reset_index(name='Count')"
   ]
  },
  {
   "cell_type": "code",
   "execution_count": 26,
   "id": "802f7048",
   "metadata": {},
   "outputs": [
    {
     "data": {
      "text/plain": [
       "Gender\n",
       "Female     9\n",
       "Male      17\n",
       "dtype: int64"
      ]
     },
     "execution_count": 26,
     "metadata": {},
     "output_type": "execute_result"
    }
   ],
   "source": [
    "#To find which gender remits monthly\n",
    "monthly_counts=Data_2[Data_2['Remittance Frequency'] == 'Monthly'].groupby('Gender').size()\n",
    "monthly_counts"
   ]
  },
  {
   "cell_type": "code",
   "execution_count": 27,
   "id": "c9d6c885",
   "metadata": {},
   "outputs": [
    {
     "data": {
      "image/png": "[encoded data removed]",
      "text/plain": [
       "<Figure size 640x480 with 1 Axes>"
      ]
     },
     "metadata": {},
     "output_type": "display_data"
    }
   ],
   "source": [
    "#visually\n",
    "# Filter data for monthly remittances\n",
    "monthly_data = Data_2[Data_2['Remittance Frequency'] == 'Monthly']\n",
    "\n",
    "# Count the occurrences for each gender\n",
    "monthly_counts = monthly_data['Gender'].value_counts()\n",
    "\n",
    "# Create a pie chart\n",
    "plt.pie(monthly_counts, labels=monthly_counts.index, autopct='%1.1f%%', startangle=90, colors=['lightblue', 'lightcoral'])\n",
    "\n",
    "plt.title('Number of Individuals with Monthly Remittance by Gender')\n",
    "\n",
    "plt.show()"
   ]
  },
  {
   "cell_type": "code",
   "execution_count": 28,
   "id": "62626c4f",
   "metadata": {},
   "outputs": [
    {
     "data": {
      "text/plain": [
       "Ethnicity\n",
       "Asian                         5\n",
       "Black or African American    13\n",
       "Caucasian/White               2\n",
       "Hispanic/Latino               6\n",
       "dtype: int64"
      ]
     },
     "execution_count": 28,
     "metadata": {},
     "output_type": "execute_result"
    }
   ],
   "source": [
    "#to find which Ethinity remits monthly\n",
    "Data_2[Data_2['Remittance Frequency'] =='Monthly'].groupby('Ethnicity').size()"
   ]
  },
  {
   "cell_type": "code",
   "execution_count": 29,
   "id": "c0fdfd8a",
   "metadata": {},
   "outputs": [
    {
     "data": {
      "image/png": "[encoded data removed]",
      "text/plain": [
       "<Figure size 640x480 with 1 Axes>"
      ]
     },
     "metadata": {},
     "output_type": "display_data"
    }
   ],
   "source": [
    "#Showing it visually\n",
    "# Filter data for monthly remittances\n",
    "monthly_data = Data_2[Data_2['Remittance Frequency'] == 'Monthly']\n",
    "\n",
    "# Group by ethnicity and count occurrences\n",
    "monthly_counts_by_ethnicity = monthly_data['Ethnicity'].value_counts()\n",
    "\n",
    "\n",
    "monthly_counts_by_ethnicity.plot(kind='bar', color='skyblue')\n",
    "\n",
    "plt.xlabel('Ethnicity')\n",
    "plt.ylabel('Count')\n",
    "plt.title('Distribution of Monthly Remittances by Ethnicity')\n",
    "\n",
    "plt.show()\n"
   ]
  },
  {
   "cell_type": "code",
   "execution_count": 30,
   "id": "8587ac1d",
   "metadata": {},
   "outputs": [
    {
     "data": {
      "text/html": [
       "<div>\n",
       "<style scoped>\n",
       "    .dataframe tbody tr th:only-of-type {\n",
       "        vertical-align: middle;\n",
       "    }\n",
       "\n",
       "    .dataframe tbody tr th {\n",
       "        vertical-align: top;\n",
       "    }\n",
       "\n",
       "    .dataframe thead th {\n",
       "        text-align: right;\n",
       "    }\n",
       "</style>\n",
       "<table border=\"1\" class=\"dataframe\">\n",
       "  <thead>\n",
       "    <tr style=\"text-align: right;\">\n",
       "      <th></th>\n",
       "      <th>Ad Channel type</th>\n",
       "      <th>Gender</th>\n",
       "      <th>Count</th>\n",
       "    </tr>\n",
       "  </thead>\n",
       "  <tbody>\n",
       "    <tr>\n",
       "      <th>0</th>\n",
       "      <td>Mixed Media</td>\n",
       "      <td>Female</td>\n",
       "      <td>1</td>\n",
       "    </tr>\n",
       "    <tr>\n",
       "      <th>1</th>\n",
       "      <td>Mixed Media</td>\n",
       "      <td>Male</td>\n",
       "      <td>9</td>\n",
       "    </tr>\n",
       "    <tr>\n",
       "      <th>2</th>\n",
       "      <td>Online Media</td>\n",
       "      <td>Female</td>\n",
       "      <td>6</td>\n",
       "    </tr>\n",
       "    <tr>\n",
       "      <th>3</th>\n",
       "      <td>Online Media</td>\n",
       "      <td>Male</td>\n",
       "      <td>7</td>\n",
       "    </tr>\n",
       "    <tr>\n",
       "      <th>4</th>\n",
       "      <td>Traditional Media</td>\n",
       "      <td>Female</td>\n",
       "      <td>2</td>\n",
       "    </tr>\n",
       "    <tr>\n",
       "      <th>5</th>\n",
       "      <td>Traditional Media</td>\n",
       "      <td>Male</td>\n",
       "      <td>1</td>\n",
       "    </tr>\n",
       "  </tbody>\n",
       "</table>\n",
       "</div>"
      ],
      "text/plain": [
       "     Ad Channel type  Gender  Count\n",
       "0        Mixed Media  Female      1\n",
       "1        Mixed Media    Male      9\n",
       "2       Online Media  Female      6\n",
       "3       Online Media    Male      7\n",
       "4  Traditional Media  Female      2\n",
       "5  Traditional Media    Male      1"
      ]
     },
     "execution_count": 30,
     "metadata": {},
     "output_type": "execute_result"
    }
   ],
   "source": [
    "#to find  gender who remit monthly and what type of Ad channel they use\n",
    "Data_2[Data_2['Remittance Frequency'] == 'Monthly'].groupby(['Ad Channel type', 'Gender']).size().reset_index(name='Count')"
   ]
  },
  {
   "cell_type": "code",
   "execution_count": 31,
   "id": "b17234da",
   "metadata": {},
   "outputs": [
    {
     "data": {
      "image/png": "[encoded data removed]",
      "text/plain": [
       "<Figure size 1000x600 with 1 Axes>"
      ]
     },
     "metadata": {},
     "output_type": "display_data"
    }
   ],
   "source": [
    "#Showing it Visually\n",
    "# Filter data for monthly remittances\n",
    "monthly_data = Data_2[Data_2['Remittance Frequency'] == 'Monthly']\n",
    "\n",
    "# Group by advertising channel type and gender, and count occurrences\n",
    "monthly_counts_by_channel_gender = monthly_data.groupby(['Ad Channel type', 'Gender']).size().reset_index(name='Count')\n",
    "\n",
    "# Create a grouped bar plot using Seaborn\n",
    "plt.figure(figsize=(10, 6))\n",
    "sns.barplot(x='Ad Channel type', y='Count', hue='Gender', data=monthly_counts_by_channel_gender, palette='pastel')\n",
    "\n",
    "\n",
    "plt.xlabel('Ad Channel type')\n",
    "plt.ylabel('Count')\n",
    "plt.title('Distribution of Monthly Remittances by Ad Channel type and Gender')\n",
    "\n",
    "plt.show()"
   ]
  },
  {
   "cell_type": "code",
   "execution_count": 32,
   "id": "3862d89b",
   "metadata": {},
   "outputs": [
    {
     "data": {
      "text/plain": [
       "Gender\n",
       "Female    5\n",
       "Male      4\n",
       "dtype: int64"
      ]
     },
     "execution_count": 32,
     "metadata": {},
     "output_type": "execute_result"
    }
   ],
   "source": [
    "#To find which gender remits weekly\n",
    "weekly_counts=Data_2[Data_2['Remittance Frequency'] == 'Weekly'].groupby('Gender').size()\n",
    "weekly_counts"
   ]
  },
  {
   "cell_type": "code",
   "execution_count": 33,
   "id": "5d93eca6",
   "metadata": {},
   "outputs": [
    {
     "data": {
      "image/png": "[encoded data removed]",
      "text/plain": [
       "<Figure size 640x480 with 1 Axes>"
      ]
     },
     "metadata": {},
     "output_type": "display_data"
    }
   ],
   "source": [
    "#Visually\n",
    "# Filter data for monthly remittances\n",
    "weekly_data = Data_2[Data_2['Remittance Frequency'] == 'Weekly']\n",
    "\n",
    "# Group by ethnicity and count occurrences\n",
    "weekly_counts_by_gender = weekly_data['Gender'].value_counts()\n",
    "\n",
    "\n",
    "weekly_counts_by_gender.plot(kind='bar', color='skyblue')\n",
    "\n",
    "plt.xlabel('Gender')\n",
    "plt.ylabel('Count')\n",
    "plt.title('Distribution of weekly Remittances by Gender')\n",
    "\n",
    "plt.show()"
   ]
  },
  {
   "cell_type": "code",
   "execution_count": 34,
   "id": "73e62fe8",
   "metadata": {},
   "outputs": [
    {
     "data": {
      "text/plain": [
       "Ethnicity\n",
       "Black or African American    7\n",
       "Hispanic/Latino              2\n",
       "dtype: int64"
      ]
     },
     "execution_count": 34,
     "metadata": {},
     "output_type": "execute_result"
    }
   ],
   "source": [
    "#finding which Ethnicity who remits weekly\n",
    "Data_2[Data_2['Remittance Frequency'] =='Weekly'].groupby('Ethnicity').size()"
   ]
  },
  {
   "cell_type": "code",
   "execution_count": 35,
   "id": "b16d8290",
   "metadata": {},
   "outputs": [
    {
     "data": {
      "image/png": "[encoded data removed]",
      "text/plain": [
       "<Figure size 640x480 with 1 Axes>"
      ]
     },
     "metadata": {},
     "output_type": "display_data"
    }
   ],
   "source": [
    "#Showing it visually\n",
    "# Filter data for weekly remittances\n",
    "weekly_data = Data_2[Data_2['Remittance Frequency'] == 'Weekly']\n",
    "\n",
    "# Group by ethnicity and count occurrences\n",
    "weekly_counts_by_Ethnicity = weekly_data['Ethnicity'].value_counts()\n",
    "\n",
    "\n",
    "weekly_counts_by_Ethnicity.plot(kind='bar', color='lightcoral')\n",
    "\n",
    "plt.xlabel('Ethnicity')\n",
    "plt.ylabel('Count')\n",
    "plt.title('Distribution of weekly Remittances by Ethnicity')\n",
    "\n",
    "plt.show()"
   ]
  },
  {
   "cell_type": "code",
   "execution_count": 36,
   "id": "454dee54",
   "metadata": {},
   "outputs": [
    {
     "data": {
      "text/html": [
       "<div>\n",
       "<style scoped>\n",
       "    .dataframe tbody tr th:only-of-type {\n",
       "        vertical-align: middle;\n",
       "    }\n",
       "\n",
       "    .dataframe tbody tr th {\n",
       "        vertical-align: top;\n",
       "    }\n",
       "\n",
       "    .dataframe thead th {\n",
       "        text-align: right;\n",
       "    }\n",
       "</style>\n",
       "<table border=\"1\" class=\"dataframe\">\n",
       "  <thead>\n",
       "    <tr style=\"text-align: right;\">\n",
       "      <th></th>\n",
       "      <th>Ad Channel type</th>\n",
       "      <th>Gender</th>\n",
       "      <th>Count</th>\n",
       "    </tr>\n",
       "  </thead>\n",
       "  <tbody>\n",
       "    <tr>\n",
       "      <th>0</th>\n",
       "      <td>Mixed Media</td>\n",
       "      <td>Male</td>\n",
       "      <td>3</td>\n",
       "    </tr>\n",
       "    <tr>\n",
       "      <th>1</th>\n",
       "      <td>Online Media</td>\n",
       "      <td>Female</td>\n",
       "      <td>2</td>\n",
       "    </tr>\n",
       "    <tr>\n",
       "      <th>2</th>\n",
       "      <td>Traditional Media</td>\n",
       "      <td>Female</td>\n",
       "      <td>3</td>\n",
       "    </tr>\n",
       "    <tr>\n",
       "      <th>3</th>\n",
       "      <td>Traditional Media</td>\n",
       "      <td>Male</td>\n",
       "      <td>1</td>\n",
       "    </tr>\n",
       "  </tbody>\n",
       "</table>\n",
       "</div>"
      ],
      "text/plain": [
       "     Ad Channel type  Gender  Count\n",
       "0        Mixed Media    Male      3\n",
       "1       Online Media  Female      2\n",
       "2  Traditional Media  Female      3\n",
       "3  Traditional Media    Male      1"
      ]
     },
     "execution_count": 36,
     "metadata": {},
     "output_type": "execute_result"
    }
   ],
   "source": [
    "#to find which  gender who remit weekly and what type of Ad channel they use\n",
    "Data_2[Data_2['Remittance Frequency'] == 'Weekly'].groupby(['Ad Channel type', 'Gender']).size().reset_index(name='Count')\n"
   ]
  },
  {
   "cell_type": "code",
   "execution_count": 37,
   "id": "f675ff30",
   "metadata": {},
   "outputs": [
    {
     "data": {
      "image/png": "[encoded data removed]",
      "text/plain": [
       "<Figure size 1000x600 with 1 Axes>"
      ]
     },
     "metadata": {},
     "output_type": "display_data"
    }
   ],
   "source": [
    "#Visually\n",
    "# Filter data for weekly remittances\n",
    "weekly_data = Data_2[Data_2['Remittance Frequency'] == 'Weekly']\n",
    "\n",
    "# Group by advertising channel type and gender, and count occurrences\n",
    "weekly_counts_by_channel_gender = weekly_data.groupby(['Ad Channel type', 'Gender']).size().reset_index(name='Count')\n",
    "\n",
    "# Create a grouped bar plot using Seaborn\n",
    "plt.figure(figsize=(10, 6))\n",
    "sns.barplot(x='Ad Channel type', y='Count', hue='Gender', data=weekly_counts_by_channel_gender, palette='dark')\n",
    "\n",
    "\n",
    "plt.xlabel('Ad Channel type')\n",
    "plt.ylabel('Count')\n",
    "plt.title('Distribution of weekly Remittances by Ad Channel type and Gender')\n",
    "\n",
    "plt.show()"
   ]
  },
  {
   "cell_type": "code",
   "execution_count": 38,
   "id": "6de581fd",
   "metadata": {},
   "outputs": [
    {
     "data": {
      "text/plain": [
       "Ethnicity\n",
       "Asian                        3\n",
       "Black or African American    1\n",
       "Caucasian/White              1\n",
       "Other (please specify)       1\n",
       "dtype: int64"
      ]
     },
     "execution_count": 38,
     "metadata": {},
     "output_type": "execute_result"
    }
   ],
   "source": [
    "#To find which ethnicity remits Rarely\n",
    "rare_counts=Data_2[Data_2['Remittance Frequency'] =='Rarely'].groupby('Ethnicity').size()\n",
    "rare_counts"
   ]
  },
  {
   "cell_type": "code",
   "execution_count": 39,
   "id": "ea262539",
   "metadata": {},
   "outputs": [
    {
     "data": {
      "text/plain": [
       "Ethnicity\n",
       "Black or African American    3\n",
       "Caucasian/White              1\n",
       "Hispanic/Latino              1\n",
       "dtype: int64"
      ]
     },
     "execution_count": 39,
     "metadata": {},
     "output_type": "execute_result"
    }
   ],
   "source": [
    "#To find which ethnicity remits occasionally\n",
    "ocassional_counts=Data_2[Data_2['Remittance Frequency'] =='Occasionally'].groupby('Ethnicity').size()\n",
    "ocassional_counts"
   ]
  },
  {
   "cell_type": "code",
   "execution_count": 40,
   "id": "d8646070",
   "metadata": {},
   "outputs": [
    {
     "data": {
      "text/plain": [
       "7"
      ]
     },
     "execution_count": 40,
     "metadata": {},
     "output_type": "execute_result"
    }
   ],
   "source": [
    "#Just to filter monthly remitters by Online media and Daily exposure\n",
    "filtered = Data_2[(Data_2['Remittance Frequency']=='Monthly') &\n",
    "(Data_2['Ad Channel type']== 'Online Media') &\n",
    "(Data_2['Ad Exposure']== 'Daily')]\n",
    "filtered.shape[0]"
   ]
  },
  {
   "cell_type": "code",
   "execution_count": 10,
   "id": "ef9c1377",
   "metadata": {},
   "outputs": [
    {
     "data": {
      "text/plain": [
       "3"
      ]
     },
     "execution_count": 10,
     "metadata": {},
     "output_type": "execute_result"
    }
   ],
   "source": [
    "#Just to filter monthly remitters by Online media and Weekly exposure\n",
    "filtered = Data_2[(Data_2['Remittance Frequency']=='Monthly') &\n",
    "(Data_2['Ad Channel type']== 'Online Media') &\n",
    "(Data_2['Ad Exposure']== 'Weekly')]\n",
    "filtered.shape[0]"
   ]
  },
  {
   "cell_type": "code",
   "execution_count": 41,
   "id": "3f28030a",
   "metadata": {},
   "outputs": [
    {
     "data": {
      "text/plain": [
       "2"
      ]
     },
     "execution_count": 41,
     "metadata": {},
     "output_type": "execute_result"
    }
   ],
   "source": [
    "#Just to filter weekly remitters by Online media and Daily exposure\n",
    "filtered_2 = Data_2[(Data_2['Remittance Frequency']=='Weekly') &\n",
    "(Data_2['Ad Channel type']== 'Online Media') &\n",
    "(Data_2['Ad Exposure']== 'Daily')]\n",
    "filtered_2.shape[0]"
   ]
  },
  {
   "cell_type": "code",
   "execution_count": 42,
   "id": "6a57f479",
   "metadata": {},
   "outputs": [
    {
     "data": {
      "text/plain": [
       "3"
      ]
     },
     "execution_count": 42,
     "metadata": {},
     "output_type": "execute_result"
    }
   ],
   "source": [
    "#Just to filter monthly remitters by Online media and less exposure\n",
    "filtered_3 = Data_2[(Data_2['Remittance Frequency']=='Monthly') &\n",
    "(Data_2['Ad Channel type']== 'Online Media') &\n",
    "(Data_2['Ad Exposure']== 'Once in a while')] \n",
    "filtered_3.shape[0]"
   ]
  },
  {
   "cell_type": "code",
   "execution_count": 43,
   "id": "90478df5",
   "metadata": {},
   "outputs": [
    {
     "data": {
      "text/plain": [
       "0"
      ]
     },
     "execution_count": 43,
     "metadata": {},
     "output_type": "execute_result"
    }
   ],
   "source": [
    "#Just to filter occassionally & rarely remitters by Online media and exposure once in a while\n",
    "filtered_4 = Data_2[(Data_2['Remittance Frequency']=='Ocassionally') & (Data_2['Remittance Frequency']== 'Rarely') &\n",
    "(Data_2['Ad Channel type']== 'Online Media') &\n",
    "(Data_2['Ad Exposure']== 'Once in a while')]\n",
    "filtered_4.shape[0]"
   ]
  },
  {
   "cell_type": "code",
   "execution_count": 44,
   "id": "75d156bf",
   "metadata": {},
   "outputs": [
    {
     "data": {
      "text/plain": [
       "0"
      ]
     },
     "execution_count": 44,
     "metadata": {},
     "output_type": "execute_result"
    }
   ],
   "source": [
    "#to filter monthly remitters by traditional media and less exposure\n",
    "filtered_5 = Data_2[(Data_2['Remittance Frequency']=='Monthly')  &\n",
    "(Data_2['Ad Channel type']== 'Traditional media') &\n",
    "(Data_2['Ad Exposure']== 'Once in a while')]\n",
    "filtered_5.shape[0]"
   ]
  },
  {
   "cell_type": "code",
   "execution_count": 45,
   "id": "5957fa9d",
   "metadata": {},
   "outputs": [
    {
     "data": {
      "text/plain": [
       "13"
      ]
     },
     "execution_count": 45,
     "metadata": {},
     "output_type": "execute_result"
    }
   ],
   "source": [
    "#to filter weekly remitters by Online media and much exposure\n",
    "filtered_6 = Data_2[(Data_2['Remittance Frequency']=='Weekly')  &\n",
    "(Data_2['Ad Channel type']== 'Online Media') |\n",
    "(Data_2['Ad Exposure']== 'Daily')]\n",
    "filtered_6.shape[0]"
   ]
  },
  {
   "cell_type": "code",
   "execution_count": 46,
   "id": "b2468f6e",
   "metadata": {},
   "outputs": [
    {
     "data": {
      "text/html": [
       "<div>\n",
       "<style scoped>\n",
       "    .dataframe tbody tr th:only-of-type {\n",
       "        vertical-align: middle;\n",
       "    }\n",
       "\n",
       "    .dataframe tbody tr th {\n",
       "        vertical-align: top;\n",
       "    }\n",
       "\n",
       "    .dataframe thead th {\n",
       "        text-align: right;\n",
       "    }\n",
       "</style>\n",
       "<table border=\"1\" class=\"dataframe\">\n",
       "  <thead>\n",
       "    <tr style=\"text-align: right;\">\n",
       "      <th></th>\n",
       "      <th>Gender</th>\n",
       "      <th>Age</th>\n",
       "      <th>Occupation</th>\n",
       "      <th>Educational level</th>\n",
       "      <th>Ethnicity</th>\n",
       "      <th>Remittance Frequency</th>\n",
       "      <th>Remittance Service Count</th>\n",
       "      <th>Ad Exposure</th>\n",
       "      <th>Ad_Effectiveness rating</th>\n",
       "      <th>User_Satisfaction</th>\n",
       "      <th>Ad_Content_rate</th>\n",
       "      <th>Ad Channel type</th>\n",
       "      <th>Ad_Effect/Content</th>\n",
       "    </tr>\n",
       "  </thead>\n",
       "  <tbody>\n",
       "    <tr>\n",
       "      <th>2</th>\n",
       "      <td>Female</td>\n",
       "      <td>25-34</td>\n",
       "      <td>Employed</td>\n",
       "      <td>Master's Degree</td>\n",
       "      <td>Black or African American</td>\n",
       "      <td>Weekly</td>\n",
       "      <td>4</td>\n",
       "      <td>Daily</td>\n",
       "      <td>4</td>\n",
       "      <td>4</td>\n",
       "      <td>5</td>\n",
       "      <td>Online Media</td>\n",
       "      <td>4.5</td>\n",
       "    </tr>\n",
       "    <tr>\n",
       "      <th>4</th>\n",
       "      <td>Male</td>\n",
       "      <td>35-44</td>\n",
       "      <td>Employed</td>\n",
       "      <td>Master's Degree</td>\n",
       "      <td>Black or African American</td>\n",
       "      <td>Weekly</td>\n",
       "      <td>4</td>\n",
       "      <td>Daily</td>\n",
       "      <td>4</td>\n",
       "      <td>4</td>\n",
       "      <td>5</td>\n",
       "      <td>Mixed Media</td>\n",
       "      <td>4.5</td>\n",
       "    </tr>\n",
       "  </tbody>\n",
       "</table>\n",
       "</div>"
      ],
      "text/plain": [
       "   Gender    Age Occupation Educational level                  Ethnicity  \\\n",
       "2  Female  25-34   Employed   Master's Degree  Black or African American   \n",
       "4    Male  35-44   Employed   Master's Degree  Black or African American   \n",
       "\n",
       "  Remittance Frequency  Remittance Service Count Ad Exposure  \\\n",
       "2               Weekly                         4       Daily   \n",
       "4               Weekly                         4       Daily   \n",
       "\n",
       "   Ad_Effectiveness rating  User_Satisfaction  Ad_Content_rate  \\\n",
       "2                        4                  4                5   \n",
       "4                        4                  4                5   \n",
       "\n",
       "  Ad Channel type  Ad_Effect/Content  \n",
       "2    Online Media                4.5  \n",
       "4     Mixed Media                4.5  "
      ]
     },
     "execution_count": 46,
     "metadata": {},
     "output_type": "execute_result"
    }
   ],
   "source": [
    "#filtering for highest remittance service/apps\n",
    "Data_2[Data_2['Remittance Service Count']==Data_2['Remittance Service Count'].max()]"
   ]
  },
  {
   "cell_type": "code",
   "execution_count": 47,
   "id": "e3c68a57",
   "metadata": {},
   "outputs": [
    {
     "data": {
      "text/html": [
       "<div>\n",
       "<style scoped>\n",
       "    .dataframe tbody tr th:only-of-type {\n",
       "        vertical-align: middle;\n",
       "    }\n",
       "\n",
       "    .dataframe tbody tr th {\n",
       "        vertical-align: top;\n",
       "    }\n",
       "\n",
       "    .dataframe thead th {\n",
       "        text-align: right;\n",
       "    }\n",
       "</style>\n",
       "<table border=\"1\" class=\"dataframe\">\n",
       "  <thead>\n",
       "    <tr style=\"text-align: right;\">\n",
       "      <th></th>\n",
       "      <th>Remittance Service Count</th>\n",
       "      <th>Ad_Effectiveness rating</th>\n",
       "      <th>User_Satisfaction</th>\n",
       "      <th>Ad_Content_rate</th>\n",
       "      <th>Ad_Effect/Content</th>\n",
       "    </tr>\n",
       "  </thead>\n",
       "  <tbody>\n",
       "    <tr>\n",
       "      <th>count</th>\n",
       "      <td>46.000000</td>\n",
       "      <td>46.000000</td>\n",
       "      <td>46.000000</td>\n",
       "      <td>46.000000</td>\n",
       "      <td>46.000000</td>\n",
       "    </tr>\n",
       "    <tr>\n",
       "      <th>mean</th>\n",
       "      <td>1.456522</td>\n",
       "      <td>3.869565</td>\n",
       "      <td>4.304348</td>\n",
       "      <td>4.043478</td>\n",
       "      <td>3.956522</td>\n",
       "    </tr>\n",
       "    <tr>\n",
       "      <th>std</th>\n",
       "      <td>0.861691</td>\n",
       "      <td>1.292864</td>\n",
       "      <td>0.785127</td>\n",
       "      <td>1.210262</td>\n",
       "      <td>1.094563</td>\n",
       "    </tr>\n",
       "    <tr>\n",
       "      <th>min</th>\n",
       "      <td>0.000000</td>\n",
       "      <td>1.000000</td>\n",
       "      <td>3.000000</td>\n",
       "      <td>1.000000</td>\n",
       "      <td>1.000000</td>\n",
       "    </tr>\n",
       "    <tr>\n",
       "      <th>25%</th>\n",
       "      <td>1.000000</td>\n",
       "      <td>3.250000</td>\n",
       "      <td>4.000000</td>\n",
       "      <td>3.250000</td>\n",
       "      <td>3.125000</td>\n",
       "    </tr>\n",
       "    <tr>\n",
       "      <th>50%</th>\n",
       "      <td>1.000000</td>\n",
       "      <td>4.000000</td>\n",
       "      <td>4.500000</td>\n",
       "      <td>4.000000</td>\n",
       "      <td>4.500000</td>\n",
       "    </tr>\n",
       "    <tr>\n",
       "      <th>75%</th>\n",
       "      <td>2.000000</td>\n",
       "      <td>5.000000</td>\n",
       "      <td>5.000000</td>\n",
       "      <td>5.000000</td>\n",
       "      <td>5.000000</td>\n",
       "    </tr>\n",
       "    <tr>\n",
       "      <th>max</th>\n",
       "      <td>4.000000</td>\n",
       "      <td>5.000000</td>\n",
       "      <td>5.000000</td>\n",
       "      <td>5.000000</td>\n",
       "      <td>5.000000</td>\n",
       "    </tr>\n",
       "  </tbody>\n",
       "</table>\n",
       "</div>"
      ],
      "text/plain": [
       "       Remittance Service Count  Ad_Effectiveness rating  User_Satisfaction  \\\n",
       "count                 46.000000                46.000000          46.000000   \n",
       "mean                   1.456522                 3.869565           4.304348   \n",
       "std                    0.861691                 1.292864           0.785127   \n",
       "min                    0.000000                 1.000000           3.000000   \n",
       "25%                    1.000000                 3.250000           4.000000   \n",
       "50%                    1.000000                 4.000000           4.500000   \n",
       "75%                    2.000000                 5.000000           5.000000   \n",
       "max                    4.000000                 5.000000           5.000000   \n",
       "\n",
       "       Ad_Content_rate  Ad_Effect/Content  \n",
       "count        46.000000          46.000000  \n",
       "mean          4.043478           3.956522  \n",
       "std           1.210262           1.094563  \n",
       "min           1.000000           1.000000  \n",
       "25%           3.250000           3.125000  \n",
       "50%           4.000000           4.500000  \n",
       "75%           5.000000           5.000000  \n",
       "max           5.000000           5.000000  "
      ]
     },
     "execution_count": 47,
     "metadata": {},
     "output_type": "execute_result"
    }
   ],
   "source": [
    "#multiple descriptive statistics of data\n",
    "Data_2.describe()"
   ]
  },
  {
   "cell_type": "code",
   "execution_count": 48,
   "id": "8a628952",
   "metadata": {},
   "outputs": [
    {
     "data": {
      "text/plain": [
       "\" The mean and median being close does suggest symmetry in the distribution, but it doesn't guarantee it\""
      ]
     },
     "execution_count": 48,
     "metadata": {},
     "output_type": "execute_result"
    }
   ],
   "source": [
    "''' The mean and median being close does suggest symmetry in the distribution, but it doesn't guarantee it'''"
   ]
  },
  {
   "cell_type": "code",
   "execution_count": 49,
   "id": "2d068908",
   "metadata": {},
   "outputs": [
    {
     "data": {
      "image/png": "[encoded data removed]",
      "text/plain": [
       "<Figure size 1200x800 with 1 Axes>"
      ]
     },
     "metadata": {},
     "output_type": "display_data"
    }
   ],
   "source": [
    "#Checking if the data is skewed\n",
    "\n",
    "plt.figure(figsize=(12, 8)) \n",
    "sns.boxplot(data=Data_2)\n",
    "\n",
    "plt.title('Box Plot of individual columns')\n",
    "\n",
    "\n",
    "plt.show()"
   ]
  },
  {
   "cell_type": "code",
   "execution_count": 50,
   "id": "fdf67876",
   "metadata": {},
   "outputs": [
    {
     "data": {
      "text/plain": [
       "' Remittance Service Count colunm is rightly skewed and has an outlier\\n Ad_Effectiveness rating is left skewed\\n User_Satisfaction is rightly skewed\\n Ad_Content_rate is symmetrically distributed '"
      ]
     },
     "execution_count": 50,
     "metadata": {},
     "output_type": "execute_result"
    }
   ],
   "source": [
    "''' Remittance Service Count colunm is rightly skewed and has an outlier\n",
    " Ad_Effectiveness rating is left skewed\n",
    " User_Satisfaction is rightly skewed\n",
    " Ad_Content_rate is symmetrically distributed '''"
   ]
  },
  {
   "cell_type": "code",
   "execution_count": 51,
   "id": "065cb32f",
   "metadata": {},
   "outputs": [],
   "source": [
    "#Saving explored data\n",
    "Data_2.to_excel('explored_responses.xlsx', index=False)"
   ]
  },
  {
   "cell_type": "code",
   "execution_count": 59,
   "id": "79befb96",
   "metadata": {},
   "outputs": [
    {
     "data": {
      "text/plain": [
       "0.5291857850809084"
      ]
     },
     "execution_count": 59,
     "metadata": {},
     "output_type": "execute_result"
    }
   ],
   "source": [
    "#find correlation in two columns\n",
    "Data_2['Ad_Effectiveness rating'].corr(Data_2['Ad_Content_rate'])"
   ]
  },
  {
   "cell_type": "code",
   "execution_count": 60,
   "id": "8bbca351",
   "metadata": {},
   "outputs": [
    {
     "data": {
      "text/plain": [
       "'A correlation coefficient of 0.529 suggests a moderate positive correlation\\nThere is a tendency for higher effectiveness ratings to be associated with higher content rate'"
      ]
     },
     "execution_count": 60,
     "metadata": {},
     "output_type": "execute_result"
    }
   ],
   "source": [
    "'''A correlation coefficient of 0.529 suggests a moderate positive correlation\n",
    "There is a tendency for higher effectiveness ratings to be associated with higher content rate'''"
   ]
  },
  {
   "cell_type": "code",
   "execution_count": 61,
   "id": "b792391c",
   "metadata": {},
   "outputs": [
    {
     "data": {
      "image/png": "[encoded data removed]",
      "text/plain": [
       "<Figure size 800x600 with 1 Axes>"
      ]
     },
     "metadata": {},
     "output_type": "display_data"
    }
   ],
   "source": [
    "# visually\n",
    "plt.figure(figsize=(8, 6))\n",
    "\n",
    "sns.scatterplot(x='Ad_Effectiveness rating', y='Ad_Content_rate', data=Data_2, alpha=0.5)\n",
    "plt.title('Scatter Plot: Ad_Effectiveness rating  vs.Ad_Content_rate ')\n",
    "plt.show()"
   ]
  },
  {
   "cell_type": "code",
   "execution_count": 63,
   "id": "dc893105",
   "metadata": {},
   "outputs": [
    {
     "data": {
      "text/html": [
       "<div>\n",
       "<style scoped>\n",
       "    .dataframe tbody tr th:only-of-type {\n",
       "        vertical-align: middle;\n",
       "    }\n",
       "\n",
       "    .dataframe tbody tr th {\n",
       "        vertical-align: top;\n",
       "    }\n",
       "\n",
       "    .dataframe thead th {\n",
       "        text-align: right;\n",
       "    }\n",
       "</style>\n",
       "<table border=\"1\" class=\"dataframe\">\n",
       "  <thead>\n",
       "    <tr style=\"text-align: right;\">\n",
       "      <th></th>\n",
       "      <th>Remittance Service Count</th>\n",
       "      <th>Ad_Effectiveness rating</th>\n",
       "      <th>User_Satisfaction</th>\n",
       "      <th>Ad_Content_rate</th>\n",
       "      <th>Ad_Effect/Content</th>\n",
       "    </tr>\n",
       "  </thead>\n",
       "  <tbody>\n",
       "    <tr>\n",
       "      <th>0</th>\n",
       "      <td>1</td>\n",
       "      <td>5</td>\n",
       "      <td>4</td>\n",
       "      <td>5</td>\n",
       "      <td>5.0</td>\n",
       "    </tr>\n",
       "    <tr>\n",
       "      <th>1</th>\n",
       "      <td>1</td>\n",
       "      <td>4</td>\n",
       "      <td>4</td>\n",
       "      <td>5</td>\n",
       "      <td>4.5</td>\n",
       "    </tr>\n",
       "  </tbody>\n",
       "</table>\n",
       "</div>"
      ],
      "text/plain": [
       "   Remittance Service Count  Ad_Effectiveness rating  User_Satisfaction  \\\n",
       "0                         1                        5                  4   \n",
       "1                         1                        4                  4   \n",
       "\n",
       "   Ad_Content_rate  Ad_Effect/Content  \n",
       "0                5                5.0  \n",
       "1                5                4.5  "
      ]
     },
     "execution_count": 63,
     "metadata": {},
     "output_type": "execute_result"
    }
   ],
   "source": [
    "#selecting only numeric fields in the data\n",
    "numeric = Data_2.select_dtypes(include=['int64','float64']) \n",
    "numeric.head(2)"
   ]
  },
  {
   "cell_type": "code",
   "execution_count": 64,
   "id": "146a8de3",
   "metadata": {},
   "outputs": [
    {
     "data": {
      "text/plain": [
       "<Axes: >"
      ]
     },
     "execution_count": 64,
     "metadata": {},
     "output_type": "execute_result"
    },
    {
     "data": {
      "image/png": "[encoded data removed]",
      "text/plain": [
       "<Figure size 640x480 with 2 Axes>"
      ]
     },
     "metadata": {},
     "output_type": "display_data"
    }
   ],
   "source": [
    "#Checking for correlation in the data\n",
    "sns.heatmap(numeric.corr(),annot=True, xticklabels = numeric.corr().columns,yticklabels = numeric.corr().columns)"
   ]
  },
  {
   "cell_type": "code",
   "execution_count": null,
   "id": "41ad48f8",
   "metadata": {},
   "outputs": [],
   "source": []
  },
  {
   "cell_type": "code",
   "execution_count": null,
   "id": "cb75eec8",
   "metadata": {},
   "outputs": [],
   "source": []
  }
 ],
 "metadata": {
  "kernelspec": {
   "display_name": "Python 3 (ipykernel)",
   "language": "python",
   "name": "python3"
  },
  "language_info": {
   "codemirror_mode": {
    "name": "ipython",
    "version": 3
   },
   "file_extension": ".py",
   "mimetype": "text/x-python",
   "name": "python",
   "nbconvert_exporter": "python",
   "pygments_lexer": "ipython3",
   "version": "3.11.5"
  }
 },
 "nbformat": 4,
 "nbformat_minor": 5
}
